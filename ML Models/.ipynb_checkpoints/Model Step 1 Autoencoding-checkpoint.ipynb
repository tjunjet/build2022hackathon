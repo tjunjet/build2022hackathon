{
 "cells": [
  {
   "cell_type": "code",
   "execution_count": 1,
   "id": "f39aa668",
   "metadata": {
    "scrolled": true
   },
   "outputs": [],
   "source": [
    "import train_test_generation\n",
    "from keras.layers import Dense,Conv2D,MaxPooling2D,UpSampling2D\n",
    "from keras import Input, Model\n",
    "from keras.datasets import mnist\n",
    "import numpy as np\n",
    "import matplotlib.pyplot as plt\n",
    "import tensorflow as tf\n",
    "from keras import regularizers"
   ]
  },
  {
   "cell_type": "code",
   "execution_count": 2,
   "id": "c3c6ecd8",
   "metadata": {
    "scrolled": true
   },
   "outputs": [
    {
     "name": "stderr",
     "output_type": "stream",
     "text": [
      "C:\\Users\\User\\Documents\\Freshman\\Build 2022\\build2022hackathon\\ML Models\\train_test_generation.py:441: SettingWithCopyWarning: \n",
      "A value is trying to be set on a copy of a slice from a DataFrame\n",
      "\n",
      "See the caveats in the documentation: https://pandas.pydata.org/pandas-docs/stable/user_guide/indexing.html#returning-a-view-versus-a-copy\n",
      "  df[article][ite] = bool(random.getrandbits(1))\n",
      "C:\\Users\\User\\anaconda3\\lib\\site-packages\\pandas\\core\\indexing.py:1637: SettingWithCopyWarning: \n",
      "A value is trying to be set on a copy of a slice from a DataFrame\n",
      "\n",
      "See the caveats in the documentation: https://pandas.pydata.org/pandas-docs/stable/user_guide/indexing.html#returning-a-view-versus-a-copy\n",
      "  self._setitem_single_block(indexer, value, name)\n"
     ]
    }
   ],
   "source": [
    "data = train_test_generation.generatefinaldf(10**5, 'raw', 95)"
   ]
  },
  {
   "cell_type": "code",
   "execution_count": 3,
   "id": "73a8e6e8",
   "metadata": {
    "scrolled": true
   },
   "outputs": [
    {
     "data": {
      "text/html": [
       "<div>\n",
       "<style scoped>\n",
       "    .dataframe tbody tr th:only-of-type {\n",
       "        vertical-align: middle;\n",
       "    }\n",
       "\n",
       "    .dataframe tbody tr th {\n",
       "        vertical-align: top;\n",
       "    }\n",
       "\n",
       "    .dataframe thead th {\n",
       "        text-align: right;\n",
       "    }\n",
       "</style>\n",
       "<table border=\"1\" class=\"dataframe\">\n",
       "  <thead>\n",
       "    <tr style=\"text-align: right;\">\n",
       "      <th></th>\n",
       "      <th>date</th>\n",
       "      <th>temperature</th>\n",
       "      <th>humidity</th>\n",
       "      <th>precipitation</th>\n",
       "      <th>windspeed</th>\n",
       "      <th>age</th>\n",
       "      <th>weight</th>\n",
       "      <th>height</th>\n",
       "      <th>sex</th>\n",
       "      <th>fatpercentage</th>\n",
       "      <th>...</th>\n",
       "      <th>thermal</th>\n",
       "      <th>hoodie</th>\n",
       "      <th>fleece</th>\n",
       "      <th>wool</th>\n",
       "      <th>light_down</th>\n",
       "      <th>thick_down</th>\n",
       "      <th>wind_breaker</th>\n",
       "      <th>umbrella</th>\n",
       "      <th>winter_boots</th>\n",
       "      <th>scoring_difference</th>\n",
       "    </tr>\n",
       "  </thead>\n",
       "  <tbody>\n",
       "    <tr>\n",
       "      <th>0</th>\n",
       "      <td>14/01/2022</td>\n",
       "      <td>3</td>\n",
       "      <td>45</td>\n",
       "      <td>39</td>\n",
       "      <td>7</td>\n",
       "      <td>24</td>\n",
       "      <td>89.637312</td>\n",
       "      <td>172.619549</td>\n",
       "      <td>0</td>\n",
       "      <td>25.418580</td>\n",
       "      <td>...</td>\n",
       "      <td>False</td>\n",
       "      <td>True</td>\n",
       "      <td>False</td>\n",
       "      <td>False</td>\n",
       "      <td>False</td>\n",
       "      <td>True</td>\n",
       "      <td>False</td>\n",
       "      <td>False</td>\n",
       "      <td>False</td>\n",
       "      <td>-3.333333</td>\n",
       "    </tr>\n",
       "    <tr>\n",
       "      <th>1</th>\n",
       "      <td>13/01/2022</td>\n",
       "      <td>-14</td>\n",
       "      <td>61</td>\n",
       "      <td>91</td>\n",
       "      <td>31</td>\n",
       "      <td>18</td>\n",
       "      <td>113.867795</td>\n",
       "      <td>180.939736</td>\n",
       "      <td>0</td>\n",
       "      <td>29.676330</td>\n",
       "      <td>...</td>\n",
       "      <td>True</td>\n",
       "      <td>False</td>\n",
       "      <td>False</td>\n",
       "      <td>True</td>\n",
       "      <td>True</td>\n",
       "      <td>True</td>\n",
       "      <td>True</td>\n",
       "      <td>True</td>\n",
       "      <td>True</td>\n",
       "      <td>0.000000</td>\n",
       "    </tr>\n",
       "    <tr>\n",
       "      <th>2</th>\n",
       "      <td>12/01/2022</td>\n",
       "      <td>12</td>\n",
       "      <td>19</td>\n",
       "      <td>100</td>\n",
       "      <td>38</td>\n",
       "      <td>16</td>\n",
       "      <td>105.205123</td>\n",
       "      <td>176.991378</td>\n",
       "      <td>0</td>\n",
       "      <td>27.780823</td>\n",
       "      <td>...</td>\n",
       "      <td>False</td>\n",
       "      <td>False</td>\n",
       "      <td>False</td>\n",
       "      <td>False</td>\n",
       "      <td>False</td>\n",
       "      <td>False</td>\n",
       "      <td>True</td>\n",
       "      <td>True</td>\n",
       "      <td>False</td>\n",
       "      <td>0.000000</td>\n",
       "    </tr>\n",
       "    <tr>\n",
       "      <th>3</th>\n",
       "      <td>11/01/2022</td>\n",
       "      <td>0</td>\n",
       "      <td>78</td>\n",
       "      <td>38</td>\n",
       "      <td>32</td>\n",
       "      <td>51</td>\n",
       "      <td>98.222861</td>\n",
       "      <td>182.816097</td>\n",
       "      <td>0</td>\n",
       "      <td>30.796711</td>\n",
       "      <td>...</td>\n",
       "      <td>False</td>\n",
       "      <td>False</td>\n",
       "      <td>False</td>\n",
       "      <td>True</td>\n",
       "      <td>False</td>\n",
       "      <td>True</td>\n",
       "      <td>True</td>\n",
       "      <td>False</td>\n",
       "      <td>False</td>\n",
       "      <td>-3.333333</td>\n",
       "    </tr>\n",
       "    <tr>\n",
       "      <th>4</th>\n",
       "      <td>10/01/2022</td>\n",
       "      <td>13</td>\n",
       "      <td>9</td>\n",
       "      <td>72</td>\n",
       "      <td>17</td>\n",
       "      <td>27</td>\n",
       "      <td>83.156689</td>\n",
       "      <td>159.836501</td>\n",
       "      <td>1</td>\n",
       "      <td>39.869485</td>\n",
       "      <td>...</td>\n",
       "      <td>False</td>\n",
       "      <td>False</td>\n",
       "      <td>False</td>\n",
       "      <td>False</td>\n",
       "      <td>False</td>\n",
       "      <td>False</td>\n",
       "      <td>False</td>\n",
       "      <td>True</td>\n",
       "      <td>False</td>\n",
       "      <td>0.000000</td>\n",
       "    </tr>\n",
       "  </tbody>\n",
       "</table>\n",
       "<p>5 rows × 22 columns</p>\n",
       "</div>"
      ],
      "text/plain": [
       "         date  temperature  humidity  precipitation  windspeed  age  \\\n",
       "0  14/01/2022            3        45             39          7   24   \n",
       "1  13/01/2022          -14        61             91         31   18   \n",
       "2  12/01/2022           12        19            100         38   16   \n",
       "3  11/01/2022            0        78             38         32   51   \n",
       "4  10/01/2022           13         9             72         17   27   \n",
       "\n",
       "       weight      height  sex  fatpercentage  ...  thermal  hoodie fleece  \\\n",
       "0   89.637312  172.619549    0      25.418580  ...    False    True  False   \n",
       "1  113.867795  180.939736    0      29.676330  ...     True   False  False   \n",
       "2  105.205123  176.991378    0      27.780823  ...    False   False  False   \n",
       "3   98.222861  182.816097    0      30.796711  ...    False   False  False   \n",
       "4   83.156689  159.836501    1      39.869485  ...    False   False  False   \n",
       "\n",
       "    wool light_down thick_down wind_breaker umbrella winter_boots  \\\n",
       "0  False      False       True        False    False        False   \n",
       "1   True       True       True         True     True         True   \n",
       "2  False      False      False         True     True        False   \n",
       "3   True      False       True         True    False        False   \n",
       "4  False      False      False        False     True        False   \n",
       "\n",
       "  scoring_difference  \n",
       "0          -3.333333  \n",
       "1           0.000000  \n",
       "2           0.000000  \n",
       "3          -3.333333  \n",
       "4           0.000000  \n",
       "\n",
       "[5 rows x 22 columns]"
      ]
     },
     "execution_count": 3,
     "metadata": {},
     "output_type": "execute_result"
    }
   ],
   "source": [
    "data.head()"
   ]
  },
  {
   "cell_type": "code",
   "execution_count": 4,
   "id": "2066f716",
   "metadata": {
    "scrolled": true
   },
   "outputs": [],
   "source": [
    "user_params_df = data[['age', 'weight', 'height', 'sex', 'fatpercentage', 'bmi']]"
   ]
  },
  {
   "cell_type": "code",
   "execution_count": 5,
   "id": "b72d0ed2",
   "metadata": {
    "scrolled": true
   },
   "outputs": [
    {
     "data": {
      "text/html": [
       "<div>\n",
       "<style scoped>\n",
       "    .dataframe tbody tr th:only-of-type {\n",
       "        vertical-align: middle;\n",
       "    }\n",
       "\n",
       "    .dataframe tbody tr th {\n",
       "        vertical-align: top;\n",
       "    }\n",
       "\n",
       "    .dataframe thead th {\n",
       "        text-align: right;\n",
       "    }\n",
       "</style>\n",
       "<table border=\"1\" class=\"dataframe\">\n",
       "  <thead>\n",
       "    <tr style=\"text-align: right;\">\n",
       "      <th></th>\n",
       "      <th>age</th>\n",
       "      <th>weight</th>\n",
       "      <th>height</th>\n",
       "      <th>sex</th>\n",
       "      <th>fatpercentage</th>\n",
       "      <th>bmi</th>\n",
       "    </tr>\n",
       "  </thead>\n",
       "  <tbody>\n",
       "    <tr>\n",
       "      <th>0</th>\n",
       "      <td>24</td>\n",
       "      <td>89.637312</td>\n",
       "      <td>172.619549</td>\n",
       "      <td>0</td>\n",
       "      <td>25.418580</td>\n",
       "      <td>30.082150</td>\n",
       "    </tr>\n",
       "    <tr>\n",
       "      <th>1</th>\n",
       "      <td>18</td>\n",
       "      <td>113.867795</td>\n",
       "      <td>180.939736</td>\n",
       "      <td>0</td>\n",
       "      <td>29.676330</td>\n",
       "      <td>34.780275</td>\n",
       "    </tr>\n",
       "    <tr>\n",
       "      <th>2</th>\n",
       "      <td>16</td>\n",
       "      <td>105.205123</td>\n",
       "      <td>176.991378</td>\n",
       "      <td>0</td>\n",
       "      <td>27.780823</td>\n",
       "      <td>33.584019</td>\n",
       "    </tr>\n",
       "    <tr>\n",
       "      <th>3</th>\n",
       "      <td>51</td>\n",
       "      <td>98.222861</td>\n",
       "      <td>182.816097</td>\n",
       "      <td>0</td>\n",
       "      <td>30.796711</td>\n",
       "      <td>29.388926</td>\n",
       "    </tr>\n",
       "    <tr>\n",
       "      <th>4</th>\n",
       "      <td>27</td>\n",
       "      <td>83.156689</td>\n",
       "      <td>159.836501</td>\n",
       "      <td>1</td>\n",
       "      <td>39.869485</td>\n",
       "      <td>32.549571</td>\n",
       "    </tr>\n",
       "  </tbody>\n",
       "</table>\n",
       "</div>"
      ],
      "text/plain": [
       "   age      weight      height  sex  fatpercentage        bmi\n",
       "0   24   89.637312  172.619549    0      25.418580  30.082150\n",
       "1   18  113.867795  180.939736    0      29.676330  34.780275\n",
       "2   16  105.205123  176.991378    0      27.780823  33.584019\n",
       "3   51   98.222861  182.816097    0      30.796711  29.388926\n",
       "4   27   83.156689  159.836501    1      39.869485  32.549571"
      ]
     },
     "execution_count": 5,
     "metadata": {},
     "output_type": "execute_result"
    }
   ],
   "source": [
    "user_params_df.head()"
   ]
  },
  {
   "cell_type": "code",
   "execution_count": null,
   "id": "ca62d6b2",
   "metadata": {
    "scrolled": true
   },
   "outputs": [],
   "source": [
    "#https://www.analyticsvidhya.com/blog/2021/06/complete-guide-on-how-to-use-autoencoders-in-python/"
   ]
  },
  {
   "cell_type": "code",
   "execution_count": null,
   "id": "69f2f7e9",
   "metadata": {
    "scrolled": true
   },
   "outputs": [],
   "source": [
    "#num = user_params_df.values\n",
    "#num = tf.convert_to_tensor(num)"
   ]
  },
  {
   "cell_type": "code",
   "execution_count": 6,
   "id": "9c68abb1",
   "metadata": {
    "scrolled": true
   },
   "outputs": [],
   "source": [
    "from sklearn.preprocessing import MinMaxScaler \n",
    "X = MinMaxScaler().fit_transform(user_params_df)"
   ]
  },
  {
   "cell_type": "code",
   "execution_count": 7,
   "id": "920155f5",
   "metadata": {
    "scrolled": true
   },
   "outputs": [],
   "source": [
    "#https://www.geeksforgeeks.org/ml-classifying-data-using-an-auto-encoder/"
   ]
  },
  {
   "cell_type": "code",
   "execution_count": 8,
   "id": "156bf695",
   "metadata": {
    "scrolled": true
   },
   "outputs": [],
   "source": [
    "input_layer = Input(shape =(X.shape[1], ))"
   ]
  },
  {
   "cell_type": "code",
   "execution_count": 9,
   "id": "3240f555",
   "metadata": {
    "scrolled": true
   },
   "outputs": [],
   "source": [
    "#building the autoencoder network\n",
    "encoded = Dense(100, activation ='linear',\n",
    "                activity_regularizer = regularizers.l1(10e-5))(input_layer)\n",
    "encoded = Dense(50, activation ='linear',\n",
    "                activity_regularizer = regularizers.l1(10e-5))(encoded)\n",
    "encoded = Dense(25, activation ='linear',\n",
    "                activity_regularizer = regularizers.l1(10e-5))(encoded)\n",
    "encoded = Dense(12, activation ='linear',\n",
    "                activity_regularizer = regularizers.l1(10e-5))(encoded)\n",
    "encoded = Dense(4, activation ='linear')(encoded)\n",
    "  \n",
    "# Building the Decoder network\n",
    "decoded = Dense(12, activation ='linear')(encoded)\n",
    "decoded = Dense(25, activation ='linear')(decoded)\n",
    "decoded = Dense(50, activation ='linear')(decoded)\n",
    "decoded = Dense(100, activation ='linear')(decoded)\n",
    "  \n",
    "# Building the Output Layer\n",
    "output_layer = Dense(X.shape[1], activation ='relu')(decoded)\n",
    "output_layer = Dense(X.shape[1], activation ='relu')(decoded)"
   ]
  },
  {
   "cell_type": "code",
   "execution_count": 10,
   "id": "47fbb5d4",
   "metadata": {
    "scrolled": true
   },
   "outputs": [],
   "source": [
    "autoencoder = Model(input_layer, output_layer)\n",
    "autoencoder.compile(optimizer =\"adam\", loss =\"binary_crossentropy\" , metrics=['accuracy'])"
   ]
  },
  {
   "cell_type": "code",
   "execution_count": null,
   "id": "61514198",
   "metadata": {
    "scrolled": false
   },
   "outputs": [
    {
     "name": "stdout",
     "output_type": "stream",
     "text": [
      "Epoch 1/25\n",
      "4000/4000 [==============================] - 5s 968us/step - loss: 0.5215 - accuracy: 0.9528 - val_loss: 0.4865 - val_accuracy: 0.9650\n",
      "Epoch 2/25\n",
      "4000/4000 [==============================] - 4s 937us/step - loss: 0.4952 - accuracy: 0.9556 - val_loss: 0.5484 - val_accuracy: 0.8974\n",
      "Epoch 3/25\n",
      "4000/4000 [==============================] - 4s 930us/step - loss: 0.4958 - accuracy: 0.9401 - val_loss: 0.5260 - val_accuracy: 0.9591\n",
      "Epoch 4/25\n",
      "4000/4000 [==============================] - 4s 927us/step - loss: 0.4927 - accuracy: 0.9667 - val_loss: 0.4857 - val_accuracy: 0.9747\n",
      "Epoch 5/25\n",
      "4000/4000 [==============================] - 4s 937us/step - loss: 0.4929 - accuracy: 0.9634 - val_loss: 0.5415 - val_accuracy: 0.9519\n",
      "Epoch 6/25\n",
      "4000/4000 [==============================] - 4s 918us/step - loss: 0.4938 - accuracy: 0.9613 - val_loss: 0.5614 - val_accuracy: 0.9401\n",
      "Epoch 7/25\n",
      "4000/4000 [==============================] - 4s 926us/step - loss: 0.5025 - accuracy: 0.9423 - val_loss: 0.4830 - val_accuracy: 0.9746\n",
      "Epoch 8/25\n",
      "4000/4000 [==============================] - 4s 921us/step - loss: 0.4911 - accuracy: 0.9665 - val_loss: 0.4835 - val_accuracy: 0.9462\n",
      "Epoch 9/25\n",
      "4000/4000 [==============================] - 4s 922us/step - loss: 0.4933 - accuracy: 0.9601 - val_loss: 0.5328 - val_accuracy: 0.9099\n",
      "Epoch 10/25\n",
      "4000/4000 [==============================] - 4s 927us/step - loss: 0.4922 - accuracy: 0.9549 - val_loss: 0.4819 - val_accuracy: 0.9718\n",
      "Epoch 11/25\n",
      "4000/4000 [==============================] - 4s 923us/step - loss: 0.5525 - accuracy: 0.9063 - val_loss: 0.5314 - val_accuracy: 0.9040\n",
      "Epoch 12/25\n",
      "4000/4000 [==============================] - 4s 917us/step - loss: 0.5014 - accuracy: 0.9248 - val_loss: 0.5292 - val_accuracy: 0.9028\n",
      "Epoch 13/25\n",
      "4000/4000 [==============================] - 4s 927us/step - loss: 0.4913 - accuracy: 0.9668 - val_loss: 0.5125 - val_accuracy: 0.9555\n",
      "Epoch 14/25\n",
      "4000/4000 [==============================] - 4s 946us/step - loss: 0.4951 - accuracy: 0.9576 - val_loss: 0.5329 - val_accuracy: 0.8136\n",
      "Epoch 15/25\n",
      "4000/4000 [==============================] - 4s 924us/step - loss: 0.4909 - accuracy: 0.9692 - val_loss: 0.4872 - val_accuracy: 0.9621\n",
      "Epoch 16/25\n",
      "1484/4000 [==========>...................] - ETA: 2s - loss: 0.4903 - accuracy: 0.9762"
     ]
    }
   ],
   "source": [
    "autoencoder.fit(X, X, \n",
    "                batch_size = 20, epochs = 25, \n",
    "                shuffle = True, validation_split = 0.20)"
   ]
  },
  {
   "cell_type": "code",
   "execution_count": null,
   "id": "c8947858",
   "metadata": {
    "scrolled": true
   },
   "outputs": [],
   "source": [
    "#encoded"
   ]
  },
  {
   "cell_type": "code",
   "execution_count": null,
   "id": "7909f47a",
   "metadata": {
    "scrolled": true
   },
   "outputs": [],
   "source": []
  },
  {
   "cell_type": "code",
   "execution_count": null,
   "id": "baf73306",
   "metadata": {
    "scrolled": true
   },
   "outputs": [],
   "source": []
  }
 ],
 "metadata": {
  "kernelspec": {
   "display_name": "Python 3",
   "language": "python",
   "name": "python3"
  },
  "language_info": {
   "codemirror_mode": {
    "name": "ipython",
    "version": 3
   },
   "file_extension": ".py",
   "mimetype": "text/x-python",
   "name": "python",
   "nbconvert_exporter": "python",
   "pygments_lexer": "ipython3",
   "version": "3.8.8"
  }
 },
 "nbformat": 4,
 "nbformat_minor": 5
}
