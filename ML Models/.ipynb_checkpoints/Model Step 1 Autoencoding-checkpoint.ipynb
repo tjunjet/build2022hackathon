{
 "cells": [
  {
   "cell_type": "code",
   "execution_count": 1,
   "id": "03923be6",
   "metadata": {
    "scrolled": true
   },
   "outputs": [],
   "source": [
    "import train_test_generation\n",
    "from keras.layers import Dense,Conv2D,MaxPooling2D,UpSampling2D\n",
    "from keras import Input, Model\n",
    "from keras.datasets import mnist\n",
    "import numpy as np\n",
    "import matplotlib.pyplot as plt\n",
    "import tensorflow as tf\n",
    "from keras import regularizers\n",
    "import keras\n",
    "import pandas as pd"
   ]
  },
  {
   "cell_type": "code",
   "execution_count": 2,
   "id": "c3c05b10",
   "metadata": {
    "scrolled": true
   },
   "outputs": [
    {
     "name": "stderr",
     "output_type": "stream",
     "text": [
      "C:\\Users\\User\\Documents\\Freshman\\Build 2022\\build2022hackathon\\ML Models\\train_test_generation.py:441: SettingWithCopyWarning: \n",
      "A value is trying to be set on a copy of a slice from a DataFrame\n",
      "\n",
      "See the caveats in the documentation: https://pandas.pydata.org/pandas-docs/stable/user_guide/indexing.html#returning-a-view-versus-a-copy\n",
      "  df[article][ite] = bool(random.getrandbits(1))\n",
      "C:\\Users\\User\\anaconda3\\lib\\site-packages\\pandas\\core\\indexing.py:1637: SettingWithCopyWarning: \n",
      "A value is trying to be set on a copy of a slice from a DataFrame\n",
      "\n",
      "See the caveats in the documentation: https://pandas.pydata.org/pandas-docs/stable/user_guide/indexing.html#returning-a-view-versus-a-copy\n",
      "  self._setitem_single_block(indexer, value, name)\n"
     ]
    }
   ],
   "source": [
    "features, output = train_test_generation.generatefinaldf(10**5, 'ML', 90)"
   ]
  },
  {
   "cell_type": "code",
   "execution_count": 3,
   "id": "6607a010",
   "metadata": {
    "scrolled": true
   },
   "outputs": [
    {
     "data": {
      "text/html": [
       "<div>\n",
       "<style scoped>\n",
       "    .dataframe tbody tr th:only-of-type {\n",
       "        vertical-align: middle;\n",
       "    }\n",
       "\n",
       "    .dataframe tbody tr th {\n",
       "        vertical-align: top;\n",
       "    }\n",
       "\n",
       "    .dataframe thead th {\n",
       "        text-align: right;\n",
       "    }\n",
       "</style>\n",
       "<table border=\"1\" class=\"dataframe\">\n",
       "  <thead>\n",
       "    <tr style=\"text-align: right;\">\n",
       "      <th></th>\n",
       "      <th>temperature</th>\n",
       "      <th>humidity</th>\n",
       "      <th>precipitation</th>\n",
       "      <th>windspeed</th>\n",
       "      <th>age</th>\n",
       "      <th>weight</th>\n",
       "      <th>height</th>\n",
       "      <th>sex</th>\n",
       "      <th>fatpercentage</th>\n",
       "      <th>bmi</th>\n",
       "      <th>cold_resistance</th>\n",
       "      <th>scoring_difference</th>\n",
       "    </tr>\n",
       "  </thead>\n",
       "  <tbody>\n",
       "    <tr>\n",
       "      <th>0</th>\n",
       "      <td>9</td>\n",
       "      <td>28</td>\n",
       "      <td>37</td>\n",
       "      <td>0</td>\n",
       "      <td>16</td>\n",
       "      <td>107.352758</td>\n",
       "      <td>169.670183</td>\n",
       "      <td>0</td>\n",
       "      <td>32.229007</td>\n",
       "      <td>37.290839</td>\n",
       "      <td>80.0</td>\n",
       "      <td>-3.333333</td>\n",
       "    </tr>\n",
       "    <tr>\n",
       "      <th>1</th>\n",
       "      <td>-16</td>\n",
       "      <td>49</td>\n",
       "      <td>49</td>\n",
       "      <td>29</td>\n",
       "      <td>28</td>\n",
       "      <td>64.245141</td>\n",
       "      <td>165.204720</td>\n",
       "      <td>0</td>\n",
       "      <td>18.487280</td>\n",
       "      <td>23.539400</td>\n",
       "      <td>85.0</td>\n",
       "      <td>-1.666667</td>\n",
       "    </tr>\n",
       "    <tr>\n",
       "      <th>2</th>\n",
       "      <td>-16</td>\n",
       "      <td>59</td>\n",
       "      <td>21</td>\n",
       "      <td>7</td>\n",
       "      <td>52</td>\n",
       "      <td>86.863014</td>\n",
       "      <td>175.740798</td>\n",
       "      <td>0</td>\n",
       "      <td>29.509781</td>\n",
       "      <td>28.124817</td>\n",
       "      <td>70.0</td>\n",
       "      <td>-6.666667</td>\n",
       "    </tr>\n",
       "    <tr>\n",
       "      <th>3</th>\n",
       "      <td>-2</td>\n",
       "      <td>28</td>\n",
       "      <td>19</td>\n",
       "      <td>35</td>\n",
       "      <td>60</td>\n",
       "      <td>82.106917</td>\n",
       "      <td>166.725022</td>\n",
       "      <td>1</td>\n",
       "      <td>43.845363</td>\n",
       "      <td>29.537802</td>\n",
       "      <td>70.0</td>\n",
       "      <td>-10.000000</td>\n",
       "    </tr>\n",
       "    <tr>\n",
       "      <th>4</th>\n",
       "      <td>0</td>\n",
       "      <td>44</td>\n",
       "      <td>5</td>\n",
       "      <td>9</td>\n",
       "      <td>19</td>\n",
       "      <td>76.801752</td>\n",
       "      <td>164.801259</td>\n",
       "      <td>1</td>\n",
       "      <td>32.903709</td>\n",
       "      <td>28.278090</td>\n",
       "      <td>90.0</td>\n",
       "      <td>-3.333333</td>\n",
       "    </tr>\n",
       "  </tbody>\n",
       "</table>\n",
       "</div>"
      ],
      "text/plain": [
       "   temperature  humidity  precipitation  windspeed  age      weight  \\\n",
       "0            9        28             37          0   16  107.352758   \n",
       "1          -16        49             49         29   28   64.245141   \n",
       "2          -16        59             21          7   52   86.863014   \n",
       "3           -2        28             19         35   60   82.106917   \n",
       "4            0        44              5          9   19   76.801752   \n",
       "\n",
       "       height  sex  fatpercentage        bmi  cold_resistance  \\\n",
       "0  169.670183    0      32.229007  37.290839             80.0   \n",
       "1  165.204720    0      18.487280  23.539400             85.0   \n",
       "2  175.740798    0      29.509781  28.124817             70.0   \n",
       "3  166.725022    1      43.845363  29.537802             70.0   \n",
       "4  164.801259    1      32.903709  28.278090             90.0   \n",
       "\n",
       "   scoring_difference  \n",
       "0           -3.333333  \n",
       "1           -1.666667  \n",
       "2           -6.666667  \n",
       "3          -10.000000  \n",
       "4           -3.333333  "
      ]
     },
     "execution_count": 3,
     "metadata": {},
     "output_type": "execute_result"
    }
   ],
   "source": [
    "features.head()"
   ]
  },
  {
   "cell_type": "code",
   "execution_count": 4,
   "id": "30cf75ef",
   "metadata": {},
   "outputs": [],
   "source": [
    "features.to_csv(\"features.csv\", index=False)\n",
    "output.to_csv(\"output.csv\", index=False)"
   ]
  },
  {
   "cell_type": "code",
   "execution_count": 5,
   "id": "e06ebb24",
   "metadata": {
    "scrolled": true
   },
   "outputs": [
    {
     "ename": "NameError",
     "evalue": "name 'data' is not defined",
     "output_type": "error",
     "traceback": [
      "\u001b[1;31m---------------------------------------------------------------------------\u001b[0m",
      "\u001b[1;31mNameError\u001b[0m                                 Traceback (most recent call last)",
      "\u001b[1;32m<ipython-input-5-5f0249ffc055>\u001b[0m in \u001b[0;36m<module>\u001b[1;34m\u001b[0m\n\u001b[1;32m----> 1\u001b[1;33m \u001b[0muser_params_df\u001b[0m \u001b[1;33m=\u001b[0m \u001b[0mdata\u001b[0m\u001b[1;33m[\u001b[0m\u001b[1;33m[\u001b[0m\u001b[1;34m'age'\u001b[0m\u001b[1;33m,\u001b[0m \u001b[1;34m'weight'\u001b[0m\u001b[1;33m,\u001b[0m \u001b[1;34m'height'\u001b[0m\u001b[1;33m,\u001b[0m \u001b[1;34m'sex'\u001b[0m\u001b[1;33m,\u001b[0m \u001b[1;34m'fatpercentage'\u001b[0m\u001b[1;33m,\u001b[0m \u001b[1;34m'bmi'\u001b[0m\u001b[1;33m]\u001b[0m\u001b[1;33m]\u001b[0m\u001b[1;33m\u001b[0m\u001b[1;33m\u001b[0m\u001b[0m\n\u001b[0m",
      "\u001b[1;31mNameError\u001b[0m: name 'data' is not defined"
     ]
    }
   ],
   "source": [
    "user_params_df = data[['age', 'weight', 'height', 'sex', 'fatpercentage', 'bmi']]"
   ]
  },
  {
   "cell_type": "code",
   "execution_count": null,
   "id": "4d8b0c0d",
   "metadata": {},
   "outputs": [],
   "source": [
    "features.tail()"
   ]
  },
  {
   "cell_type": "code",
   "execution_count": null,
   "id": "08a3a1d2",
   "metadata": {
    "scrolled": true
   },
   "outputs": [],
   "source": [
    "user_params_df.head()"
   ]
  },
  {
   "cell_type": "code",
   "execution_count": null,
   "id": "90bd4667",
   "metadata": {
    "scrolled": true
   },
   "outputs": [],
   "source": [
    "#https://www.analyticsvidhya.com/blog/2021/06/complete-guide-on-how-to-use-autoencoders-in-python/"
   ]
  },
  {
   "cell_type": "code",
   "execution_count": null,
   "id": "53646ddc",
   "metadata": {
    "scrolled": true
   },
   "outputs": [],
   "source": [
    "#num = user_params_df.values\n",
    "#num = tf.convert_to_tensor(num)"
   ]
  },
  {
   "cell_type": "code",
   "execution_count": null,
   "id": "8ccc4b10",
   "metadata": {
    "scrolled": true
   },
   "outputs": [],
   "source": [
    "from sklearn.preprocessing import MinMaxScaler \n",
    "X = MinMaxScaler().fit_transform(user_params_df)"
   ]
  },
  {
   "cell_type": "code",
   "execution_count": null,
   "id": "59e33430",
   "metadata": {
    "scrolled": true
   },
   "outputs": [],
   "source": [
    "#https://www.geeksforgeeks.org/ml-classifying-data-using-an-auto-encoder/"
   ]
  },
  {
   "cell_type": "code",
   "execution_count": null,
   "id": "cb213eaf",
   "metadata": {
    "scrolled": true
   },
   "outputs": [],
   "source": [
    "input_layer = Input(shape =(X.shape[1], ))"
   ]
  },
  {
   "cell_type": "code",
   "execution_count": null,
   "id": "21d8bfb6",
   "metadata": {
    "scrolled": true
   },
   "outputs": [],
   "source": [
    "#building the autoencoder network\n",
    "encoded = Dense(100, activation ='linear',\n",
    "                activity_regularizer = regularizers.l1(10e-5))(input_layer)\n",
    "encoded = Dense(50, activation ='linear',\n",
    "                activity_regularizer = regularizers.l1(10e-5))(encoded)\n",
    "encoded = Dense(25, activation ='linear',\n",
    "                activity_regularizer = regularizers.l1(10e-5))(encoded)\n",
    "encoded = Dense(12, activation ='linear',\n",
    "                activity_regularizer = regularizers.l1(10e-5))(encoded)\n",
    "encoded = Dense(4, activation ='linear')(encoded)\n",
    "  \n",
    "# Building the Decoder network\n",
    "decoded = Dense(12, activation ='linear')(encoded)\n",
    "decoded = Dense(25, activation ='linear')(decoded)\n",
    "decoded = Dense(50, activation ='linear')(decoded)\n",
    "decoded = Dense(100, activation ='linear')(decoded)\n",
    "  \n",
    "# Building the Output Layer\n",
    "output_layer = Dense(X.shape[1], activation ='relu')(decoded)\n",
    "output_layer = Dense(X.shape[1], activation ='relu')(decoded)"
   ]
  },
  {
   "cell_type": "code",
   "execution_count": null,
   "id": "8c06c1a0",
   "metadata": {
    "scrolled": true
   },
   "outputs": [],
   "source": [
    "autoencoder = Model(input_layer, output_layer)\n",
    "autoencoder.compile(optimizer =\"adam\", loss =\"binary_crossentropy\" , metrics=['accuracy'])"
   ]
  },
  {
   "cell_type": "code",
   "execution_count": null,
   "id": "1259d60c",
   "metadata": {
    "scrolled": false
   },
   "outputs": [],
   "source": [
    "autoencoder.fit(X, X, \n",
    "                batch_size = 20, epochs = 25, \n",
    "                shuffle = True, validation_split = 0.20)"
   ]
  },
  {
   "cell_type": "code",
   "execution_count": null,
   "id": "58b44bab",
   "metadata": {
    "scrolled": true
   },
   "outputs": [],
   "source": [
    "# Extracting the embedding\n",
    "encoder = keras.Model(input_layer, encoded)\n",
    "encoded_r = encoder.predict(X)\n",
    "print(encoded_r)"
   ]
  },
  {
   "cell_type": "code",
   "execution_count": null,
   "id": "45bee098",
   "metadata": {
    "scrolled": true
   },
   "outputs": [],
   "source": [
    "# Transforming to a CSV file using pandas\n",
    "\n",
    "df = pd.DataFrame(encoded_r, columns = [\"Attribute 1\", \"Attribute 2\", \"Attribute 3\", \"Attribute 4\"])\n",
    "print(df)"
   ]
  },
  {
   "cell_type": "code",
   "execution_count": null,
   "id": "2fb50c3f",
   "metadata": {
    "scrolled": true
   },
   "outputs": [],
   "source": [
    "df.to_csv(\"R_values.csv\", index=False)"
   ]
  },
  {
   "cell_type": "code",
   "execution_count": null,
   "id": "1d754758",
   "metadata": {},
   "outputs": [],
   "source": []
  }
 ],
 "metadata": {
  "kernelspec": {
   "display_name": "Python 3",
   "language": "python",
   "name": "python3"
  },
  "language_info": {
   "codemirror_mode": {
    "name": "ipython",
    "version": 3
   },
   "file_extension": ".py",
   "mimetype": "text/x-python",
   "name": "python",
   "nbconvert_exporter": "python",
   "pygments_lexer": "ipython3",
   "version": "3.8.8"
  }
 },
 "nbformat": 4,
 "nbformat_minor": 5
}
