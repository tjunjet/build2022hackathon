{
 "cells": [
  {
   "cell_type": "code",
   "execution_count": 2,
   "id": "13522868",
   "metadata": {
    "scrolled": true
   },
   "outputs": [
    {
     "name": "stdout",
     "output_type": "stream",
     "text": [
      "62.5\n"
     ]
    }
   ],
   "source": [
    "import train_test_generation\n",
    "from keras.layers import Dense,Conv2D,MaxPooling2D,UpSampling2D\n",
    "from keras import Input, Model\n",
    "from keras.datasets import mnist\n",
    "import numpy as np\n",
    "import matplotlib.pyplot as plt\n",
    "import tensorflow as tf\n",
    "from keras import regularizers\n",
    "import keras\n",
    "import pandas as pd"
   ]
  },
  {
   "cell_type": "code",
   "execution_count": 2,
   "id": "df39e0be",
   "metadata": {
    "scrolled": true
   },
   "outputs": [
    {
     "name": "stderr",
     "output_type": "stream",
     "text": [
      "C:\\Users\\User\\Documents\\Freshman\\Build 2022\\build2022hackathon\\ML Models\\train_test_generation.py:525: SettingWithCopyWarning: \n",
      "A value is trying to be set on a copy of a slice from a DataFrame\n",
      "\n",
      "See the caveats in the documentation: https://pandas.pydata.org/pandas-docs/stable/user_guide/indexing.html#returning-a-view-versus-a-copy\n",
      "  df[article][ite] = bool(random.getrandbits(1))\n",
      "C:\\Users\\User\\anaconda3\\lib\\site-packages\\pandas\\core\\indexing.py:1637: SettingWithCopyWarning: \n",
      "A value is trying to be set on a copy of a slice from a DataFrame\n",
      "\n",
      "See the caveats in the documentation: https://pandas.pydata.org/pandas-docs/stable/user_guide/indexing.html#returning-a-view-versus-a-copy\n",
      "  self._setitem_single_block(indexer, value, name)\n"
     ]
    }
   ],
   "source": [
    "#features, output = train_test_generation.generatefinaldf(10**5, 'ML', 90)"
   ]
  },
  {
   "cell_type": "code",
   "execution_count": 3,
   "id": "f43f653c",
   "metadata": {
    "scrolled": true
   },
   "outputs": [],
   "source": [
    "features = pd.read_csv(\"features.csv\")\n",
    "output = pd.read_csv(\"output.csv\")"
   ]
  },
  {
   "cell_type": "code",
   "execution_count": 4,
   "id": "56b61cd5",
   "metadata": {},
   "outputs": [
    {
     "data": {
      "text/html": [
       "<div>\n",
       "<style scoped>\n",
       "    .dataframe tbody tr th:only-of-type {\n",
       "        vertical-align: middle;\n",
       "    }\n",
       "\n",
       "    .dataframe tbody tr th {\n",
       "        vertical-align: top;\n",
       "    }\n",
       "\n",
       "    .dataframe thead th {\n",
       "        text-align: right;\n",
       "    }\n",
       "</style>\n",
       "<table border=\"1\" class=\"dataframe\">\n",
       "  <thead>\n",
       "    <tr style=\"text-align: right;\">\n",
       "      <th></th>\n",
       "      <th>temperature</th>\n",
       "      <th>humidity</th>\n",
       "      <th>precipitation</th>\n",
       "      <th>windspeed</th>\n",
       "      <th>age</th>\n",
       "      <th>weight</th>\n",
       "      <th>height</th>\n",
       "      <th>sex</th>\n",
       "      <th>fatpercentage</th>\n",
       "      <th>bmi</th>\n",
       "      <th>cold_resistance</th>\n",
       "      <th>scoring_difference</th>\n",
       "      <th>adjusted_cold_resistance</th>\n",
       "      <th>preference_factor</th>\n",
       "    </tr>\n",
       "  </thead>\n",
       "  <tbody>\n",
       "    <tr>\n",
       "      <th>99995</th>\n",
       "      <td>10</td>\n",
       "      <td>8</td>\n",
       "      <td>94</td>\n",
       "      <td>18</td>\n",
       "      <td>38</td>\n",
       "      <td>48.0</td>\n",
       "      <td>131.0</td>\n",
       "      <td>1</td>\n",
       "      <td>36.904478</td>\n",
       "      <td>27.970398</td>\n",
       "      <td>100.0</td>\n",
       "      <td>0.000000</td>\n",
       "      <td>98.00</td>\n",
       "      <td>98</td>\n",
       "    </tr>\n",
       "    <tr>\n",
       "      <th>99996</th>\n",
       "      <td>17</td>\n",
       "      <td>85</td>\n",
       "      <td>77</td>\n",
       "      <td>6</td>\n",
       "      <td>45</td>\n",
       "      <td>76.0</td>\n",
       "      <td>173.0</td>\n",
       "      <td>1</td>\n",
       "      <td>35.422117</td>\n",
       "      <td>25.393431</td>\n",
       "      <td>80.0</td>\n",
       "      <td>0.000000</td>\n",
       "      <td>76.80</td>\n",
       "      <td>96</td>\n",
       "    </tr>\n",
       "    <tr>\n",
       "      <th>99997</th>\n",
       "      <td>21</td>\n",
       "      <td>78</td>\n",
       "      <td>36</td>\n",
       "      <td>40</td>\n",
       "      <td>31</td>\n",
       "      <td>48.0</td>\n",
       "      <td>174.0</td>\n",
       "      <td>1</td>\n",
       "      <td>20.754970</td>\n",
       "      <td>15.854142</td>\n",
       "      <td>77.5</td>\n",
       "      <td>0.000000</td>\n",
       "      <td>79.05</td>\n",
       "      <td>102</td>\n",
       "    </tr>\n",
       "    <tr>\n",
       "      <th>99998</th>\n",
       "      <td>-15</td>\n",
       "      <td>42</td>\n",
       "      <td>89</td>\n",
       "      <td>34</td>\n",
       "      <td>46</td>\n",
       "      <td>38.0</td>\n",
       "      <td>113.0</td>\n",
       "      <td>0</td>\n",
       "      <td>30.091489</td>\n",
       "      <td>29.759574</td>\n",
       "      <td>90.0</td>\n",
       "      <td>-6.033333</td>\n",
       "      <td>92.70</td>\n",
       "      <td>103</td>\n",
       "    </tr>\n",
       "    <tr>\n",
       "      <th>99999</th>\n",
       "      <td>5</td>\n",
       "      <td>88</td>\n",
       "      <td>78</td>\n",
       "      <td>39</td>\n",
       "      <td>37</td>\n",
       "      <td>95.0</td>\n",
       "      <td>134.0</td>\n",
       "      <td>1</td>\n",
       "      <td>66.598528</td>\n",
       "      <td>52.907106</td>\n",
       "      <td>100.0</td>\n",
       "      <td>-3.666667</td>\n",
       "      <td>97.00</td>\n",
       "      <td>97</td>\n",
       "    </tr>\n",
       "  </tbody>\n",
       "</table>\n",
       "</div>"
      ],
      "text/plain": [
       "       temperature  humidity  precipitation  windspeed  age  weight  height  \\\n",
       "99995           10         8             94         18   38    48.0   131.0   \n",
       "99996           17        85             77          6   45    76.0   173.0   \n",
       "99997           21        78             36         40   31    48.0   174.0   \n",
       "99998          -15        42             89         34   46    38.0   113.0   \n",
       "99999            5        88             78         39   37    95.0   134.0   \n",
       "\n",
       "       sex  fatpercentage        bmi  cold_resistance  scoring_difference  \\\n",
       "99995    1      36.904478  27.970398            100.0            0.000000   \n",
       "99996    1      35.422117  25.393431             80.0            0.000000   \n",
       "99997    1      20.754970  15.854142             77.5            0.000000   \n",
       "99998    0      30.091489  29.759574             90.0           -6.033333   \n",
       "99999    1      66.598528  52.907106            100.0           -3.666667   \n",
       "\n",
       "       adjusted_cold_resistance  preference_factor  \n",
       "99995                     98.00                 98  \n",
       "99996                     76.80                 96  \n",
       "99997                     79.05                102  \n",
       "99998                     92.70                103  \n",
       "99999                     97.00                 97  "
      ]
     },
     "execution_count": 4,
     "metadata": {},
     "output_type": "execute_result"
    }
   ],
   "source": [
    "features.tail()"
   ]
  },
  {
   "cell_type": "code",
   "execution_count": 5,
   "id": "b7b6f9b8",
   "metadata": {},
   "outputs": [
    {
     "data": {
      "text/html": [
       "<div>\n",
       "<style scoped>\n",
       "    .dataframe tbody tr th:only-of-type {\n",
       "        vertical-align: middle;\n",
       "    }\n",
       "\n",
       "    .dataframe tbody tr th {\n",
       "        vertical-align: top;\n",
       "    }\n",
       "\n",
       "    .dataframe thead th {\n",
       "        text-align: right;\n",
       "    }\n",
       "</style>\n",
       "<table border=\"1\" class=\"dataframe\">\n",
       "  <thead>\n",
       "    <tr style=\"text-align: right;\">\n",
       "      <th></th>\n",
       "      <th>thermal</th>\n",
       "      <th>hoodie</th>\n",
       "      <th>fleece</th>\n",
       "      <th>wool</th>\n",
       "      <th>light_down</th>\n",
       "      <th>thick_down</th>\n",
       "      <th>wind_breaker</th>\n",
       "      <th>umbrella</th>\n",
       "      <th>winter_boots</th>\n",
       "      <th>user_feedback</th>\n",
       "    </tr>\n",
       "  </thead>\n",
       "  <tbody>\n",
       "    <tr>\n",
       "      <th>99995</th>\n",
       "      <td>True</td>\n",
       "      <td>True</td>\n",
       "      <td>True</td>\n",
       "      <td>False</td>\n",
       "      <td>True</td>\n",
       "      <td>True</td>\n",
       "      <td>False</td>\n",
       "      <td>False</td>\n",
       "      <td>True</td>\n",
       "      <td>1</td>\n",
       "    </tr>\n",
       "    <tr>\n",
       "      <th>99996</th>\n",
       "      <td>True</td>\n",
       "      <td>True</td>\n",
       "      <td>True</td>\n",
       "      <td>True</td>\n",
       "      <td>True</td>\n",
       "      <td>False</td>\n",
       "      <td>False</td>\n",
       "      <td>True</td>\n",
       "      <td>False</td>\n",
       "      <td>1</td>\n",
       "    </tr>\n",
       "    <tr>\n",
       "      <th>99997</th>\n",
       "      <td>True</td>\n",
       "      <td>True</td>\n",
       "      <td>True</td>\n",
       "      <td>True</td>\n",
       "      <td>False</td>\n",
       "      <td>True</td>\n",
       "      <td>True</td>\n",
       "      <td>True</td>\n",
       "      <td>False</td>\n",
       "      <td>1</td>\n",
       "    </tr>\n",
       "    <tr>\n",
       "      <th>99998</th>\n",
       "      <td>False</td>\n",
       "      <td>False</td>\n",
       "      <td>False</td>\n",
       "      <td>False</td>\n",
       "      <td>True</td>\n",
       "      <td>True</td>\n",
       "      <td>False</td>\n",
       "      <td>False</td>\n",
       "      <td>True</td>\n",
       "      <td>0</td>\n",
       "    </tr>\n",
       "    <tr>\n",
       "      <th>99999</th>\n",
       "      <td>False</td>\n",
       "      <td>False</td>\n",
       "      <td>True</td>\n",
       "      <td>False</td>\n",
       "      <td>True</td>\n",
       "      <td>False</td>\n",
       "      <td>True</td>\n",
       "      <td>False</td>\n",
       "      <td>False</td>\n",
       "      <td>1</td>\n",
       "    </tr>\n",
       "  </tbody>\n",
       "</table>\n",
       "</div>"
      ],
      "text/plain": [
       "       thermal  hoodie  fleece   wool  light_down  thick_down  wind_breaker  \\\n",
       "99995     True    True    True  False        True        True         False   \n",
       "99996     True    True    True   True        True       False         False   \n",
       "99997     True    True    True   True       False        True          True   \n",
       "99998    False   False   False  False        True        True         False   \n",
       "99999    False   False    True  False        True       False          True   \n",
       "\n",
       "       umbrella  winter_boots  user_feedback  \n",
       "99995     False          True              1  \n",
       "99996      True         False              1  \n",
       "99997      True         False              1  \n",
       "99998     False          True              0  \n",
       "99999     False         False              1  "
      ]
     },
     "execution_count": 5,
     "metadata": {},
     "output_type": "execute_result"
    }
   ],
   "source": [
    "output.tail()"
   ]
  },
  {
   "cell_type": "code",
   "execution_count": 6,
   "id": "217f2e15",
   "metadata": {},
   "outputs": [],
   "source": [
    "#features.to_csv(\"features.csv\", index=False)\n",
    "#output.to_csv(\"output.csv\", index=False)"
   ]
  },
  {
   "cell_type": "code",
   "execution_count": 6,
   "id": "ca67acbf",
   "metadata": {
    "scrolled": true
   },
   "outputs": [],
   "source": [
    "user_params_df = features[['age', 'weight', 'height', 'sex', 'fatpercentage', 'bmi']]"
   ]
  },
  {
   "cell_type": "code",
   "execution_count": 7,
   "id": "f5d51e80",
   "metadata": {
    "scrolled": true
   },
   "outputs": [
    {
     "data": {
      "text/html": [
       "<div>\n",
       "<style scoped>\n",
       "    .dataframe tbody tr th:only-of-type {\n",
       "        vertical-align: middle;\n",
       "    }\n",
       "\n",
       "    .dataframe tbody tr th {\n",
       "        vertical-align: top;\n",
       "    }\n",
       "\n",
       "    .dataframe thead th {\n",
       "        text-align: right;\n",
       "    }\n",
       "</style>\n",
       "<table border=\"1\" class=\"dataframe\">\n",
       "  <thead>\n",
       "    <tr style=\"text-align: right;\">\n",
       "      <th></th>\n",
       "      <th>age</th>\n",
       "      <th>weight</th>\n",
       "      <th>height</th>\n",
       "      <th>sex</th>\n",
       "      <th>fatpercentage</th>\n",
       "      <th>bmi</th>\n",
       "    </tr>\n",
       "  </thead>\n",
       "  <tbody>\n",
       "    <tr>\n",
       "      <th>0</th>\n",
       "      <td>59</td>\n",
       "      <td>76.350691</td>\n",
       "      <td>165.034328</td>\n",
       "      <td>1</td>\n",
       "      <td>41.809198</td>\n",
       "      <td>28.032665</td>\n",
       "    </tr>\n",
       "    <tr>\n",
       "      <th>1</th>\n",
       "      <td>24</td>\n",
       "      <td>83.566165</td>\n",
       "      <td>176.487951</td>\n",
       "      <td>0</td>\n",
       "      <td>21.514493</td>\n",
       "      <td>26.828745</td>\n",
       "    </tr>\n",
       "    <tr>\n",
       "      <th>2</th>\n",
       "      <td>24</td>\n",
       "      <td>96.348209</td>\n",
       "      <td>178.793425</td>\n",
       "      <td>0</td>\n",
       "      <td>25.487776</td>\n",
       "      <td>30.139813</td>\n",
       "    </tr>\n",
       "    <tr>\n",
       "      <th>3</th>\n",
       "      <td>25</td>\n",
       "      <td>106.733295</td>\n",
       "      <td>179.147332</td>\n",
       "      <td>0</td>\n",
       "      <td>29.458047</td>\n",
       "      <td>33.256706</td>\n",
       "    </tr>\n",
       "    <tr>\n",
       "      <th>4</th>\n",
       "      <td>29</td>\n",
       "      <td>68.463140</td>\n",
       "      <td>163.715886</td>\n",
       "      <td>1</td>\n",
       "      <td>31.921830</td>\n",
       "      <td>25.543192</td>\n",
       "    </tr>\n",
       "  </tbody>\n",
       "</table>\n",
       "</div>"
      ],
      "text/plain": [
       "   age      weight      height  sex  fatpercentage        bmi\n",
       "0   59   76.350691  165.034328    1      41.809198  28.032665\n",
       "1   24   83.566165  176.487951    0      21.514493  26.828745\n",
       "2   24   96.348209  178.793425    0      25.487776  30.139813\n",
       "3   25  106.733295  179.147332    0      29.458047  33.256706\n",
       "4   29   68.463140  163.715886    1      31.921830  25.543192"
      ]
     },
     "execution_count": 7,
     "metadata": {},
     "output_type": "execute_result"
    }
   ],
   "source": [
    "user_params_df.head()"
   ]
  },
  {
   "cell_type": "code",
   "execution_count": 8,
   "id": "d0fa6bb8",
   "metadata": {
    "scrolled": true
   },
   "outputs": [],
   "source": [
    "#https://www.analyticsvidhya.com/blog/2021/06/complete-guide-on-how-to-use-autoencoders-in-python/"
   ]
  },
  {
   "cell_type": "code",
   "execution_count": 9,
   "id": "83594216",
   "metadata": {
    "scrolled": true
   },
   "outputs": [],
   "source": [
    "#num = user_params_df.values\n",
    "#num = tf.convert_to_tensor(num)"
   ]
  },
  {
   "cell_type": "code",
   "execution_count": 10,
   "id": "cd2432bf",
   "metadata": {
    "scrolled": true
   },
   "outputs": [],
   "source": [
    "from sklearn.preprocessing import MinMaxScaler \n",
    "X = MinMaxScaler().fit_transform(user_params_df)"
   ]
  },
  {
   "cell_type": "code",
   "execution_count": 11,
   "id": "1d9090ad",
   "metadata": {
    "scrolled": true
   },
   "outputs": [],
   "source": [
    "#https://www.geeksforgeeks.org/ml-classifying-data-using-an-auto-encoder/"
   ]
  },
  {
   "cell_type": "code",
   "execution_count": 12,
   "id": "6d82321e",
   "metadata": {
    "scrolled": true
   },
   "outputs": [],
   "source": [
    "input_layer = Input(shape =(X.shape[1], ))"
   ]
  },
  {
   "cell_type": "code",
   "execution_count": 13,
   "id": "acd59482",
   "metadata": {
    "scrolled": true
   },
   "outputs": [],
   "source": [
    "#building the autoencoder network\n",
    "encoded = Dense(100, activation ='linear',\n",
    "                activity_regularizer = regularizers.l1(10e-5))(input_layer)\n",
    "encoded = Dense(50, activation ='linear',\n",
    "                activity_regularizer = regularizers.l1(10e-5))(encoded)\n",
    "encoded = Dense(25, activation ='linear',\n",
    "                activity_regularizer = regularizers.l1(10e-5))(encoded)\n",
    "encoded = Dense(12, activation ='linear',\n",
    "                activity_regularizer = regularizers.l1(10e-5))(encoded)\n",
    "encoded = Dense(4, activation ='linear')(encoded)\n",
    "  \n",
    "# Building the Decoder network\n",
    "decoded = Dense(12, activation ='linear')(encoded)\n",
    "decoded = Dense(25, activation ='linear')(decoded)\n",
    "decoded = Dense(50, activation ='linear')(decoded)\n",
    "decoded = Dense(100, activation ='linear')(decoded)\n",
    "  \n",
    "# Building the Output Layer\n",
    "output_layer = Dense(X.shape[1], activation ='relu')(decoded)\n",
    "output_layer = Dense(X.shape[1], activation ='relu')(decoded)"
   ]
  },
  {
   "cell_type": "code",
   "execution_count": 14,
   "id": "3c5dabef",
   "metadata": {
    "scrolled": true
   },
   "outputs": [],
   "source": [
    "autoencoder = Model(input_layer, output_layer)\n",
    "autoencoder.compile(optimizer =\"adam\", loss =\"binary_crossentropy\" , metrics=['accuracy'])"
   ]
  },
  {
   "cell_type": "code",
   "execution_count": 15,
   "id": "4bb03b89",
   "metadata": {
    "scrolled": false
   },
   "outputs": [
    {
     "name": "stdout",
     "output_type": "stream",
     "text": [
      "Epoch 1/25\n",
      "4000/4000 [==============================] - 6s 1ms/step - loss: 1.1125 - accuracy: 0.9390 - val_loss: 0.5979 - val_accuracy: 0.8618\n",
      "Epoch 2/25\n",
      "4000/4000 [==============================] - 5s 1ms/step - loss: 0.4894 - accuracy: 0.9642 - val_loss: 0.5406 - val_accuracy: 0.9167\n",
      "Epoch 3/25\n",
      "4000/4000 [==============================] - 5s 1ms/step - loss: 0.4917 - accuracy: 0.9456 - val_loss: 0.8027 - val_accuracy: 0.8043\n",
      "Epoch 4/25\n",
      "4000/4000 [==============================] - 5s 1ms/step - loss: 0.5033 - accuracy: 0.9463 - val_loss: 0.5594 - val_accuracy: 0.9030\n",
      "Epoch 5/25\n",
      "4000/4000 [==============================] - 5s 1ms/step - loss: 0.4937 - accuracy: 0.9395 - val_loss: 0.7396 - val_accuracy: 0.8277\n",
      "Epoch 6/25\n",
      "4000/4000 [==============================] - 5s 1ms/step - loss: 0.4961 - accuracy: 0.9319 - val_loss: 0.7028 - val_accuracy: 0.8498\n",
      "Epoch 7/25\n",
      "4000/4000 [==============================] - 5s 1ms/step - loss: 0.4890 - accuracy: 0.9599 - val_loss: 0.6453 - val_accuracy: 0.8675\n",
      "Epoch 8/25\n",
      "4000/4000 [==============================] - 5s 1ms/step - loss: 0.4872 - accuracy: 0.9724 - val_loss: 0.5209 - val_accuracy: 0.9451\n",
      "Epoch 9/25\n",
      "4000/4000 [==============================] - 5s 1ms/step - loss: 0.4891 - accuracy: 0.9658 - val_loss: 0.5373 - val_accuracy: 0.8548\n",
      "Epoch 10/25\n",
      "4000/4000 [==============================] - 5s 1ms/step - loss: 0.6301 - accuracy: 0.8813 - val_loss: 0.5795 - val_accuracy: 0.9004\n",
      "Epoch 11/25\n",
      "4000/4000 [==============================] - 5s 1ms/step - loss: 0.4893 - accuracy: 0.9609 - val_loss: 0.5797 - val_accuracy: 0.9234\n",
      "Epoch 12/25\n",
      "4000/4000 [==============================] - 5s 1ms/step - loss: 0.4880 - accuracy: 0.9684 - val_loss: 0.4980 - val_accuracy: 0.8196\n",
      "Epoch 13/25\n",
      "4000/4000 [==============================] - 5s 1ms/step - loss: 0.4914 - accuracy: 0.9492 - val_loss: 0.4704 - val_accuracy: 0.9658\n",
      "Epoch 14/25\n",
      "4000/4000 [==============================] - 5s 1ms/step - loss: 0.4893 - accuracy: 0.9623 - val_loss: 0.5557 - val_accuracy: 0.9308\n",
      "Epoch 15/25\n",
      "4000/4000 [==============================] - 5s 1ms/step - loss: 0.8507 - accuracy: 0.9285 - val_loss: 1.0726 - val_accuracy: 0.9593\n",
      "Epoch 16/25\n",
      "4000/4000 [==============================] - 5s 1ms/step - loss: 2.0566 - accuracy: 0.8203 - val_loss: 6.3507 - val_accuracy: 0.4906\n",
      "Epoch 17/25\n",
      "4000/4000 [==============================] - 5s 1ms/step - loss: 4.5458 - accuracy: 0.3901 - val_loss: 1.7781 - val_accuracy: 0.3999\n",
      "Epoch 18/25\n",
      "4000/4000 [==============================] - 5s 1ms/step - loss: 1.7737 - accuracy: 0.4881 - val_loss: 1.7857 - val_accuracy: 0.3514\n",
      "Epoch 19/25\n",
      "4000/4000 [==============================] - 5s 1ms/step - loss: 0.5164 - accuracy: 0.9429 - val_loss: 0.4716 - val_accuracy: 0.9564\n",
      "Epoch 20/25\n",
      "4000/4000 [==============================] - 5s 1ms/step - loss: 0.4928 - accuracy: 0.9476 - val_loss: 0.8317 - val_accuracy: 0.8123\n",
      "Epoch 21/25\n",
      "4000/4000 [==============================] - 5s 1ms/step - loss: 0.4977 - accuracy: 0.9179 - val_loss: 0.4815 - val_accuracy: 0.9495\n",
      "Epoch 22/25\n",
      "4000/4000 [==============================] - 5s 1ms/step - loss: 0.4866 - accuracy: 0.9819 - val_loss: 0.4755 - val_accuracy: 0.9366\n",
      "Epoch 23/25\n",
      "4000/4000 [==============================] - 5s 1ms/step - loss: 0.4888 - accuracy: 0.9695 - val_loss: 0.4694 - val_accuracy: 0.9642\n",
      "Epoch 24/25\n",
      "4000/4000 [==============================] - 5s 1ms/step - loss: 0.4928 - accuracy: 0.9509 - val_loss: 0.5032 - val_accuracy: 0.8224\n",
      "Epoch 25/25\n",
      "4000/4000 [==============================] - 5s 1ms/step - loss: 0.4921 - accuracy: 0.9530 - val_loss: 0.4709 - val_accuracy: 0.9467\n"
     ]
    },
    {
     "data": {
      "text/plain": [
       "<keras.callbacks.History at 0x23fa522ddc0>"
      ]
     },
     "execution_count": 15,
     "metadata": {},
     "output_type": "execute_result"
    }
   ],
   "source": [
    "autoencoder.fit(X, X, \n",
    "                batch_size = 20, epochs = 25, \n",
    "                shuffle = True, validation_split = 0.20)"
   ]
  },
  {
   "cell_type": "code",
   "execution_count": null,
   "id": "6098bde3",
   "metadata": {},
   "outputs": [],
   "source": [
    "encoder = keras.Model(input_layer, encoded)\n",
    "decoder = keras.Model()"
   ]
  },
  {
   "cell_type": "code",
   "execution_count": null,
   "id": "2540eabb",
   "metadata": {
    "scrolled": true
   },
   "outputs": [],
   "source": [
    "# Extracting the embedding\n",
    "encoder = keras.Model(input_layer, encoded)\n",
    "encoded_r = encoder.predict(X)\n",
    "print(encoded_r)"
   ]
  },
  {
   "cell_type": "code",
   "execution_count": null,
   "id": "bec15502",
   "metadata": {
    "scrolled": true
   },
   "outputs": [],
   "source": [
    "# Transforming to a CSV file using pandas\n",
    "\n",
    "df = pd.DataFrame(encoded_r, columns = [\"Attribute 1\", \"Attribute 2\", \"Attribute 3\", \"Attribute 4\"])\n",
    "print(df)"
   ]
  },
  {
   "cell_type": "code",
   "execution_count": null,
   "id": "3d2c9e88",
   "metadata": {
    "scrolled": true
   },
   "outputs": [],
   "source": [
    "df.to_csv(\"R_values.csv\", index=False)"
   ]
  },
  {
   "cell_type": "code",
   "execution_count": null,
   "id": "e798b576",
   "metadata": {},
   "outputs": [],
   "source": []
  }
 ],
 "metadata": {
  "kernelspec": {
   "display_name": "Python 3",
   "language": "python",
   "name": "python3"
  },
  "language_info": {
   "codemirror_mode": {
    "name": "ipython",
    "version": 3
   },
   "file_extension": ".py",
   "mimetype": "text/x-python",
   "name": "python",
   "nbconvert_exporter": "python",
   "pygments_lexer": "ipython3",
   "version": "3.8.8"
  }
 },
 "nbformat": 4,
 "nbformat_minor": 5
}
