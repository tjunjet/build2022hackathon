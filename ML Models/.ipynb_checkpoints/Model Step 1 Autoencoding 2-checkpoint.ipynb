{
 "cells": [
  {
   "cell_type": "code",
   "execution_count": 1,
   "id": "fe75d9ea",
   "metadata": {
    "scrolled": true
   },
   "outputs": [
    {
     "name": "stdout",
     "output_type": "stream",
     "text": [
      "62.5\n"
     ]
    }
   ],
   "source": [
    "import train_test_generation\n",
    "from keras.layers import Dense,Conv2D,MaxPooling2D,UpSampling2D\n",
    "from keras import Input, Model\n",
    "from keras.datasets import mnist\n",
    "import numpy as np\n",
    "import matplotlib.pyplot as plt\n",
    "import tensorflow as tf\n",
    "from keras import regularizers\n",
    "import keras\n",
    "import pandas as pd"
   ]
  },
  {
   "cell_type": "code",
   "execution_count": 3,
   "id": "5a88250c",
   "metadata": {},
   "outputs": [],
   "source": [
    "features = pd.read_csv('iterative_dataset.csv')"
   ]
  },
  {
   "cell_type": "code",
   "execution_count": 5,
   "id": "ff3d74d1",
   "metadata": {},
   "outputs": [
    {
     "data": {
      "text/html": [
       "<div>\n",
       "<style scoped>\n",
       "    .dataframe tbody tr th:only-of-type {\n",
       "        vertical-align: middle;\n",
       "    }\n",
       "\n",
       "    .dataframe tbody tr th {\n",
       "        vertical-align: top;\n",
       "    }\n",
       "\n",
       "    .dataframe thead th {\n",
       "        text-align: right;\n",
       "    }\n",
       "</style>\n",
       "<table border=\"1\" class=\"dataframe\">\n",
       "  <thead>\n",
       "    <tr style=\"text-align: right;\">\n",
       "      <th></th>\n",
       "      <th>Unnamed: 0</th>\n",
       "      <th>temperature</th>\n",
       "      <th>humidity</th>\n",
       "      <th>precipitation</th>\n",
       "      <th>windspeed</th>\n",
       "      <th>age</th>\n",
       "      <th>weight</th>\n",
       "      <th>height</th>\n",
       "      <th>sex</th>\n",
       "      <th>fatpercentage</th>\n",
       "      <th>bmi</th>\n",
       "      <th>cold_resistance</th>\n",
       "      <th>scoring_difference</th>\n",
       "      <th>thermal</th>\n",
       "      <th>hoodie</th>\n",
       "      <th>fleece</th>\n",
       "      <th>wool</th>\n",
       "      <th>light_down</th>\n",
       "      <th>thick_down</th>\n",
       "    </tr>\n",
       "  </thead>\n",
       "  <tbody>\n",
       "    <tr>\n",
       "      <th>0</th>\n",
       "      <td>0</td>\n",
       "      <td>4</td>\n",
       "      <td>26</td>\n",
       "      <td>23</td>\n",
       "      <td>3</td>\n",
       "      <td>58</td>\n",
       "      <td>73.425545</td>\n",
       "      <td>162.931325</td>\n",
       "      <td>1</td>\n",
       "      <td>41.130917</td>\n",
       "      <td>27.659097</td>\n",
       "      <td>70.0</td>\n",
       "      <td>-17.2</td>\n",
       "      <td>0</td>\n",
       "      <td>0</td>\n",
       "      <td>0</td>\n",
       "      <td>0</td>\n",
       "      <td>0</td>\n",
       "      <td>0</td>\n",
       "    </tr>\n",
       "    <tr>\n",
       "      <th>1</th>\n",
       "      <td>1</td>\n",
       "      <td>4</td>\n",
       "      <td>26</td>\n",
       "      <td>23</td>\n",
       "      <td>3</td>\n",
       "      <td>58</td>\n",
       "      <td>73.425545</td>\n",
       "      <td>162.931325</td>\n",
       "      <td>1</td>\n",
       "      <td>41.130917</td>\n",
       "      <td>27.659097</td>\n",
       "      <td>70.0</td>\n",
       "      <td>-17.2</td>\n",
       "      <td>0</td>\n",
       "      <td>0</td>\n",
       "      <td>0</td>\n",
       "      <td>0</td>\n",
       "      <td>0</td>\n",
       "      <td>1</td>\n",
       "    </tr>\n",
       "    <tr>\n",
       "      <th>2</th>\n",
       "      <td>2</td>\n",
       "      <td>4</td>\n",
       "      <td>26</td>\n",
       "      <td>23</td>\n",
       "      <td>3</td>\n",
       "      <td>58</td>\n",
       "      <td>73.425545</td>\n",
       "      <td>162.931325</td>\n",
       "      <td>1</td>\n",
       "      <td>41.130917</td>\n",
       "      <td>27.659097</td>\n",
       "      <td>70.0</td>\n",
       "      <td>-17.2</td>\n",
       "      <td>0</td>\n",
       "      <td>0</td>\n",
       "      <td>0</td>\n",
       "      <td>0</td>\n",
       "      <td>1</td>\n",
       "      <td>0</td>\n",
       "    </tr>\n",
       "    <tr>\n",
       "      <th>3</th>\n",
       "      <td>3</td>\n",
       "      <td>4</td>\n",
       "      <td>26</td>\n",
       "      <td>23</td>\n",
       "      <td>3</td>\n",
       "      <td>58</td>\n",
       "      <td>73.425545</td>\n",
       "      <td>162.931325</td>\n",
       "      <td>1</td>\n",
       "      <td>41.130917</td>\n",
       "      <td>27.659097</td>\n",
       "      <td>70.0</td>\n",
       "      <td>-17.2</td>\n",
       "      <td>0</td>\n",
       "      <td>0</td>\n",
       "      <td>0</td>\n",
       "      <td>0</td>\n",
       "      <td>1</td>\n",
       "      <td>1</td>\n",
       "    </tr>\n",
       "    <tr>\n",
       "      <th>4</th>\n",
       "      <td>4</td>\n",
       "      <td>4</td>\n",
       "      <td>26</td>\n",
       "      <td>23</td>\n",
       "      <td>3</td>\n",
       "      <td>58</td>\n",
       "      <td>73.425545</td>\n",
       "      <td>162.931325</td>\n",
       "      <td>1</td>\n",
       "      <td>41.130917</td>\n",
       "      <td>27.659097</td>\n",
       "      <td>70.0</td>\n",
       "      <td>-17.2</td>\n",
       "      <td>0</td>\n",
       "      <td>0</td>\n",
       "      <td>0</td>\n",
       "      <td>1</td>\n",
       "      <td>0</td>\n",
       "      <td>0</td>\n",
       "    </tr>\n",
       "  </tbody>\n",
       "</table>\n",
       "</div>"
      ],
      "text/plain": [
       "   Unnamed: 0  temperature  humidity  precipitation  windspeed  age  \\\n",
       "0           0            4        26             23          3   58   \n",
       "1           1            4        26             23          3   58   \n",
       "2           2            4        26             23          3   58   \n",
       "3           3            4        26             23          3   58   \n",
       "4           4            4        26             23          3   58   \n",
       "\n",
       "      weight      height  sex  fatpercentage        bmi  cold_resistance  \\\n",
       "0  73.425545  162.931325    1      41.130917  27.659097             70.0   \n",
       "1  73.425545  162.931325    1      41.130917  27.659097             70.0   \n",
       "2  73.425545  162.931325    1      41.130917  27.659097             70.0   \n",
       "3  73.425545  162.931325    1      41.130917  27.659097             70.0   \n",
       "4  73.425545  162.931325    1      41.130917  27.659097             70.0   \n",
       "\n",
       "   scoring_difference  thermal  hoodie  fleece  wool  light_down  thick_down  \n",
       "0               -17.2        0       0       0     0           0           0  \n",
       "1               -17.2        0       0       0     0           0           1  \n",
       "2               -17.2        0       0       0     0           1           0  \n",
       "3               -17.2        0       0       0     0           1           1  \n",
       "4               -17.2        0       0       0     1           0           0  "
      ]
     },
     "execution_count": 5,
     "metadata": {},
     "output_type": "execute_result"
    }
   ],
   "source": [
    "features.head()"
   ]
  },
  {
   "cell_type": "code",
   "execution_count": 6,
   "id": "f0c81179",
   "metadata": {
    "scrolled": true
   },
   "outputs": [],
   "source": [
    "user_params_df = features[['age', 'weight', 'height', 'sex', 'fatpercentage', 'bmi']]"
   ]
  },
  {
   "cell_type": "code",
   "execution_count": 12,
   "id": "005717ba",
   "metadata": {
    "scrolled": true
   },
   "outputs": [
    {
     "data": {
      "text/html": [
       "<div>\n",
       "<style scoped>\n",
       "    .dataframe tbody tr th:only-of-type {\n",
       "        vertical-align: middle;\n",
       "    }\n",
       "\n",
       "    .dataframe tbody tr th {\n",
       "        vertical-align: top;\n",
       "    }\n",
       "\n",
       "    .dataframe thead th {\n",
       "        text-align: right;\n",
       "    }\n",
       "</style>\n",
       "<table border=\"1\" class=\"dataframe\">\n",
       "  <thead>\n",
       "    <tr style=\"text-align: right;\">\n",
       "      <th></th>\n",
       "      <th>age</th>\n",
       "      <th>weight</th>\n",
       "      <th>height</th>\n",
       "      <th>sex</th>\n",
       "      <th>fatpercentage</th>\n",
       "      <th>bmi</th>\n",
       "    </tr>\n",
       "  </thead>\n",
       "  <tbody>\n",
       "    <tr>\n",
       "      <th>0</th>\n",
       "      <td>58</td>\n",
       "      <td>73.425545</td>\n",
       "      <td>162.931325</td>\n",
       "      <td>1</td>\n",
       "      <td>41.130917</td>\n",
       "      <td>27.659097</td>\n",
       "    </tr>\n",
       "    <tr>\n",
       "      <th>1</th>\n",
       "      <td>58</td>\n",
       "      <td>73.425545</td>\n",
       "      <td>162.931325</td>\n",
       "      <td>1</td>\n",
       "      <td>41.130917</td>\n",
       "      <td>27.659097</td>\n",
       "    </tr>\n",
       "    <tr>\n",
       "      <th>2</th>\n",
       "      <td>58</td>\n",
       "      <td>73.425545</td>\n",
       "      <td>162.931325</td>\n",
       "      <td>1</td>\n",
       "      <td>41.130917</td>\n",
       "      <td>27.659097</td>\n",
       "    </tr>\n",
       "    <tr>\n",
       "      <th>3</th>\n",
       "      <td>58</td>\n",
       "      <td>73.425545</td>\n",
       "      <td>162.931325</td>\n",
       "      <td>1</td>\n",
       "      <td>41.130917</td>\n",
       "      <td>27.659097</td>\n",
       "    </tr>\n",
       "    <tr>\n",
       "      <th>4</th>\n",
       "      <td>58</td>\n",
       "      <td>73.425545</td>\n",
       "      <td>162.931325</td>\n",
       "      <td>1</td>\n",
       "      <td>41.130917</td>\n",
       "      <td>27.659097</td>\n",
       "    </tr>\n",
       "    <tr>\n",
       "      <th>...</th>\n",
       "      <td>...</td>\n",
       "      <td>...</td>\n",
       "      <td>...</td>\n",
       "      <td>...</td>\n",
       "      <td>...</td>\n",
       "      <td>...</td>\n",
       "    </tr>\n",
       "    <tr>\n",
       "      <th>191995</th>\n",
       "      <td>58</td>\n",
       "      <td>92.125633</td>\n",
       "      <td>166.763229</td>\n",
       "      <td>0</td>\n",
       "      <td>36.892197</td>\n",
       "      <td>33.126831</td>\n",
       "    </tr>\n",
       "    <tr>\n",
       "      <th>191996</th>\n",
       "      <td>58</td>\n",
       "      <td>92.125633</td>\n",
       "      <td>166.763229</td>\n",
       "      <td>0</td>\n",
       "      <td>36.892197</td>\n",
       "      <td>33.126831</td>\n",
       "    </tr>\n",
       "    <tr>\n",
       "      <th>191997</th>\n",
       "      <td>58</td>\n",
       "      <td>92.125633</td>\n",
       "      <td>166.763229</td>\n",
       "      <td>0</td>\n",
       "      <td>36.892197</td>\n",
       "      <td>33.126831</td>\n",
       "    </tr>\n",
       "    <tr>\n",
       "      <th>191998</th>\n",
       "      <td>58</td>\n",
       "      <td>92.125633</td>\n",
       "      <td>166.763229</td>\n",
       "      <td>0</td>\n",
       "      <td>36.892197</td>\n",
       "      <td>33.126831</td>\n",
       "    </tr>\n",
       "    <tr>\n",
       "      <th>191999</th>\n",
       "      <td>58</td>\n",
       "      <td>92.125633</td>\n",
       "      <td>166.763229</td>\n",
       "      <td>0</td>\n",
       "      <td>36.892197</td>\n",
       "      <td>33.126831</td>\n",
       "    </tr>\n",
       "  </tbody>\n",
       "</table>\n",
       "<p>192000 rows × 6 columns</p>\n",
       "</div>"
      ],
      "text/plain": [
       "        age     weight      height  sex  fatpercentage        bmi\n",
       "0        58  73.425545  162.931325    1      41.130917  27.659097\n",
       "1        58  73.425545  162.931325    1      41.130917  27.659097\n",
       "2        58  73.425545  162.931325    1      41.130917  27.659097\n",
       "3        58  73.425545  162.931325    1      41.130917  27.659097\n",
       "4        58  73.425545  162.931325    1      41.130917  27.659097\n",
       "...     ...        ...         ...  ...            ...        ...\n",
       "191995   58  92.125633  166.763229    0      36.892197  33.126831\n",
       "191996   58  92.125633  166.763229    0      36.892197  33.126831\n",
       "191997   58  92.125633  166.763229    0      36.892197  33.126831\n",
       "191998   58  92.125633  166.763229    0      36.892197  33.126831\n",
       "191999   58  92.125633  166.763229    0      36.892197  33.126831\n",
       "\n",
       "[192000 rows x 6 columns]"
      ]
     },
     "execution_count": 12,
     "metadata": {},
     "output_type": "execute_result"
    }
   ],
   "source": [
    "user_params_df"
   ]
  },
  {
   "cell_type": "code",
   "execution_count": null,
   "id": "330175b6",
   "metadata": {
    "scrolled": true
   },
   "outputs": [],
   "source": [
    "#https://www.analyticsvidhya.com/blog/2021/06/complete-guide-on-how-to-use-autoencoders-in-python/"
   ]
  },
  {
   "cell_type": "code",
   "execution_count": null,
   "id": "5291e02a",
   "metadata": {
    "scrolled": true
   },
   "outputs": [],
   "source": [
    "#num = user_params_df.values\n",
    "#num = tf.convert_to_tensor(num)"
   ]
  },
  {
   "cell_type": "code",
   "execution_count": 13,
   "id": "5f2de8a3",
   "metadata": {
    "scrolled": true
   },
   "outputs": [],
   "source": [
    "from sklearn.preprocessing import MinMaxScaler \n",
    "X = MinMaxScaler().fit_transform(user_params_df)"
   ]
  },
  {
   "cell_type": "code",
   "execution_count": 14,
   "id": "7185136c",
   "metadata": {
    "scrolled": true
   },
   "outputs": [],
   "source": [
    "#https://www.geeksforgeeks.org/ml-classifying-data-using-an-auto-encoder/"
   ]
  },
  {
   "cell_type": "code",
   "execution_count": 15,
   "id": "4d3b7a88",
   "metadata": {
    "scrolled": true
   },
   "outputs": [],
   "source": [
    "input_layer = Input(shape =(X.shape[1], ))"
   ]
  },
  {
   "cell_type": "code",
   "execution_count": 16,
   "id": "3fca0270",
   "metadata": {
    "scrolled": true
   },
   "outputs": [],
   "source": [
    "#building the autoencoder network\n",
    "encoded = Dense(100, activation ='linear',\n",
    "                activity_regularizer = regularizers.l1(10e-5))(input_layer)\n",
    "encoded = Dense(50, activation ='linear',\n",
    "                activity_regularizer = regularizers.l1(10e-5))(encoded)\n",
    "encoded = Dense(25, activation ='linear',\n",
    "                activity_regularizer = regularizers.l1(10e-5))(encoded)\n",
    "encoded = Dense(12, activation ='linear',\n",
    "                activity_regularizer = regularizers.l1(10e-5))(encoded)\n",
    "encoded = Dense(4, activation ='linear')(encoded)\n",
    "  \n",
    "# Building the Decoder network\n",
    "decoded = Dense(12, activation ='linear')(encoded)\n",
    "decoded = Dense(25, activation ='linear')(decoded)\n",
    "decoded = Dense(50, activation ='linear')(decoded)\n",
    "decoded = Dense(100, activation ='linear')(decoded)\n",
    "  \n",
    "# Building the Output Layer\n",
    "output_layer = Dense(X.shape[1], activation ='relu')(decoded)\n",
    "output_layer = Dense(X.shape[1], activation ='relu')(decoded)"
   ]
  },
  {
   "cell_type": "code",
   "execution_count": 17,
   "id": "476a7842",
   "metadata": {
    "scrolled": true
   },
   "outputs": [],
   "source": [
    "autoencoder = Model(input_layer, output_layer)\n",
    "autoencoder.compile(optimizer =\"adam\", loss =\"binary_crossentropy\" , metrics=['accuracy'])"
   ]
  },
  {
   "cell_type": "code",
   "execution_count": null,
   "id": "2ed0ebbf",
   "metadata": {
    "scrolled": false
   },
   "outputs": [
    {
     "name": "stdout",
     "output_type": "stream",
     "text": [
      "Epoch 1/25\n",
      "7680/7680 [==============================] - 9s 1ms/step - loss: 1.3425 - accuracy: 0.8709 - val_loss: 0.5129 - val_accuracy: 0.9550\n",
      "Epoch 2/25\n",
      "7680/7680 [==============================] - 8s 1ms/step - loss: 0.6533 - accuracy: 0.9309 - val_loss: 0.5213 - val_accuracy: 0.9150\n",
      "Epoch 3/25\n",
      "7680/7680 [==============================] - 8s 1ms/step - loss: 0.5146 - accuracy: 0.9401 - val_loss: 0.5108 - val_accuracy: 0.9933\n",
      "Epoch 4/25\n",
      "7680/7680 [==============================] - 8s 1ms/step - loss: 0.5193 - accuracy: 0.9234 - val_loss: 0.5252 - val_accuracy: 0.8700\n",
      "Epoch 5/25\n",
      "7680/7680 [==============================] - 8s 1ms/step - loss: 0.5239 - accuracy: 0.9130 - val_loss: 0.5419 - val_accuracy: 0.8150\n",
      "Epoch 6/25\n",
      "7680/7680 [==============================] - 8s 1ms/step - loss: 0.5182 - accuracy: 0.9248 - val_loss: 0.5158 - val_accuracy: 0.9100\n",
      "Epoch 7/25\n",
      "7680/7680 [==============================] - 8s 1ms/step - loss: 1.4319 - accuracy: 0.6059 - val_loss: 1.7784 - val_accuracy: 0.4933\n",
      "Epoch 8/25\n",
      "1337/7680 [====>.........................] - ETA: 5s - loss: 1.8161 - accuracy: 0.4879"
     ]
    }
   ],
   "source": [
    "autoencoder.fit(X, X, \n",
    "                batch_size = 20, epochs = 25, \n",
    "                shuffle = True, validation_split = 0.20)"
   ]
  },
  {
   "cell_type": "code",
   "execution_count": null,
   "id": "52a4b167",
   "metadata": {},
   "outputs": [],
   "source": []
  },
  {
   "cell_type": "code",
   "execution_count": null,
   "id": "74b9be82",
   "metadata": {
    "scrolled": true
   },
   "outputs": [],
   "source": [
    "# Extracting the embedding\n",
    "encoder = keras.Model(input_layer, encoded)\n",
    "encoder.save('encoder-V2.h5', overwrite = True)\n",
    "\n",
    "#encoded_r = encoder.predict(X)\n",
    "#print(encoded_r)"
   ]
  },
  {
   "cell_type": "code",
   "execution_count": null,
   "id": "ed2a3778",
   "metadata": {
    "scrolled": true
   },
   "outputs": [],
   "source": [
    "\n",
    "# Transforming to a CSV file using pandas\n",
    "df = pd.DataFrame(encoded_r, columns = [\"Attribute 1\", \"Attribute 2\", \"Attribute 3\", \"Attribute 4\"])\n",
    "print(df)"
   ]
  },
  {
   "cell_type": "code",
   "execution_count": null,
   "id": "0c1a10cc",
   "metadata": {},
   "outputs": [],
   "source": [
    "#import tensorflow as tf\n",
    "#encoder = tf.keras.models.load_model(\"encoder.h5\", compile = False)\n",
    "#test_output = encoder.predict([[59, 76.350691, 165.034328, 1, 41.809198, 28.032665]])\n"
   ]
  },
  {
   "cell_type": "code",
   "execution_count": null,
   "id": "33ba6f04",
   "metadata": {
    "scrolled": true
   },
   "outputs": [],
   "source": [
    "df.to_csv(\"R_values_V2.csv\", index=False)"
   ]
  },
  {
   "cell_type": "code",
   "execution_count": null,
   "id": "b49c7a26",
   "metadata": {},
   "outputs": [],
   "source": []
  }
 ],
 "metadata": {
  "kernelspec": {
   "display_name": "Python 3",
   "language": "python",
   "name": "python3"
  },
  "language_info": {
   "codemirror_mode": {
    "name": "ipython",
    "version": 3
   },
   "file_extension": ".py",
   "mimetype": "text/x-python",
   "name": "python",
   "nbconvert_exporter": "python",
   "pygments_lexer": "ipython3",
   "version": "3.8.8"
  }
 },
 "nbformat": 4,
 "nbformat_minor": 5
}
