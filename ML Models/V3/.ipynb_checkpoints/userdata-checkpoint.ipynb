{
 "cells": [
  {
   "cell_type": "code",
   "execution_count": 162,
   "id": "359e5a62",
   "metadata": {
    "scrolled": true
   },
   "outputs": [],
   "source": [
    "import train_test_generation\n",
    "import pandas as pd\n",
    "import random\n",
    "import tensorflow as tf\n",
    "import numpy as np"
   ]
  },
  {
   "cell_type": "code",
   "execution_count": 163,
   "id": "08caaa92",
   "metadata": {
    "scrolled": true
   },
   "outputs": [],
   "source": [
    "#user data\n",
    "mydict = {\n",
    "    'temperature' : 12,\n",
    "    'humidity' : 20,\n",
    "    'precipitation' : 60,\n",
    "    'windSpeed' : 30,\n",
    "    'age' : 25,\n",
    "    'weight' : 50.0,\n",
    "    'height' : 170,\n",
    "    'sex' : 1,\n",
    "    'fatpercentage' : 10.0,\n",
    "    'bmi' : 10.0,\n",
    "    'clothes' : {\n",
    "        'thermal' : True, #(both top and bottom)\n",
    "        'hoodie' : True,\n",
    "        'fleece' : True,\n",
    "        'wool' : True,\n",
    "        'light_down' : True,\n",
    "        'thick_down' : True,\n",
    "        'wind_breaker' : False,\n",
    "        'umbrella' : False,\n",
    "        'winter_boots': False\n",
    "    }\n",
    "}"
   ]
  },
  {
   "cell_type": "code",
   "execution_count": 164,
   "id": "c6565fef",
   "metadata": {
    "scrolled": true
   },
   "outputs": [],
   "source": [
    "clothesmap = {\n",
    "    'thermal' : 0, #(both top and bottom)\n",
    "    'hoodie' : 1,\n",
    "    'fleece' : 2,\n",
    "    'wool' : 3,\n",
    "    'light_down' : 4,\n",
    "    'thick_down' : 5,\n",
    "}"
   ]
  },
  {
   "cell_type": "code",
   "execution_count": 165,
   "id": "ea53a7d0",
   "metadata": {
    "scrolled": true
   },
   "outputs": [],
   "source": [
    "def possibleCombinations(mydict, N):\n",
    "    #array containing all possible N bit strings\n",
    "    result = []\n",
    "    for i in range(0, 2**N):\n",
    "        ans = \"{0:0>6b}\".format(i)\n",
    "        result.append(ans)\n",
    "        \n",
    "    #key is clothes (9 values) value is True/False\n",
    "    current_clothes = mydict['clothes']\n",
    "    \n",
    "    #conversion\n",
    "    adapted_clothesList = []\n",
    "    for article in current_clothes:\n",
    "        if article in clothesmap:\n",
    "            if current_clothes[article] == True:\n",
    "                adapted_clothesList.append(1)\n",
    "            else:\n",
    "                adapted_clothesList.append(0)\n",
    "                \n",
    "    check = 0\n",
    "    #filtering\n",
    "    final_result = []\n",
    "    for i in range(len(result)):\n",
    "        check = 0\n",
    "        #this is a 6 bit string\n",
    "        possible_combination = result[i]\n",
    "        \n",
    "        \n",
    "        #checks if the possble combination is valid\n",
    "        for index in range(N):\n",
    "            #if you dont have and the predicton\n",
    "            if adapted_clothesList[index] == 0 and int(possible_combination[index]) == 1:\n",
    "                check = 1\n",
    "                break\n",
    "        if check == 1:\n",
    "            continue\n",
    "        else:\n",
    "            data = {}\n",
    "            for article in clothesmap:\n",
    "                data[article] = possible_combination[clothesmap[article]]\n",
    "\n",
    "            final_result.append(data)\n",
    "        \n",
    "    \n",
    "    \n",
    "    return pd.DataFrame(final_result)\n",
    "            "
   ]
  },
  {
   "cell_type": "code",
   "execution_count": null,
   "id": "09545e59",
   "metadata": {
    "scrolled": true
   },
   "outputs": [],
   "source": []
  },
  {
   "cell_type": "code",
   "execution_count": 166,
   "id": "b685f86f",
   "metadata": {
    "scrolled": true
   },
   "outputs": [],
   "source": [
    "#possibleCombinations = possibleCombinations(mydict, 6)\n",
    "#possibleCombinations"
   ]
  },
  {
   "cell_type": "code",
   "execution_count": 167,
   "id": "d9cf6ef3",
   "metadata": {
    "scrolled": true
   },
   "outputs": [],
   "source": [
    "heatmap = {\n",
    "    'thermal' : 30, #(both top and bottom)\n",
    "    'hoodie' : 10,\n",
    "    'fleece' : 20,\n",
    "    'wool' : 40,\n",
    "    'light_down' : 50,\n",
    "    'thick_down' : 60\n",
    "}"
   ]
  },
  {
   "cell_type": "code",
   "execution_count": 168,
   "id": "0bf25b78",
   "metadata": {
    "scrolled": true
   },
   "outputs": [],
   "source": [
    "def getscoringdifference(temperature, cold_resistance, thermal, hoodie, fleece, wool, light_down, thick_down):\n",
    "    insulation_calculation = -1 * (300/45) * temperature + (-1) * (300/45)* (-25)\n",
    "    insulation_required = insulation_calculation - cold_resistance\n",
    "    heat_provided = 0\n",
    "    \n",
    "    if thermal == 1:\n",
    "        #print('yay')\n",
    "        heat_provided += heatmap['thermal']\n",
    "    \n",
    "    if hoodie == 1:\n",
    "        heat_provided += heatmap['hoodie']\n",
    "        \n",
    "    if fleece == 1:\n",
    "        heat_provided += heatmap['fleece']\n",
    "        \n",
    "    if wool == 1:\n",
    "        heat_provided += heatmap['wool']\n",
    "        \n",
    "    if light_down == 1:\n",
    "        heat_provided += heatmap['light_down']\n",
    "        \n",
    "    if thick_down == 1:\n",
    "        heat_provided += heatmap['thick_down']\n",
    "    \n",
    "    scoring_difference = heat_provided - insulation_required\n",
    "    \n",
    "    return scoring_difference"
   ]
  },
  {
   "cell_type": "code",
   "execution_count": 169,
   "id": "aa5d5699",
   "metadata": {
    "scrolled": true
   },
   "outputs": [],
   "source": [
    "possible = possibleCombinations(mydict, 6)"
   ]
  },
  {
   "cell_type": "code",
   "execution_count": 170,
   "id": "c061c4b5",
   "metadata": {
    "scrolled": true
   },
   "outputs": [],
   "source": [
    "#possible.shape"
   ]
  },
  {
   "cell_type": "code",
   "execution_count": 171,
   "id": "0f5f1abb",
   "metadata": {
    "scrolled": true
   },
   "outputs": [],
   "source": [
    "def getUserFeedback(scoring_difference):\n",
    "    if scoring_difference < -5:\n",
    "        return 0 # too hot\n",
    "    elif scoring_difference > 5:\n",
    "        return 2 # too hot\n",
    "    else:\n",
    "        return 1 # ok"
   ]
  },
  {
   "cell_type": "code",
   "execution_count": 172,
   "id": "c9cfa487",
   "metadata": {
    "scrolled": true
   },
   "outputs": [],
   "source": [
    "\n",
    "def generatefinaldataframe(mydict):\n",
    "    newdict = {}\n",
    "    for key in mydict:\n",
    "        if key != 'clothes':\n",
    "            newdict[key] = mydict[key]\n",
    "            \n",
    "    #print(newdict)\n",
    "    \n",
    "    userdataframe = pd.DataFrame(newdict, index = [0])\n",
    "    #print(userdataframe)\n",
    "    userdataframe['cold_resistance'] = userdataframe.apply(lambda row : train_test_generation.coldresistance(row['sex'], row['age'], row['fatpercentage'], row['bmi']), axis = 1)\n",
    "    preference_factor = random.randint(95, 105)\n",
    "    userdataframe['preference_factor'] = preference_factor\n",
    "    userdataframe['adjusted_cold_resistance'] = userdataframe['cold_resistance'] * preference_factor/100\n",
    "    \n",
    "    duplicated_df = pd.concat([userdataframe] * possible.shape[0], ignore_index = True)\n",
    "    #print(duplicated_df)\n",
    "    ans = pd.concat([duplicated_df, possible], axis = 1)\n",
    "    for _ in heatmap:\n",
    "        ans[_] = ans[_].astype(int)\n",
    "    \n",
    "    ans['scoring_difference_recalibrated'] = ans.apply(lambda row : getscoringdifference(row['temperature'], row['adjusted_cold_resistance'], row['thermal'], row['hoodie'], row['fleece'], row['wool'], row['light_down'], row['thick_down']), axis = 1)\n",
    "    ans['userfeedback'] = ans.apply(lambda row: getUserFeedback(row['scoring_difference_recalibrated']), axis = 1)\n",
    "    return ans\n"
   ]
  },
  {
   "cell_type": "code",
   "execution_count": null,
   "id": "717ed9b5",
   "metadata": {
    "scrolled": true
   },
   "outputs": [],
   "source": []
  },
  {
   "cell_type": "code",
   "execution_count": 173,
   "id": "0010aa04",
   "metadata": {
    "scrolled": true
   },
   "outputs": [],
   "source": [
    "ans = generatefinaldataframe(mydict)"
   ]
  },
  {
   "cell_type": "code",
   "execution_count": 174,
   "id": "c25ec517",
   "metadata": {
    "scrolled": true
   },
   "outputs": [
    {
     "name": "stdout",
     "output_type": "stream",
     "text": [
      "WARNING:tensorflow:No training configuration found in the save file, so the model was *not* compiled. Compile it manually.\n"
     ]
    }
   ],
   "source": [
    "encoder_model = tf.keras.models.load_model(\"encoder-V2.h5\", compile = True)        \n",
    "user_params = ['age', 'weight', 'height', 'sex', 'fatpercentage', 'bmi']\n",
    "user_data = []\n",
    "for param in user_params:\n",
    "    user_data.append(mydict[param])\n",
    "    \n",
    "#user_data\n",
    "user_data_np = np.array([user_data])\n",
    "user_data_np\n",
    "encoded_test_data = encoder_model.predict(user_data_np)"
   ]
  },
  {
   "cell_type": "code",
   "execution_count": 175,
   "id": "bd2f8bcc",
   "metadata": {
    "scrolled": true
   },
   "outputs": [],
   "source": [
    "#encoded_test_data[0][0]"
   ]
  },
  {
   "cell_type": "code",
   "execution_count": 176,
   "id": "1416229e",
   "metadata": {
    "scrolled": true
   },
   "outputs": [],
   "source": [
    "ans[\"R1\"] = encoded_test_data[0][0]\n",
    "ans[\"R2\"] = encoded_test_data[0][1]\n",
    "ans[\"R3\"] = encoded_test_data[0][2]\n",
    "ans[\"R4\"] = encoded_test_data[0][3]"
   ]
  },
  {
   "cell_type": "code",
   "execution_count": 177,
   "id": "d7751612",
   "metadata": {
    "scrolled": true
   },
   "outputs": [],
   "source": [
    "#ans"
   ]
  },
  {
   "cell_type": "code",
   "execution_count": 178,
   "id": "a216a1ef",
   "metadata": {
    "scrolled": true
   },
   "outputs": [],
   "source": [
    "ann_model = tf.keras.models.load_model(\"ANN_V5.h5\")"
   ]
  },
  {
   "cell_type": "code",
   "execution_count": 179,
   "id": "653b8dbc",
   "metadata": {
    "scrolled": true
   },
   "outputs": [
    {
     "data": {
      "text/plain": [
       "Index(['temperature', 'humidity', 'precipitation', 'windSpeed', 'age',\n",
       "       'weight', 'height', 'sex', 'fatpercentage', 'bmi', 'cold_resistance',\n",
       "       'preference_factor', 'adjusted_cold_resistance', 'thermal', 'hoodie',\n",
       "       'fleece', 'wool', 'light_down', 'thick_down',\n",
       "       'scoring_difference_recalibrated', 'userfeedback', 'R1', 'R2', 'R3',\n",
       "       'R4'],\n",
       "      dtype='object')"
      ]
     },
     "execution_count": 179,
     "metadata": {},
     "output_type": "execute_result"
    }
   ],
   "source": [
    "ans.columns"
   ]
  },
  {
   "cell_type": "code",
   "execution_count": 180,
   "id": "a1b87f66",
   "metadata": {
    "scrolled": true
   },
   "outputs": [],
   "source": [
    "features = ans[['temperature', 'humidity', 'precipitation', 'windSpeed', 'thermal', 'hoodie','fleece', 'wool', 'light_down', 'thick_down', 'R1', 'R2', 'R3','R4']]"
   ]
  },
  {
   "cell_type": "code",
   "execution_count": 181,
   "id": "fa0d8c9f",
   "metadata": {
    "scrolled": true
   },
   "outputs": [],
   "source": [
    "#features"
   ]
  },
  {
   "cell_type": "code",
   "execution_count": 182,
   "id": "91e20134",
   "metadata": {
    "scrolled": true
   },
   "outputs": [],
   "source": [
    "#feature_input = features.to_numpy"
   ]
  },
  {
   "cell_type": "code",
   "execution_count": 183,
   "id": "55977fc3",
   "metadata": {
    "scrolled": true
   },
   "outputs": [],
   "source": [
    "#feature_input"
   ]
  },
  {
   "cell_type": "code",
   "execution_count": 184,
   "id": "3cae4114",
   "metadata": {
    "scrolled": true
   },
   "outputs": [],
   "source": [
    "from sklearn.preprocessing import StandardScaler\n",
    "sc = StandardScaler()\n",
    "X = sc.fit_transform(features)\n",
    "\n",
    "suggested_clothing = ann_model.predict(X)\n",
    "\n",
    "#suggested_clothing"
   ]
  },
  {
   "cell_type": "code",
   "execution_count": 185,
   "id": "e0a91616",
   "metadata": {},
   "outputs": [],
   "source": [
    "#suggested_clothing[0][0]"
   ]
  },
  {
   "cell_type": "code",
   "execution_count": 186,
   "id": "fc09fe75",
   "metadata": {
    "scrolled": true
   },
   "outputs": [],
   "source": [
    "best_index = -1\n",
    "best_score = 10000\n",
    "for i in range(len(suggested_clothing)):\n",
    "    difference = abs(suggested_clothing[i][0])\n",
    "    if difference < best_score:\n",
    "        best_score = difference\n",
    "        best_index = i\n",
    "        \n",
    "\n",
    "#best_index, best_score"
   ]
  },
  {
   "cell_type": "code",
   "execution_count": 187,
   "id": "e1c3ed0b",
   "metadata": {},
   "outputs": [],
   "source": [
    "prediction = features.iloc[[best_index]]"
   ]
  },
  {
   "cell_type": "code",
   "execution_count": 188,
   "id": "0b0d7b1b",
   "metadata": {},
   "outputs": [],
   "source": [
    "#features.columns"
   ]
  },
  {
   "cell_type": "code",
   "execution_count": 189,
   "id": "445d6723",
   "metadata": {},
   "outputs": [],
   "source": [
    "#type(features['temperature'][0])"
   ]
  },
  {
   "cell_type": "code",
   "execution_count": 190,
   "id": "4beba98c",
   "metadata": {},
   "outputs": [
    {
     "name": "stderr",
     "output_type": "stream",
     "text": [
      "<ipython-input-190-5b9253255ded>:3: SettingWithCopyWarning: \n",
      "A value is trying to be set on a copy of a slice from a DataFrame.\n",
      "Try using .loc[row_indexer,col_indexer] = value instead\n",
      "\n",
      "See the caveats in the documentation: https://pandas.pydata.org/pandas-docs/stable/user_guide/indexing.html#returning-a-view-versus-a-copy\n",
      "  result['windbreaker'] = 1\n",
      "<ipython-input-190-5b9253255ded>:8: SettingWithCopyWarning: \n",
      "A value is trying to be set on a copy of a slice from a DataFrame.\n",
      "Try using .loc[row_indexer,col_indexer] = value instead\n",
      "\n",
      "See the caveats in the documentation: https://pandas.pydata.org/pandas-docs/stable/user_guide/indexing.html#returning-a-view-versus-a-copy\n",
      "  result['umbrella'] = 1\n",
      "<ipython-input-190-5b9253255ded>:15: SettingWithCopyWarning: \n",
      "A value is trying to be set on a copy of a slice from a DataFrame.\n",
      "Try using .loc[row_indexer,col_indexer] = value instead\n",
      "\n",
      "See the caveats in the documentation: https://pandas.pydata.org/pandas-docs/stable/user_guide/indexing.html#returning-a-view-versus-a-copy\n",
      "  result['winter_boots'] = 0\n"
     ]
    }
   ],
   "source": [
    "result = prediction[['thermal','hoodie', 'fleece', 'wool', 'light_down', 'thick_down']]\n",
    "if features['windSpeed'][0] >= 25:\n",
    "    result['windbreaker'] = 1\n",
    "else:\n",
    "    result['windbreaker'] = 0\n",
    "    \n",
    "if features['precipitation'][0] >= 50:\n",
    "    result['umbrella'] = 1\n",
    "else:\n",
    "    result['umbrella'] = 0\n",
    "    \n",
    "if features['precipitation'][0] >= 50 and features['temperature'][0] <= 5:\n",
    "    result['winter_boots'] = 1\n",
    "else:\n",
    "    result['winter_boots'] = 0"
   ]
  },
  {
   "cell_type": "code",
   "execution_count": 191,
   "id": "20360d83",
   "metadata": {},
   "outputs": [],
   "source": [
    "#result"
   ]
  },
  {
   "cell_type": "code",
   "execution_count": 192,
   "id": "82d028ec",
   "metadata": {},
   "outputs": [],
   "source": [
    "intermediate_ans = result.to_dict('list')"
   ]
  },
  {
   "cell_type": "code",
   "execution_count": 193,
   "id": "f7c6b319",
   "metadata": {},
   "outputs": [],
   "source": [
    "#intermediate_ans"
   ]
  },
  {
   "cell_type": "code",
   "execution_count": 194,
   "id": "91f95244",
   "metadata": {},
   "outputs": [],
   "source": [
    "final_prediction = {}\n",
    "for _ in intermediate_ans:\n",
    "    final_prediction[_] = intermediate_ans[_][0]"
   ]
  },
  {
   "cell_type": "code",
   "execution_count": 195,
   "id": "93e1febd",
   "metadata": {},
   "outputs": [
    {
     "data": {
      "text/plain": [
       "{'thermal': 0,\n",
       " 'hoodie': 1,\n",
       " 'fleece': 0,\n",
       " 'wool': 1,\n",
       " 'light_down': 0,\n",
       " 'thick_down': 0,\n",
       " 'windbreaker': 1,\n",
       " 'umbrella': 1,\n",
       " 'winter_boots': 0}"
      ]
     },
     "execution_count": 195,
     "metadata": {},
     "output_type": "execute_result"
    }
   ],
   "source": [
    "final_prediction"
   ]
  },
  {
   "cell_type": "code",
   "execution_count": null,
   "id": "1a03332d",
   "metadata": {},
   "outputs": [],
   "source": []
  }
 ],
 "metadata": {
  "kernelspec": {
   "display_name": "Python 3",
   "language": "python",
   "name": "python3"
  },
  "language_info": {
   "codemirror_mode": {
    "name": "ipython",
    "version": 3
   },
   "file_extension": ".py",
   "mimetype": "text/x-python",
   "name": "python",
   "nbconvert_exporter": "python",
   "pygments_lexer": "ipython3",
   "version": "3.8.8"
  }
 },
 "nbformat": 4,
 "nbformat_minor": 5
}
