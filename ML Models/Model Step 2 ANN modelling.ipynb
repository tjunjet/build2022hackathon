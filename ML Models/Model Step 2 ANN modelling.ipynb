{
 "cells": [
  {
   "cell_type": "code",
   "execution_count": 4,
   "metadata": {},
   "outputs": [
    {
     "name": "stdout",
     "output_type": "stream",
     "text": [
      "Requirement already satisfied: tensorflow in c:\\users\\lengw\\appdata\\roaming\\python\\python38\\site-packages (2.7.0)Note: you may need to restart the kernel to use updated packages.\n",
      "Requirement already satisfied: six>=1.12.0 in c:\\programdata\\anaconda3\\lib\\site-packages (from tensorflow) (1.15.0)\n",
      "Requirement already satisfied: flatbuffers<3.0,>=1.12 in c:\\programdata\\anaconda3\\lib\\site-packages (from tensorflow) (2.0)\n",
      "Requirement already satisfied: opt-einsum>=2.3.2 in c:\\programdata\\anaconda3\\lib\\site-packages (from tensorflow) (3.3.0)\n"
     ]
    },
    {
     "name": "stderr",
     "output_type": "stream",
     "text": [
      "WARNING: Ignoring invalid distribution -portlib-metadata (c:\\programdata\\anaconda3\\lib\\site-packages)\n",
      "WARNING: Ignoring invalid distribution -portlib-metadata (c:\\programdata\\anaconda3\\lib\\site-packages)\n",
      "WARNING: Ignoring invalid distribution -oml (c:\\programdata\\anaconda3\\lib\\site-packages)\n",
      "WARNING: Ignoring invalid distribution -mportlib-metadata (c:\\programdata\\anaconda3\\lib\\site-packages)\n",
      "WARNING: Ignoring invalid distribution - (c:\\programdata\\anaconda3\\lib\\site-packages)\n",
      "WARNING: Ignoring invalid distribution -portlib-metadata (c:\\programdata\\anaconda3\\lib\\site-packages)\n",
      "WARNING: Ignoring invalid distribution -portlib-metadata (c:\\programdata\\anaconda3\\lib\\site-packages)\n",
      "WARNING: Ignoring invalid distribution -oml (c:\\programdata\\anaconda3\\lib\\site-packages)\n",
      "WARNING: Ignoring invalid distribution -mportlib-metadata (c:\\programdata\\anaconda3\\lib\\site-packages)\n",
      "WARNING: Ignoring invalid distribution - (c:\\programdata\\anaconda3\\lib\\site-packages)\n",
      "WARNING: Ignoring invalid distribution -portlib-metadata (c:\\programdata\\anaconda3\\lib\\site-packages)\n",
      "WARNING: Ignoring invalid distribution -portlib-metadata (c:\\programdata\\anaconda3\\lib\\site-packages)\n",
      "WARNING: Ignoring invalid distribution -oml (c:\\programdata\\anaconda3\\lib\\site-packages)\n",
      "WARNING: Ignoring invalid distribution -mportlib-metadata (c:\\programdata\\anaconda3\\lib\\site-packages)\n",
      "WARNING: Ignoring invalid distribution - (c:\\programdata\\anaconda3\\lib\\site-packages)\n",
      "WARNING: Ignoring invalid distribution -portlib-metadata (c:\\programdata\\anaconda3\\lib\\site-packages)\n",
      "WARNING: Ignoring invalid distribution -portlib-metadata (c:\\programdata\\anaconda3\\lib\\site-packages)\n",
      "WARNING: Ignoring invalid distribution -oml (c:\\programdata\\anaconda3\\lib\\site-packages)\n",
      "WARNING: Ignoring invalid distribution -mportlib-metadata (c:\\programdata\\anaconda3\\lib\\site-packages)\n",
      "WARNING: Ignoring invalid distribution - (c:\\programdata\\anaconda3\\lib\\site-packages)\n"
     ]
    },
    {
     "name": "stdout",
     "output_type": "stream",
     "text": [
      "\n",
      "Requirement already satisfied: tensorflow-estimator<2.8,~=2.7.0rc0 in c:\\programdata\\anaconda3\\lib\\site-packages (from tensorflow) (2.7.0)\n",
      "Requirement already satisfied: protobuf>=3.9.2 in c:\\programdata\\anaconda3\\lib\\site-packages (from tensorflow) (3.19.3)\n",
      "Requirement already satisfied: google-pasta>=0.1.1 in c:\\programdata\\anaconda3\\lib\\site-packages (from tensorflow) (0.2.0)\n",
      "Requirement already satisfied: absl-py>=0.4.0 in c:\\programdata\\anaconda3\\lib\\site-packages (from tensorflow) (1.0.0)\n",
      "Requirement already satisfied: numpy>=1.14.5 in c:\\programdata\\anaconda3\\lib\\site-packages (from tensorflow) (1.19.2)\n",
      "Requirement already satisfied: h5py>=2.9.0 in c:\\programdata\\anaconda3\\lib\\site-packages (from tensorflow) (2.10.0)\n",
      "Requirement already satisfied: keras-preprocessing>=1.1.1 in c:\\programdata\\anaconda3\\lib\\site-packages (from tensorflow) (1.1.2)\n",
      "Requirement already satisfied: wrapt>=1.11.0 in c:\\programdata\\anaconda3\\lib\\site-packages (from tensorflow) (1.11.2)\n",
      "Requirement already satisfied: astunparse>=1.6.0 in c:\\programdata\\anaconda3\\lib\\site-packages (from tensorflow) (1.6.3)\n",
      "Requirement already satisfied: libclang>=9.0.1 in c:\\programdata\\anaconda3\\lib\\site-packages (from tensorflow) (12.0.0)\n",
      "Requirement already satisfied: tensorboard~=2.6 in c:\\users\\lengw\\appdata\\roaming\\python\\python38\\site-packages (from tensorflow) (2.7.0)\n",
      "Requirement already satisfied: wheel<1.0,>=0.32.0 in c:\\programdata\\anaconda3\\lib\\site-packages (from tensorflow) (0.35.1)\n",
      "Requirement already satisfied: tensorflow-io-gcs-filesystem>=0.21.0 in c:\\programdata\\anaconda3\\lib\\site-packages (from tensorflow) (0.23.1)\n",
      "Requirement already satisfied: gast<0.5.0,>=0.2.1 in c:\\programdata\\anaconda3\\lib\\site-packages (from tensorflow) (0.4.0)\n",
      "Requirement already satisfied: keras<2.8,>=2.7.0rc0 in c:\\programdata\\anaconda3\\lib\\site-packages (from tensorflow) (2.7.0)\n",
      "Requirement already satisfied: termcolor>=1.1.0 in c:\\programdata\\anaconda3\\lib\\site-packages (from tensorflow) (1.1.0)\n",
      "Requirement already satisfied: typing-extensions>=3.6.6 in c:\\programdata\\anaconda3\\lib\\site-packages (from tensorflow) (3.7.4.3)\n",
      "Requirement already satisfied: grpcio<2.0,>=1.24.3 in c:\\programdata\\anaconda3\\lib\\site-packages (from tensorflow) (1.43.0)\n",
      "Requirement already satisfied: google-auth<3,>=1.6.3 in c:\\programdata\\anaconda3\\lib\\site-packages (from tensorboard~=2.6->tensorflow) (2.3.3)\n",
      "Requirement already satisfied: google-auth-oauthlib<0.5,>=0.4.1 in c:\\programdata\\anaconda3\\lib\\site-packages (from tensorboard~=2.6->tensorflow) (0.4.6)\n",
      "Requirement already satisfied: markdown>=2.6.8 in c:\\users\\lengw\\appdata\\roaming\\python\\python38\\site-packages (from tensorboard~=2.6->tensorflow) (3.3.6)\n",
      "Requirement already satisfied: setuptools>=41.0.0 in c:\\programdata\\anaconda3\\lib\\site-packages (from tensorboard~=2.6->tensorflow) (50.3.1.post20201107)\n",
      "Requirement already satisfied: tensorboard-plugin-wit>=1.6.0 in c:\\programdata\\anaconda3\\lib\\site-packages (from tensorboard~=2.6->tensorflow) (1.8.1)\n",
      "Requirement already satisfied: werkzeug>=0.11.15 in c:\\programdata\\anaconda3\\lib\\site-packages (from tensorboard~=2.6->tensorflow) (1.0.1)\n",
      "Requirement already satisfied: requests<3,>=2.21.0 in c:\\programdata\\anaconda3\\lib\\site-packages (from tensorboard~=2.6->tensorflow) (2.24.0)\n",
      "Requirement already satisfied: tensorboard-data-server<0.7.0,>=0.6.0 in c:\\programdata\\anaconda3\\lib\\site-packages (from tensorboard~=2.6->tensorflow) (0.6.1)\n",
      "Requirement already satisfied: pyasn1-modules>=0.2.1 in c:\\programdata\\anaconda3\\lib\\site-packages (from google-auth<3,>=1.6.3->tensorboard~=2.6->tensorflow) (0.2.8)\n",
      "Requirement already satisfied: rsa<5,>=3.1.4 in c:\\programdata\\anaconda3\\lib\\site-packages (from google-auth<3,>=1.6.3->tensorboard~=2.6->tensorflow) (4.8)\n",
      "Requirement already satisfied: cachetools<5.0,>=2.0.0 in c:\\programdata\\anaconda3\\lib\\site-packages (from google-auth<3,>=1.6.3->tensorboard~=2.6->tensorflow) (4.2.4)\n",
      "Requirement already satisfied: requests-oauthlib>=0.7.0 in c:\\programdata\\anaconda3\\lib\\site-packages (from google-auth-oauthlib<0.5,>=0.4.1->tensorboard~=2.6->tensorflow) (1.3.0)\n",
      "Requirement already satisfied: importlib-metadata>=4.4 in c:\\users\\lengw\\appdata\\roaming\\python\\python38\\site-packages (from markdown>=2.6.8->tensorboard~=2.6->tensorflow) (4.10.0)\n",
      "Requirement already satisfied: chardet<4,>=3.0.2 in c:\\programdata\\anaconda3\\lib\\site-packages (from requests<3,>=2.21.0->tensorboard~=2.6->tensorflow) (3.0.4)\n",
      "Requirement already satisfied: urllib3!=1.25.0,!=1.25.1,<1.26,>=1.21.1 in c:\\programdata\\anaconda3\\lib\\site-packages (from requests<3,>=2.21.0->tensorboard~=2.6->tensorflow) (1.25.11)\n",
      "Requirement already satisfied: certifi>=2017.4.17 in c:\\programdata\\anaconda3\\lib\\site-packages (from requests<3,>=2.21.0->tensorboard~=2.6->tensorflow) (2020.6.20)\n",
      "Requirement already satisfied: idna<3,>=2.5 in c:\\programdata\\anaconda3\\lib\\site-packages (from requests<3,>=2.21.0->tensorboard~=2.6->tensorflow) (2.10)\n",
      "Requirement already satisfied: zipp>=0.5 in c:\\programdata\\anaconda3\\lib\\site-packages (from importlib-metadata>=4.4->markdown>=2.6.8->tensorboard~=2.6->tensorflow) (3.4.0)\n",
      "Requirement already satisfied: pyasn1<0.5.0,>=0.4.6 in c:\\programdata\\anaconda3\\lib\\site-packages (from pyasn1-modules>=0.2.1->google-auth<3,>=1.6.3->tensorboard~=2.6->tensorflow) (0.4.8)\n",
      "Requirement already satisfied: oauthlib>=3.0.0 in c:\\programdata\\anaconda3\\lib\\site-packages (from requests-oauthlib>=0.7.0->google-auth-oauthlib<0.5,>=0.4.1->tensorboard~=2.6->tensorflow) (3.1.1)\n"
     ]
    }
   ],
   "source": [
    "pip install tensorflow "
   ]
  },
  {
   "cell_type": "code",
   "execution_count": 10,
   "metadata": {},
   "outputs": [
    {
     "name": "stdout",
     "output_type": "stream",
     "text": [
      "[True, True, True, True, True, True, False, False, False]\n",
      "-9.999999999999972\n"
     ]
    },
    {
     "name": "stderr",
     "output_type": "stream",
     "text": [
      "C:\\Users\\lengw\\Desktop\\CMU\\Hackathons\\winter_wear-ther_guide\\ML Models\\train_test_generation.py:512: SettingWithCopyWarning: \n",
      "A value is trying to be set on a copy of a slice from a DataFrame\n",
      "\n",
      "See the caveats in the documentation: https://pandas.pydata.org/pandas-docs/stable/user_guide/indexing.html#returning-a-view-versus-a-copy\n",
      "  df[article][ite] = bool(random.getrandbits(1))\n",
      "C:\\ProgramData\\Anaconda3\\lib\\site-packages\\pandas\\core\\indexing.py:670: SettingWithCopyWarning: \n",
      "A value is trying to be set on a copy of a slice from a DataFrame\n",
      "\n",
      "See the caveats in the documentation: https://pandas.pydata.org/pandas-docs/stable/user_guide/indexing.html#returning-a-view-versus-a-copy\n",
      "  iloc._setitem_with_indexer(indexer, value)\n"
     ]
    }
   ],
   "source": [
    "import numpy as np\n",
    "import pandas as pd\n",
    "import random\n",
    "import datetime\n",
    "from sklearn.model_selection import train_test_split\n",
    "# import xgboost as xgb\n",
    "# from xgboost import XGBClassifier\n",
    "from datetime import date\n",
    "import tensorflow as tf\n",
    "import train_test_generation\n"
   ]
  },
  {
   "cell_type": "code",
   "execution_count": 12,
   "metadata": {},
   "outputs": [
    {
     "ename": "TypeError",
     "evalue": "generatefinaldf() missing 1 required positional argument: 'proportion'",
     "output_type": "error",
     "traceback": [
      "\u001b[1;31m---------------------------------------------------------------------------\u001b[0m",
      "\u001b[1;31mTypeError\u001b[0m                                 Traceback (most recent call last)",
      "\u001b[1;32m<ipython-input-12-dda51957b631>\u001b[0m in \u001b[0;36m<module>\u001b[1;34m\u001b[0m\n\u001b[1;32m----> 1\u001b[1;33m \u001b[0mfeatures\u001b[0m\u001b[1;33m,\u001b[0m \u001b[0moutput\u001b[0m \u001b[1;33m=\u001b[0m \u001b[0mtrain_test_generation\u001b[0m\u001b[1;33m.\u001b[0m\u001b[0mgeneratefinaldf\u001b[0m\u001b[1;33m(\u001b[0m\u001b[1;36m10\u001b[0m\u001b[1;33m**\u001b[0m\u001b[1;36m5\u001b[0m\u001b[1;33m,\u001b[0m \u001b[1;34m'ML'\u001b[0m\u001b[1;33m)\u001b[0m\u001b[1;33m\u001b[0m\u001b[1;33m\u001b[0m\u001b[0m\n\u001b[0m",
      "\u001b[1;31mTypeError\u001b[0m: generatefinaldf() missing 1 required positional argument: 'proportion'"
     ]
    }
   ],
   "source": [
    "features, output = train_test_generation.generatefinaldf(10**5, 'ML', )"
   ]
  },
  {
   "cell_type": "code",
   "execution_count": null,
   "metadata": {},
   "outputs": [],
   "source": [
    "features.tail()"
   ]
  },
  {
   "cell_type": "code",
   "execution_count": null,
   "metadata": {},
   "outputs": [],
   "source": [
    "output.tail()"
   ]
  },
  {
   "cell_type": "code",
   "execution_count": 6,
   "metadata": {},
   "outputs": [],
   "source": [
    "for i in output.columns:\n",
    "    output[i] = output[i].astype(int)\n",
    "#output.tail()"
   ]
  },
  {
   "cell_type": "code",
   "execution_count": 7,
   "metadata": {},
   "outputs": [],
   "source": [
    "X_train, X_test, Y_train, Y_test = train_test_split(features, output, test_size=0.25, random_state=10)"
   ]
  },
  {
   "cell_type": "code",
   "execution_count": 8,
   "metadata": {},
   "outputs": [],
   "source": [
    "#https://www.analyticsvidhya.com/blog/2021/10/implementing-artificial-neural-networkclassification-in-python-from-scratch/"
   ]
  },
  {
   "cell_type": "code",
   "execution_count": 9,
   "metadata": {},
   "outputs": [],
   "source": [
    "from sklearn.preprocessing import StandardScaler\n",
    "sc = StandardScaler()\n",
    "X_train = sc.fit_transform(X_train)\n",
    "X_test = sc.transform(X_test)"
   ]
  },
  {
   "cell_type": "code",
   "execution_count": 10,
   "metadata": {},
   "outputs": [],
   "source": [
    "ann = tf.keras.models.Sequential()"
   ]
  },
  {
   "cell_type": "code",
   "execution_count": 11,
   "metadata": {},
   "outputs": [],
   "source": [
    "ann.add(tf.keras.layers.Dense(units=6,activation=\"linear\"))"
   ]
  },
  {
   "cell_type": "code",
   "execution_count": 12,
   "metadata": {},
   "outputs": [],
   "source": [
    "ann.add(tf.keras.layers.Dense(units=6,activation=\"linear\"))"
   ]
  },
  {
   "cell_type": "code",
   "execution_count": 13,
   "metadata": {},
   "outputs": [],
   "source": [
    "ann.add(tf.keras.layers.Dense(units=9,activation=\"sigmoid\"))"
   ]
  },
  {
   "cell_type": "code",
   "execution_count": 14,
   "metadata": {},
   "outputs": [],
   "source": [
    "ann.compile(optimizer=\"adam\",loss=\"binary_crossentropy\",metrics=['accuracy'])"
   ]
  },
  {
   "cell_type": "code",
   "execution_count": 15,
   "metadata": {},
   "outputs": [
    {
     "name": "stdout",
     "output_type": "stream",
     "text": [
      "Epoch 1/100\n",
      "2344/2344 [==============================] - 2s 590us/step - loss: 0.3264 - accuracy: 0.1921\n",
      "Epoch 2/100\n",
      "2344/2344 [==============================] - 2s 644us/step - loss: 0.2440 - accuracy: 0.2029\n",
      "Epoch 3/100\n",
      "2344/2344 [==============================] - 1s 599us/step - loss: 0.2393 - accuracy: 0.2037\n",
      "Epoch 4/100\n",
      "2344/2344 [==============================] - 1s 597us/step - loss: 0.2372 - accuracy: 0.2045\n",
      "Epoch 5/100\n",
      "2344/2344 [==============================] - 1s 594us/step - loss: 0.2359 - accuracy: 0.2050\n",
      "Epoch 6/100\n",
      "2344/2344 [==============================] - 1s 599us/step - loss: 0.2350 - accuracy: 0.2054\n",
      "Epoch 7/100\n",
      "2344/2344 [==============================] - 1s 590us/step - loss: 0.2344 - accuracy: 0.2062\n",
      "Epoch 8/100\n",
      "2344/2344 [==============================] - 1s 588us/step - loss: 0.2339 - accuracy: 0.2066\n",
      "Epoch 9/100\n",
      "2344/2344 [==============================] - 1s 601us/step - loss: 0.2336 - accuracy: 0.2069\n",
      "Epoch 10/100\n",
      "2344/2344 [==============================] - 1s 598us/step - loss: 0.2332 - accuracy: 0.2073\n",
      "Epoch 11/100\n",
      "2344/2344 [==============================] - 1s 587us/step - loss: 0.2330 - accuracy: 0.2075\n",
      "Epoch 12/100\n",
      "2344/2344 [==============================] - 1s 589us/step - loss: 0.2329 - accuracy: 0.2077\n",
      "Epoch 13/100\n",
      "2344/2344 [==============================] - 1s 581us/step - loss: 0.2327 - accuracy: 0.2082\n",
      "Epoch 14/100\n",
      "2344/2344 [==============================] - 1s 590us/step - loss: 0.2326 - accuracy: 0.2086\n",
      "Epoch 15/100\n",
      "2344/2344 [==============================] - 1s 594us/step - loss: 0.2324 - accuracy: 0.2087\n",
      "Epoch 16/100\n",
      "2344/2344 [==============================] - 1s 607us/step - loss: 0.2324 - accuracy: 0.2087\n",
      "Epoch 17/100\n",
      "2344/2344 [==============================] - 1s 590us/step - loss: 0.2323 - accuracy: 0.2087\n",
      "Epoch 18/100\n",
      "2344/2344 [==============================] - 1s 584us/step - loss: 0.2322 - accuracy: 0.2088\n",
      "Epoch 19/100\n",
      "2344/2344 [==============================] - 1s 594us/step - loss: 0.2321 - accuracy: 0.20880s - loss: 0.2322 \n",
      "Epoch 20/100\n",
      "2344/2344 [==============================] - 1s 600us/step - loss: 0.2320 - accuracy: 0.2085\n",
      "Epoch 21/100\n",
      "2344/2344 [==============================] - 1s 587us/step - loss: 0.2321 - accuracy: 0.2087\n",
      "Epoch 22/100\n",
      "2344/2344 [==============================] - 1s 584us/step - loss: 0.2320 - accuracy: 0.2083\n",
      "Epoch 23/100\n",
      "2344/2344 [==============================] - 1s 580us/step - loss: 0.2319 - accuracy: 0.2081\n",
      "Epoch 24/100\n",
      "2344/2344 [==============================] - 1s 599us/step - loss: 0.2319 - accuracy: 0.2079\n",
      "Epoch 25/100\n",
      "2344/2344 [==============================] - 1s 632us/step - loss: 0.2319 - accuracy: 0.2077\n",
      "Epoch 26/100\n",
      "2344/2344 [==============================] - 1s 619us/step - loss: 0.2319 - accuracy: 0.2075\n",
      "Epoch 27/100\n",
      "2344/2344 [==============================] - 1s 599us/step - loss: 0.2318 - accuracy: 0.2072\n",
      "Epoch 28/100\n",
      "2344/2344 [==============================] - 1s 605us/step - loss: 0.2318 - accuracy: 0.2069\n",
      "Epoch 29/100\n",
      "2344/2344 [==============================] - 1s 607us/step - loss: 0.2317 - accuracy: 0.2066\n",
      "Epoch 30/100\n",
      "2344/2344 [==============================] - 1s 595us/step - loss: 0.2317 - accuracy: 0.2063\n",
      "Epoch 31/100\n",
      "2344/2344 [==============================] - 1s 606us/step - loss: 0.2317 - accuracy: 0.2061\n",
      "Epoch 32/100\n",
      "2344/2344 [==============================] - 1s 617us/step - loss: 0.2316 - accuracy: 0.2058\n",
      "Epoch 33/100\n",
      "2344/2344 [==============================] - 1s 596us/step - loss: 0.2317 - accuracy: 0.2056\n",
      "Epoch 34/100\n",
      "2344/2344 [==============================] - 1s 596us/step - loss: 0.2316 - accuracy: 0.2054\n",
      "Epoch 35/100\n",
      "2344/2344 [==============================] - 1s 596us/step - loss: 0.2316 - accuracy: 0.2052\n",
      "Epoch 36/100\n",
      "2344/2344 [==============================] - 1s 611us/step - loss: 0.2315 - accuracy: 0.2047\n",
      "Epoch 37/100\n",
      "2344/2344 [==============================] - 1s 618us/step - loss: 0.2315 - accuracy: 0.2044\n",
      "Epoch 38/100\n",
      "2344/2344 [==============================] - 1s 612us/step - loss: 0.2315 - accuracy: 0.2042\n",
      "Epoch 39/100\n",
      "2344/2344 [==============================] - 1s 595us/step - loss: 0.2315 - accuracy: 0.2039\n",
      "Epoch 40/100\n",
      "2344/2344 [==============================] - 1s 601us/step - loss: 0.2315 - accuracy: 0.2036\n",
      "Epoch 41/100\n",
      "2344/2344 [==============================] - 1s 593us/step - loss: 0.2315 - accuracy: 0.2034\n",
      "Epoch 42/100\n",
      "2344/2344 [==============================] - 1s 589us/step - loss: 0.2315 - accuracy: 0.2031\n",
      "Epoch 43/100\n",
      "2344/2344 [==============================] - 1s 602us/step - loss: 0.2315 - accuracy: 0.2031\n",
      "Epoch 44/100\n",
      "2344/2344 [==============================] - 1s 593us/step - loss: 0.2314 - accuracy: 0.2027\n",
      "Epoch 45/100\n",
      "2344/2344 [==============================] - 1s 595us/step - loss: 0.2314 - accuracy: 0.2025\n",
      "Epoch 46/100\n",
      "2344/2344 [==============================] - 1s 598us/step - loss: 0.2314 - accuracy: 0.2023\n",
      "Epoch 47/100\n",
      "2344/2344 [==============================] - 1s 595us/step - loss: 0.2314 - accuracy: 0.2020\n",
      "Epoch 48/100\n",
      "2344/2344 [==============================] - 1s 595us/step - loss: 0.2314 - accuracy: 0.2018\n",
      "Epoch 49/100\n",
      "2344/2344 [==============================] - 1s 594us/step - loss: 0.2313 - accuracy: 0.2016\n",
      "Epoch 50/100\n",
      "2344/2344 [==============================] - 1s 595us/step - loss: 0.2314 - accuracy: 0.2014\n",
      "Epoch 51/100\n",
      "2344/2344 [==============================] - 1s 607us/step - loss: 0.2314 - accuracy: 0.2012\n",
      "Epoch 52/100\n",
      "2344/2344 [==============================] - 1s 601us/step - loss: 0.2313 - accuracy: 0.2011\n",
      "Epoch 53/100\n",
      "2344/2344 [==============================] - 1s 596us/step - loss: 0.2313 - accuracy: 0.2008\n",
      "Epoch 54/100\n",
      "2344/2344 [==============================] - 1s 610us/step - loss: 0.2313 - accuracy: 0.2007\n",
      "Epoch 55/100\n",
      "2344/2344 [==============================] - 1s 605us/step - loss: 0.2313 - accuracy: 0.2005\n",
      "Epoch 56/100\n",
      "2344/2344 [==============================] - 1s 601us/step - loss: 0.2313 - accuracy: 0.2004\n",
      "Epoch 57/100\n",
      "2344/2344 [==============================] - 1s 601us/step - loss: 0.2313 - accuracy: 0.2001\n",
      "Epoch 58/100\n",
      "2344/2344 [==============================] - 1s 592us/step - loss: 0.2313 - accuracy: 0.2000\n",
      "Epoch 59/100\n",
      "2344/2344 [==============================] - 1s 592us/step - loss: 0.2314 - accuracy: 0.1999\n",
      "Epoch 60/100\n",
      "2344/2344 [==============================] - 1s 596us/step - loss: 0.2314 - accuracy: 0.1996\n",
      "Epoch 61/100\n",
      "2344/2344 [==============================] - 1s 595us/step - loss: 0.2313 - accuracy: 0.1997\n",
      "Epoch 62/100\n",
      "2344/2344 [==============================] - 1s 609us/step - loss: 0.2313 - accuracy: 0.19940s - loss:\n",
      "Epoch 63/100\n",
      "2344/2344 [==============================] - 1s 638us/step - loss: 0.2312 - accuracy: 0.1994\n",
      "Epoch 64/100\n",
      "2344/2344 [==============================] - 1s 602us/step - loss: 0.2313 - accuracy: 0.1991\n",
      "Epoch 65/100\n",
      "2344/2344 [==============================] - 1s 618us/step - loss: 0.2312 - accuracy: 0.1990\n",
      "Epoch 66/100\n",
      "2344/2344 [==============================] - 1s 622us/step - loss: 0.2313 - accuracy: 0.1989\n",
      "Epoch 67/100\n",
      "2344/2344 [==============================] - 1s 615us/step - loss: 0.2312 - accuracy: 0.1988\n",
      "Epoch 68/100\n",
      "2344/2344 [==============================] - 1s 620us/step - loss: 0.2313 - accuracy: 0.1988\n",
      "Epoch 69/100\n",
      "2344/2344 [==============================] - 1s 618us/step - loss: 0.2313 - accuracy: 0.1987\n",
      "Epoch 70/100\n",
      "2344/2344 [==============================] - 1s 613us/step - loss: 0.2312 - accuracy: 0.1986\n",
      "Epoch 71/100\n",
      "2344/2344 [==============================] - 1s 621us/step - loss: 0.2313 - accuracy: 0.1986\n",
      "Epoch 72/100\n",
      "2344/2344 [==============================] - 1s 619us/step - loss: 0.2312 - accuracy: 0.1983\n",
      "Epoch 73/100\n",
      "2344/2344 [==============================] - 1s 613us/step - loss: 0.2312 - accuracy: 0.1983\n",
      "Epoch 74/100\n",
      "2344/2344 [==============================] - 1s 620us/step - loss: 0.2312 - accuracy: 0.1984\n",
      "Epoch 75/100\n",
      "2344/2344 [==============================] - 1s 616us/step - loss: 0.2312 - accuracy: 0.1982\n",
      "Epoch 76/100\n",
      "2344/2344 [==============================] - 1s 605us/step - loss: 0.2313 - accuracy: 0.1982\n",
      "Epoch 77/100\n",
      "2344/2344 [==============================] - 1s 596us/step - loss: 0.2312 - accuracy: 0.1981\n",
      "Epoch 78/100\n"
     ]
    },
    {
     "name": "stdout",
     "output_type": "stream",
     "text": [
      "2344/2344 [==============================] - 1s 587us/step - loss: 0.2312 - accuracy: 0.1979\n",
      "Epoch 79/100\n",
      "2344/2344 [==============================] - 1s 597us/step - loss: 0.2311 - accuracy: 0.1979\n",
      "Epoch 80/100\n",
      "2344/2344 [==============================] - 1s 601us/step - loss: 0.2312 - accuracy: 0.1978\n",
      "Epoch 81/100\n",
      "2344/2344 [==============================] - 1s 597us/step - loss: 0.2312 - accuracy: 0.1978\n",
      "Epoch 82/100\n",
      "2344/2344 [==============================] - 1s 596us/step - loss: 0.2311 - accuracy: 0.1978\n",
      "Epoch 83/100\n",
      "2344/2344 [==============================] - 1s 596us/step - loss: 0.2312 - accuracy: 0.1977\n",
      "Epoch 84/100\n",
      "2344/2344 [==============================] - 1s 605us/step - loss: 0.2311 - accuracy: 0.1977\n",
      "Epoch 85/100\n",
      "2344/2344 [==============================] - 1s 606us/step - loss: 0.2311 - accuracy: 0.1976\n",
      "Epoch 86/100\n",
      "2344/2344 [==============================] - 1s 604us/step - loss: 0.2312 - accuracy: 0.1975\n",
      "Epoch 87/100\n",
      "2344/2344 [==============================] - 1s 602us/step - loss: 0.2311 - accuracy: 0.1975\n",
      "Epoch 88/100\n",
      "2344/2344 [==============================] - 1s 599us/step - loss: 0.2312 - accuracy: 0.1975\n",
      "Epoch 89/100\n",
      "2344/2344 [==============================] - 1s 590us/step - loss: 0.2312 - accuracy: 0.1975\n",
      "Epoch 90/100\n",
      "2344/2344 [==============================] - 1s 601us/step - loss: 0.2311 - accuracy: 0.1975\n",
      "Epoch 91/100\n",
      "2344/2344 [==============================] - 1s 604us/step - loss: 0.2312 - accuracy: 0.1974\n",
      "Epoch 92/100\n",
      "2344/2344 [==============================] - 1s 599us/step - loss: 0.2311 - accuracy: 0.1974\n",
      "Epoch 93/100\n",
      "2344/2344 [==============================] - 1s 579us/step - loss: 0.2311 - accuracy: 0.1974\n",
      "Epoch 94/100\n",
      "2344/2344 [==============================] - 1s 592us/step - loss: 0.2311 - accuracy: 0.1973\n",
      "Epoch 95/100\n",
      "2344/2344 [==============================] - 1s 594us/step - loss: 0.2311 - accuracy: 0.1972\n",
      "Epoch 96/100\n",
      "2344/2344 [==============================] - 1s 608us/step - loss: 0.2312 - accuracy: 0.1972\n",
      "Epoch 97/100\n",
      "2344/2344 [==============================] - 2s 651us/step - loss: 0.2312 - accuracy: 0.1971\n",
      "Epoch 98/100\n",
      "2344/2344 [==============================] - 1s 610us/step - loss: 0.2311 - accuracy: 0.1969\n",
      "Epoch 99/100\n",
      "2344/2344 [==============================] - 1s 594us/step - loss: 0.2310 - accuracy: 0.1972\n",
      "Epoch 100/100\n",
      "2344/2344 [==============================] - 1s 616us/step - loss: 0.2311 - accuracy: 0.1971\n"
     ]
    },
    {
     "data": {
      "text/plain": [
       "<keras.callbacks.History at 0x20a587a8790>"
      ]
     },
     "execution_count": 15,
     "metadata": {},
     "output_type": "execute_result"
    }
   ],
   "source": [
    "ann.fit(X_train,Y_train,batch_size=32,epochs = 100)"
   ]
  },
  {
   "cell_type": "code",
   "execution_count": null,
   "metadata": {},
   "outputs": [],
   "source": [
    "ann.save(\"ANN.h5\")"
   ]
  },
  {
   "cell_type": "code",
   "execution_count": null,
   "metadata": {},
   "outputs": [],
   "source": [
    "model.load(\"ANN.h5\")"
   ]
  },
  {
   "cell_type": "code",
   "execution_count": null,
   "metadata": {},
   "outputs": [],
   "source": [
    "from sklearn.metrics import precision_score, recall_score, accuracy_score\n",
    "preds = model.predict(D_test)\n",
    "best_preds = np.asarray([np.argmax(line) for line in preds])\n",
    "\n",
    "print(\"Precision = {}\".format(precision_score(Y_test, best_preds, average='macro')))\n",
    "print(\"Recall = {}\".format(recall_score(Y_test, best_preds, average='macro')))\n",
    "print(\"Accuracy = {}\".format(accuracy_score(Y_test, best_preds)))"
   ]
  }
 ],
 "metadata": {
  "kernelspec": {
   "display_name": "Python 3",
   "language": "python",
   "name": "python3"
  },
  "language_info": {
   "codemirror_mode": {
    "name": "ipython",
    "version": 3
   },
   "file_extension": ".py",
   "mimetype": "text/x-python",
   "name": "python",
   "nbconvert_exporter": "python",
   "pygments_lexer": "ipython3",
   "version": "3.8.5"
  }
 },
 "nbformat": 4,
 "nbformat_minor": 5
}
