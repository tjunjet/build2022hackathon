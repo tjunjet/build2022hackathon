{
 "cells": [
  {
   "cell_type": "code",
   "execution_count": 53,
   "metadata": {},
   "outputs": [],
   "source": [
    "import numpy as np\n",
    "import pandas as pd\n",
    "import random\n",
    "import datetime\n",
    "from sklearn.model_selection import train_test_split\n",
    "# import xgboost as xgb\n",
    "# from xgboost import XGBClassifier\n",
    "from datetime import date\n",
    "import tensorflow as tf\n",
    "import train_test_generation\n"
   ]
  },
  {
   "cell_type": "code",
   "execution_count": null,
   "metadata": {},
   "outputs": [],
   "source": [
    "features, output = train_test_generation.generatefinaldf(10**5, 'raw', 0.5)"
   ]
  },
  {
   "cell_type": "code",
   "execution_count": null,
   "metadata": {},
   "outputs": [],
   "source": [
    "features.tail(50)"
   ]
  },
  {
   "cell_type": "code",
   "execution_count": null,
   "metadata": {},
   "outputs": [],
   "source": [
    "output.tail(50)"
   ]
  },
  {
   "cell_type": "code",
   "execution_count": 26,
   "metadata": {},
   "outputs": [],
   "source": [
    "for i in output.columns:\n",
    "    output[i] = output[i].astype(int)\n",
    "#output.tail()"
   ]
  },
  {
   "cell_type": "code",
   "execution_count": 27,
   "metadata": {},
   "outputs": [],
   "source": [
    "X_train, X_test, Y_train, Y_test = train_test_split(features, output, test_size=0.25, random_state=10)"
   ]
  },
  {
   "cell_type": "code",
   "execution_count": 28,
   "metadata": {},
   "outputs": [],
   "source": [
    "#https://www.analyticsvidhya.com/blog/2021/10/implementing-artificial-neural-networkclassification-in-python-from-scratch/"
   ]
  },
  {
   "cell_type": "code",
   "execution_count": 29,
   "metadata": {},
   "outputs": [],
   "source": [
    "from sklearn.preprocessing import StandardScaler\n",
    "sc = StandardScaler()\n",
    "X_train = sc.fit_transform(X_train)\n",
    "X_test = sc.transform(X_test)"
   ]
  },
  {
   "cell_type": "code",
   "execution_count": 30,
   "metadata": {},
   "outputs": [],
   "source": [
    "ann = tf.keras.models.Sequential()"
   ]
  },
  {
   "cell_type": "code",
   "execution_count": 31,
   "metadata": {},
   "outputs": [],
   "source": [
    "ann.add(tf.keras.layers.Dense(units=6,activation=\"linear\"))"
   ]
  },
  {
   "cell_type": "code",
   "execution_count": 32,
   "metadata": {},
   "outputs": [],
   "source": [
    "ann.add(tf.keras.layers.Dense(units=6,activation=\"linear\"))"
   ]
  },
  {
   "cell_type": "code",
   "execution_count": 33,
   "metadata": {},
   "outputs": [],
   "source": [
    "ann.add(tf.keras.layers.Dense(units=9,activation=\"sigmoid\"))"
   ]
  },
  {
   "cell_type": "code",
   "execution_count": 34,
   "metadata": {},
   "outputs": [],
   "source": [
    "ann.compile(optimizer=\"adam\",loss=\"binary_crossentropy\",metrics=['accuracy'])"
   ]
  },
  {
   "cell_type": "code",
   "execution_count": 35,
   "metadata": {},
   "outputs": [
    {
     "name": "stdout",
     "output_type": "stream",
     "text": [
      "Epoch 1/100\n",
      "2344/2344 [==============================] - 15s 4ms/step - loss: 0.6971 - accuracy: 0.1022\n",
      "Epoch 2/100\n",
      "2344/2344 [==============================] - 9s 4ms/step - loss: 0.6933 - accuracy: 0.0937\n",
      "Epoch 3/100\n",
      "2344/2344 [==============================] - 9s 4ms/step - loss: 0.6933 - accuracy: 0.1027\n",
      "Epoch 4/100\n",
      "2344/2344 [==============================] - 9s 4ms/step - loss: 0.6932 - accuracy: 0.1009\n",
      "Epoch 5/100\n",
      "2344/2344 [==============================] - 9s 4ms/step - loss: 0.6932 - accuracy: 0.0955\n",
      "Epoch 6/100\n",
      "2344/2344 [==============================] - 9s 4ms/step - loss: 0.6932 - accuracy: 0.1152\n",
      "Epoch 7/100\n",
      "2344/2344 [==============================] - 9s 4ms/step - loss: 0.6932 - accuracy: 0.0978\n",
      "Epoch 8/100\n",
      "2344/2344 [==============================] - 9s 4ms/step - loss: 0.6932 - accuracy: 0.0911\n",
      "Epoch 9/100\n",
      "2344/2344 [==============================] - 9s 4ms/step - loss: 0.6932 - accuracy: 0.0958\n",
      "Epoch 10/100\n",
      "2344/2344 [==============================] - 9s 4ms/step - loss: 0.6932 - accuracy: 0.0997\n",
      "Epoch 11/100\n",
      "2344/2344 [==============================] - 9s 4ms/step - loss: 0.6932 - accuracy: 0.1107\n",
      "Epoch 12/100\n",
      "2344/2344 [==============================] - 9s 4ms/step - loss: 0.6932 - accuracy: 0.1026\n",
      "Epoch 13/100\n",
      "2344/2344 [==============================] - 9s 4ms/step - loss: 0.6932 - accuracy: 0.1087\n",
      "Epoch 14/100\n",
      "2344/2344 [==============================] - 10s 4ms/step - loss: 0.6932 - accuracy: 0.1055\n",
      "Epoch 15/100\n",
      "2344/2344 [==============================] - 9s 4ms/step - loss: 0.6932 - accuracy: 0.0836\n",
      "Epoch 16/100\n",
      "2344/2344 [==============================] - 9s 4ms/step - loss: 0.6932 - accuracy: 0.1005\n",
      "Epoch 17/100\n",
      "2344/2344 [==============================] - 9s 4ms/step - loss: 0.6932 - accuracy: 0.0911\n",
      "Epoch 18/100\n",
      "2344/2344 [==============================] - 9s 4ms/step - loss: 0.6932 - accuracy: 0.1008\n",
      "Epoch 19/100\n",
      "2344/2344 [==============================] - 9s 4ms/step - loss: 0.6931 - accuracy: 0.0959\n",
      "Epoch 20/100\n",
      "2344/2344 [==============================] - 9s 4ms/step - loss: 0.6932 - accuracy: 0.1095\n",
      "Epoch 21/100\n",
      "2344/2344 [==============================] - 9s 4ms/step - loss: 0.6931 - accuracy: 0.1133\n",
      "Epoch 22/100\n",
      "2344/2344 [==============================] - 9s 4ms/step - loss: 0.6931 - accuracy: 0.0875\n",
      "Epoch 23/100\n",
      "2344/2344 [==============================] - 9s 4ms/step - loss: 0.6931 - accuracy: 0.1113\n",
      "Epoch 24/100\n",
      "2344/2344 [==============================] - 9s 4ms/step - loss: 0.6931 - accuracy: 0.0610\n",
      "Epoch 25/100\n",
      "2344/2344 [==============================] - 9s 4ms/step - loss: 0.6932 - accuracy: 0.1092\n",
      "Epoch 26/100\n",
      "2344/2344 [==============================] - 9s 4ms/step - loss: 0.6931 - accuracy: 0.0874\n",
      "Epoch 27/100\n",
      "2344/2344 [==============================] - 9s 4ms/step - loss: 0.6931 - accuracy: 0.1045\n",
      "Epoch 28/100\n",
      "2344/2344 [==============================] - 9s 4ms/step - loss: 0.6931 - accuracy: 0.0991\n",
      "Epoch 29/100\n",
      "2344/2344 [==============================] - 9s 4ms/step - loss: 0.6931 - accuracy: 0.1033\n",
      "Epoch 30/100\n",
      "2344/2344 [==============================] - 9s 4ms/step - loss: 0.6931 - accuracy: 0.0837\n",
      "Epoch 31/100\n",
      "2344/2344 [==============================] - 9s 4ms/step - loss: 0.6931 - accuracy: 0.0941\n",
      "Epoch 32/100\n",
      "2344/2344 [==============================] - 9s 4ms/step - loss: 0.6931 - accuracy: 0.0906\n",
      "Epoch 33/100\n",
      "2344/2344 [==============================] - 9s 4ms/step - loss: 0.6931 - accuracy: 0.0884\n",
      "Epoch 34/100\n",
      "2344/2344 [==============================] - 9s 4ms/step - loss: 0.6931 - accuracy: 0.1132\n",
      "Epoch 35/100\n",
      "2344/2344 [==============================] - 9s 4ms/step - loss: 0.6931 - accuracy: 0.0814\n",
      "Epoch 36/100\n",
      "2344/2344 [==============================] - 9s 4ms/step - loss: 0.6931 - accuracy: 0.1140\n",
      "Epoch 37/100\n",
      "2344/2344 [==============================] - 9s 4ms/step - loss: 0.6931 - accuracy: 0.0864\n",
      "Epoch 38/100\n",
      "2344/2344 [==============================] - 9s 4ms/step - loss: 0.6931 - accuracy: 0.0874\n",
      "Epoch 39/100\n",
      "2344/2344 [==============================] - 9s 4ms/step - loss: 0.6931 - accuracy: 0.1071\n",
      "Epoch 40/100\n",
      "2344/2344 [==============================] - 9s 4ms/step - loss: 0.6931 - accuracy: 0.0918\n",
      "Epoch 41/100\n",
      "2344/2344 [==============================] - 9s 4ms/step - loss: 0.6931 - accuracy: 0.0896\n",
      "Epoch 42/100\n",
      "2344/2344 [==============================] - 9s 4ms/step - loss: 0.6931 - accuracy: 0.1086\n",
      "Epoch 43/100\n",
      "2344/2344 [==============================] - 10s 4ms/step - loss: 0.6931 - accuracy: 0.0733\n",
      "Epoch 44/100\n",
      "2344/2344 [==============================] - 9s 4ms/step - loss: 0.6931 - accuracy: 0.0930\n",
      "Epoch 45/100\n",
      "2344/2344 [==============================] - 9s 4ms/step - loss: 0.6931 - accuracy: 0.0877\n",
      "Epoch 46/100\n",
      "2344/2344 [==============================] - 9s 4ms/step - loss: 0.6931 - accuracy: 0.1015\n",
      "Epoch 47/100\n",
      "2344/2344 [==============================] - 9s 4ms/step - loss: 0.6931 - accuracy: 0.0983\n",
      "Epoch 48/100\n",
      "2344/2344 [==============================] - 9s 4ms/step - loss: 0.6931 - accuracy: 0.0857\n",
      "Epoch 49/100\n",
      "2344/2344 [==============================] - 9s 4ms/step - loss: 0.6931 - accuracy: 0.1043\n",
      "Epoch 50/100\n",
      "2344/2344 [==============================] - 9s 4ms/step - loss: 0.6931 - accuracy: 0.0945\n",
      "Epoch 51/100\n",
      "2344/2344 [==============================] - 9s 4ms/step - loss: 0.6931 - accuracy: 0.0977\n",
      "Epoch 52/100\n",
      "2344/2344 [==============================] - 9s 4ms/step - loss: 0.6931 - accuracy: 0.1061\n",
      "Epoch 53/100\n",
      "2344/2344 [==============================] - 9s 4ms/step - loss: 0.6931 - accuracy: 0.0865\n",
      "Epoch 54/100\n",
      "2344/2344 [==============================] - 9s 4ms/step - loss: 0.6931 - accuracy: 0.0737\n",
      "Epoch 55/100\n",
      "2344/2344 [==============================] - 9s 4ms/step - loss: 0.6931 - accuracy: 0.1055\n",
      "Epoch 56/100\n",
      "2344/2344 [==============================] - 9s 4ms/step - loss: 0.6931 - accuracy: 0.1063\n",
      "Epoch 57/100\n",
      "2344/2344 [==============================] - 9s 4ms/step - loss: 0.6931 - accuracy: 0.0804\n",
      "Epoch 58/100\n",
      "2344/2344 [==============================] - 9s 4ms/step - loss: 0.6931 - accuracy: 0.0951\n",
      "Epoch 59/100\n",
      "2344/2344 [==============================] - 9s 4ms/step - loss: 0.6931 - accuracy: 0.0794\n",
      "Epoch 60/100\n",
      "2344/2344 [==============================] - 9s 4ms/step - loss: 0.6931 - accuracy: 0.1010\n",
      "Epoch 61/100\n",
      "2344/2344 [==============================] - 9s 4ms/step - loss: 0.6931 - accuracy: 0.0885\n",
      "Epoch 62/100\n",
      "2344/2344 [==============================] - 9s 4ms/step - loss: 0.6931 - accuracy: 0.0859\n",
      "Epoch 63/100\n",
      "2344/2344 [==============================] - 9s 4ms/step - loss: 0.6931 - accuracy: 0.0821\n",
      "Epoch 64/100\n",
      "2344/2344 [==============================] - 9s 4ms/step - loss: 0.6931 - accuracy: 0.0866\n",
      "Epoch 65/100\n",
      "2344/2344 [==============================] - 9s 4ms/step - loss: 0.6931 - accuracy: 0.0891\n",
      "Epoch 66/100\n",
      "2344/2344 [==============================] - 9s 4ms/step - loss: 0.6931 - accuracy: 0.0944\n",
      "Epoch 67/100\n",
      "2344/2344 [==============================] - 9s 4ms/step - loss: 0.6931 - accuracy: 0.0907\n",
      "Epoch 68/100\n",
      "2344/2344 [==============================] - 9s 4ms/step - loss: 0.6931 - accuracy: 0.0742\n",
      "Epoch 69/100\n",
      "2344/2344 [==============================] - 9s 4ms/step - loss: 0.6931 - accuracy: 0.1071\n",
      "Epoch 70/100\n",
      "2344/2344 [==============================] - 9s 4ms/step - loss: 0.6931 - accuracy: 0.0763\n",
      "Epoch 71/100\n",
      "2344/2344 [==============================] - 9s 4ms/step - loss: 0.6931 - accuracy: 0.0989\n",
      "Epoch 72/100\n",
      "2344/2344 [==============================] - 9s 4ms/step - loss: 0.6931 - accuracy: 0.0829\n",
      "Epoch 73/100\n",
      "2344/2344 [==============================] - 9s 4ms/step - loss: 0.6931 - accuracy: 0.0962\n",
      "Epoch 74/100\n",
      "2344/2344 [==============================] - 9s 4ms/step - loss: 0.6931 - accuracy: 0.0937\n",
      "Epoch 75/100\n",
      "2344/2344 [==============================] - 9s 4ms/step - loss: 0.6931 - accuracy: 0.0978\n",
      "Epoch 76/100\n",
      "2344/2344 [==============================] - 9s 4ms/step - loss: 0.6931 - accuracy: 0.0759\n",
      "Epoch 77/100\n",
      "2344/2344 [==============================] - 9s 4ms/step - loss: 0.6931 - accuracy: 0.0817\n",
      "Epoch 78/100\n",
      "2344/2344 [==============================] - 9s 4ms/step - loss: 0.6931 - accuracy: 0.1142\n",
      "Epoch 79/100\n"
     ]
    },
    {
     "name": "stdout",
     "output_type": "stream",
     "text": [
      "2344/2344 [==============================] - 9s 4ms/step - loss: 0.6931 - accuracy: 0.0826\n",
      "Epoch 80/100\n",
      "2344/2344 [==============================] - 8s 4ms/step - loss: 0.6931 - accuracy: 0.0952\n",
      "Epoch 81/100\n",
      "2344/2344 [==============================] - 9s 4ms/step - loss: 0.6931 - accuracy: 0.1126\n",
      "Epoch 82/100\n",
      "2344/2344 [==============================] - 9s 4ms/step - loss: 0.6931 - accuracy: 0.0884\n",
      "Epoch 83/100\n",
      "2344/2344 [==============================] - 9s 4ms/step - loss: 0.6931 - accuracy: 0.1015\n",
      "Epoch 84/100\n",
      "2344/2344 [==============================] - 8s 4ms/step - loss: 0.6931 - accuracy: 0.0738\n",
      "Epoch 85/100\n",
      "2344/2344 [==============================] - 9s 4ms/step - loss: 0.6931 - accuracy: 0.0954\n",
      "Epoch 86/100\n",
      "2344/2344 [==============================] - 9s 4ms/step - loss: 0.6931 - accuracy: 0.0876\n",
      "Epoch 87/100\n",
      "2344/2344 [==============================] - 9s 4ms/step - loss: 0.6931 - accuracy: 0.0896\n",
      "Epoch 88/100\n",
      "2344/2344 [==============================] - 9s 4ms/step - loss: 0.6931 - accuracy: 0.0803\n",
      "Epoch 89/100\n",
      "2344/2344 [==============================] - 10s 4ms/step - loss: 0.6931 - accuracy: 0.0992\n",
      "Epoch 90/100\n",
      "2344/2344 [==============================] - 9s 4ms/step - loss: 0.6931 - accuracy: 0.0747\n",
      "Epoch 91/100\n",
      "2344/2344 [==============================] - 9s 4ms/step - loss: 0.6931 - accuracy: 0.1044\n",
      "Epoch 92/100\n",
      "2344/2344 [==============================] - 9s 4ms/step - loss: 0.6931 - accuracy: 0.1022\n",
      "Epoch 93/100\n",
      "2344/2344 [==============================] - 9s 4ms/step - loss: 0.6931 - accuracy: 0.0827\n",
      "Epoch 94/100\n",
      "2344/2344 [==============================] - 9s 4ms/step - loss: 0.6931 - accuracy: 0.0991\n",
      "Epoch 95/100\n",
      "2344/2344 [==============================] - 9s 4ms/step - loss: 0.6931 - accuracy: 0.0884\n",
      "Epoch 96/100\n",
      "2344/2344 [==============================] - 9s 4ms/step - loss: 0.6931 - accuracy: 0.0982\n",
      "Epoch 97/100\n",
      "2344/2344 [==============================] - 9s 4ms/step - loss: 0.6931 - accuracy: 0.1053\n",
      "Epoch 98/100\n",
      "2344/2344 [==============================] - 9s 4ms/step - loss: 0.6931 - accuracy: 0.0746\n",
      "Epoch 99/100\n",
      "2344/2344 [==============================] - 10s 4ms/step - loss: 0.6931 - accuracy: 0.0980\n",
      "Epoch 100/100\n",
      "2344/2344 [==============================] - 10s 4ms/step - loss: 0.6931 - accuracy: 0.0965\n"
     ]
    },
    {
     "data": {
      "text/plain": [
       "<keras.callbacks.History at 0x1bf234216a0>"
      ]
     },
     "execution_count": 35,
     "metadata": {},
     "output_type": "execute_result"
    }
   ],
   "source": [
    "ann.fit(X_train,Y_train,batch_size=32,epochs = 100)"
   ]
  },
  {
   "cell_type": "code",
   "execution_count": 36,
   "metadata": {},
   "outputs": [],
   "source": [
    "ann.save(\"ANN.h5\")"
   ]
  },
  {
   "cell_type": "code",
   "execution_count": 42,
   "metadata": {},
   "outputs": [],
   "source": [
    "model = tf.keras.models.load_model(\"ANN.h5\")"
   ]
  },
  {
   "cell_type": "code",
   "execution_count": 43,
   "metadata": {},
   "outputs": [
    {
     "name": "stdout",
     "output_type": "stream",
     "text": [
      "782/782 [==============================] - 6s 2ms/step - loss: 0.6932 - accuracy: 0.1860\n"
     ]
    }
   ],
   "source": [
    "test_loss, test_accuracy = model.evaluate(X_test, Y_test)"
   ]
  },
  {
   "cell_type": "code",
   "execution_count": 44,
   "metadata": {},
   "outputs": [
    {
     "ename": "NameError",
     "evalue": "name 'D_test' is not defined",
     "output_type": "error",
     "traceback": [
      "\u001b[1;31m---------------------------------------------------------------------------\u001b[0m",
      "\u001b[1;31mNameError\u001b[0m                                 Traceback (most recent call last)",
      "\u001b[1;32m<ipython-input-44-f44d246aec6b>\u001b[0m in \u001b[0;36m<module>\u001b[1;34m\u001b[0m\n\u001b[0;32m      1\u001b[0m \u001b[1;32mfrom\u001b[0m \u001b[0msklearn\u001b[0m\u001b[1;33m.\u001b[0m\u001b[0mmetrics\u001b[0m \u001b[1;32mimport\u001b[0m \u001b[0mprecision_score\u001b[0m\u001b[1;33m,\u001b[0m \u001b[0mrecall_score\u001b[0m\u001b[1;33m,\u001b[0m \u001b[0maccuracy_score\u001b[0m\u001b[1;33m\u001b[0m\u001b[1;33m\u001b[0m\u001b[0m\n\u001b[1;32m----> 2\u001b[1;33m \u001b[0mpreds\u001b[0m \u001b[1;33m=\u001b[0m \u001b[0mmodel\u001b[0m\u001b[1;33m.\u001b[0m\u001b[0mpredict\u001b[0m\u001b[1;33m(\u001b[0m\u001b[0mD_test\u001b[0m\u001b[1;33m)\u001b[0m\u001b[1;33m\u001b[0m\u001b[1;33m\u001b[0m\u001b[0m\n\u001b[0m\u001b[0;32m      3\u001b[0m \u001b[0mbest_preds\u001b[0m \u001b[1;33m=\u001b[0m \u001b[0mnp\u001b[0m\u001b[1;33m.\u001b[0m\u001b[0masarray\u001b[0m\u001b[1;33m(\u001b[0m\u001b[1;33m[\u001b[0m\u001b[0mnp\u001b[0m\u001b[1;33m.\u001b[0m\u001b[0margmax\u001b[0m\u001b[1;33m(\u001b[0m\u001b[0mline\u001b[0m\u001b[1;33m)\u001b[0m \u001b[1;32mfor\u001b[0m \u001b[0mline\u001b[0m \u001b[1;32min\u001b[0m \u001b[0mpreds\u001b[0m\u001b[1;33m]\u001b[0m\u001b[1;33m)\u001b[0m\u001b[1;33m\u001b[0m\u001b[1;33m\u001b[0m\u001b[0m\n\u001b[0;32m      4\u001b[0m \u001b[1;33m\u001b[0m\u001b[0m\n\u001b[0;32m      5\u001b[0m \u001b[0mprint\u001b[0m\u001b[1;33m(\u001b[0m\u001b[1;34m\"Precision = {}\"\u001b[0m\u001b[1;33m.\u001b[0m\u001b[0mformat\u001b[0m\u001b[1;33m(\u001b[0m\u001b[0mprecision_score\u001b[0m\u001b[1;33m(\u001b[0m\u001b[0mY_test\u001b[0m\u001b[1;33m,\u001b[0m \u001b[0mbest_preds\u001b[0m\u001b[1;33m,\u001b[0m \u001b[0maverage\u001b[0m\u001b[1;33m=\u001b[0m\u001b[1;34m'macro'\u001b[0m\u001b[1;33m)\u001b[0m\u001b[1;33m)\u001b[0m\u001b[1;33m)\u001b[0m\u001b[1;33m\u001b[0m\u001b[1;33m\u001b[0m\u001b[0m\n",
      "\u001b[1;31mNameError\u001b[0m: name 'D_test' is not defined"
     ]
    }
   ],
   "source": [
    "'''\n",
    "from sklearn.metrics import precision_score, recall_score, accuracy_score\n",
    "preds = model.predict(D_test)\n",
    "best_preds = np.asarray([np.argmax(line) for line in preds])\n",
    "\n",
    "print(\"Precision = {}\".format(precision_score(Y_test, best_preds, average='macro')))\n",
    "print(\"Recall = {}\".format(recall_score(Y_test, best_preds, average='macro')))\n",
    "print(\"Accuracy = {}\".format(accuracy_score(Y_test, best_preds)))\n",
    "'''"
   ]
  },
  {
   "cell_type": "code",
   "execution_count": null,
   "metadata": {},
   "outputs": [],
   "source": []
  }
 ],
 "metadata": {
  "kernelspec": {
   "display_name": "Python 3",
   "language": "python",
   "name": "python3"
  },
  "language_info": {
   "codemirror_mode": {
    "name": "ipython",
    "version": 3
   },
   "file_extension": ".py",
   "mimetype": "text/x-python",
   "name": "python",
   "nbconvert_exporter": "python",
   "pygments_lexer": "ipython3",
   "version": "3.8.5"
  }
 },
 "nbformat": 4,
 "nbformat_minor": 5
}
