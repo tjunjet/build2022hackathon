{
 "cells": [
  {
   "cell_type": "code",
   "execution_count": 1,
   "id": "525878df",
   "metadata": {},
   "outputs": [],
   "source": [
    "import requests\n",
    "import json\n",
    "import geocoder\n",
    "import today_weather\n",
    "import pandas as pd"
   ]
  },
  {
   "cell_type": "code",
   "execution_count": 7,
   "id": "a2bf8941",
   "metadata": {},
   "outputs": [],
   "source": [
    "historical_weather_data_api_key = 'e873e86301b849268257b3b949de85b4'"
   ]
  },
  {
   "cell_type": "code",
   "execution_count": 8,
   "id": "dcf48b98",
   "metadata": {},
   "outputs": [],
   "source": [
    "#today_data = today_weather.gettemperaturedata(\"eb11283d82ed8ad579eca6904e3a6712\")\n",
    "    "
   ]
  },
  {
   "cell_type": "code",
   "execution_count": 9,
   "id": "26a06f27",
   "metadata": {},
   "outputs": [],
   "source": [
    "#today_data "
   ]
  },
  {
   "cell_type": "code",
   "execution_count": 10,
   "id": "ac9c4045",
   "metadata": {},
   "outputs": [],
   "source": [
    "#YYYY-MM-DD\n",
    "from datetime import date\n",
    "import datetime\n",
    "def gethistorical(api, period):\n",
    "    today_data = today_weather.gettemperaturedata(\"eb11283d82ed8ad579eca6904e3a6712\")\n",
    "    g = geocoder.ip('me')\n",
    "    lat, lon = g.latlng[0], g.latlng[1]\n",
    "    api_key = api\n",
    "    end = '20' + date.today().strftime(\"%y-%m-%d\")\n",
    "    start = '20' + (date.today() - datetime.timedelta(period)).strftime(\"%y-%m-%d\")\n",
    "    complete_url = f'https://api.weatherbit.io/v2.0/history/daily?lat={lat}&lon={lon}&start_date={start}&end_date={end}&key={api}'\n",
    "    response = requests.get(complete_url)    \n",
    "    data = response.json()\n",
    "    final_data = [today_data]\n",
    "    for day in data['data']:\n",
    "        result = {\n",
    "            'date' : day['datetime'], #Date (YYYY-MM-DD)\n",
    "            'temperature' : day['temp'], #average daily temp in celcius\n",
    "            'humidity' : day['rh'], \n",
    "            'precipitation' : day['precip'], #in mm #Note we need to convert this to a probability!\n",
    "            'windspeed' : day['wind_spd'] * 2.237 #in mph\n",
    "\n",
    "        }\n",
    "        final_data.append(result)\n",
    "\n",
    "    return final_data"
   ]
  },
  {
   "cell_type": "code",
   "execution_count": 11,
   "id": "52c76840",
   "metadata": {},
   "outputs": [],
   "source": [
    "weather_data = gethistorical(historical_weather_data_api_key, 2)"
   ]
  },
  {
   "cell_type": "code",
   "execution_count": 12,
   "id": "9a33f06d",
   "metadata": {},
   "outputs": [
    {
     "data": {
      "text/plain": [
       "[{'date': '2022-01-15',\n",
       "  'temperature': -9.23,\n",
       "  'humidity': 74,\n",
       "  'precipitation': 1,\n",
       "  'windspeed': 2.99758},\n",
       " {'date': '2022-01-14',\n",
       "  'temperature': 0.3,\n",
       "  'humidity': 79.8,\n",
       "  'precipitation': 0,\n",
       "  'windspeed': 8.7243},\n",
       " {'date': '2022-01-13',\n",
       "  'temperature': 3.2,\n",
       "  'humidity': 70.3,\n",
       "  'precipitation': 3.5,\n",
       "  'windspeed': 6.0399}]"
      ]
     },
     "execution_count": 12,
     "metadata": {},
     "output_type": "execute_result"
    }
   ],
   "source": [
    "weather_data"
   ]
  },
  {
   "cell_type": "code",
   "execution_count": 13,
   "id": "7267fdd7",
   "metadata": {
    "scrolled": true
   },
   "outputs": [
    {
     "data": {
      "text/html": [
       "<div>\n",
       "<style scoped>\n",
       "    .dataframe tbody tr th:only-of-type {\n",
       "        vertical-align: middle;\n",
       "    }\n",
       "\n",
       "    .dataframe tbody tr th {\n",
       "        vertical-align: top;\n",
       "    }\n",
       "\n",
       "    .dataframe thead th {\n",
       "        text-align: right;\n",
       "    }\n",
       "</style>\n",
       "<table border=\"1\" class=\"dataframe\">\n",
       "  <thead>\n",
       "    <tr style=\"text-align: right;\">\n",
       "      <th></th>\n",
       "      <th>date</th>\n",
       "      <th>temperature</th>\n",
       "      <th>humidity</th>\n",
       "      <th>precipitation</th>\n",
       "      <th>windspeed</th>\n",
       "    </tr>\n",
       "  </thead>\n",
       "  <tbody>\n",
       "    <tr>\n",
       "      <th>0</th>\n",
       "      <td>2022-01-15</td>\n",
       "      <td>-9.23</td>\n",
       "      <td>74.0</td>\n",
       "      <td>1.0</td>\n",
       "      <td>2.99758</td>\n",
       "    </tr>\n",
       "    <tr>\n",
       "      <th>1</th>\n",
       "      <td>2022-01-14</td>\n",
       "      <td>0.30</td>\n",
       "      <td>79.8</td>\n",
       "      <td>0.0</td>\n",
       "      <td>8.72430</td>\n",
       "    </tr>\n",
       "    <tr>\n",
       "      <th>2</th>\n",
       "      <td>2022-01-13</td>\n",
       "      <td>3.20</td>\n",
       "      <td>70.3</td>\n",
       "      <td>3.5</td>\n",
       "      <td>6.03990</td>\n",
       "    </tr>\n",
       "  </tbody>\n",
       "</table>\n",
       "</div>"
      ],
      "text/plain": [
       "         date  temperature  humidity  precipitation  windspeed\n",
       "0  2022-01-15        -9.23      74.0            1.0    2.99758\n",
       "1  2022-01-14         0.30      79.8            0.0    8.72430\n",
       "2  2022-01-13         3.20      70.3            3.5    6.03990"
      ]
     },
     "execution_count": 13,
     "metadata": {},
     "output_type": "execute_result"
    }
   ],
   "source": [
    "weather_df = pd.DataFrame(weather_data)"
   ]
  },
  {
   "cell_type": "code",
   "execution_count": null,
   "id": "ae2a7108",
   "metadata": {},
   "outputs": [],
   "source": [
    "def UserDataframe()"
   ]
  }
 ],
 "metadata": {
  "kernelspec": {
   "display_name": "Python 3",
   "language": "python",
   "name": "python3"
  },
  "language_info": {
   "codemirror_mode": {
    "name": "ipython",
    "version": 3
   },
   "file_extension": ".py",
   "mimetype": "text/x-python",
   "name": "python",
   "nbconvert_exporter": "python",
   "pygments_lexer": "ipython3",
   "version": "3.8.8"
  }
 },
 "nbformat": 4,
 "nbformat_minor": 5
}
