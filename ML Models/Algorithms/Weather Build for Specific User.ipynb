{
 "cells": [
  {
   "cell_type": "code",
   "execution_count": null,
   "id": "55f511c9",
   "metadata": {},
   "outputs": [],
   "source": [
    "import requests\n",
    "import json\n",
    "import geocoder\n",
    "import today_weather\n",
    "import pandas as pd\n",
    "import random\n",
    "import train_test_generation"
   ]
  },
  {
   "cell_type": "code",
   "execution_count": null,
   "id": "c64dc2f7",
   "metadata": {},
   "outputs": [],
   "source": [
    "historical_weather_data_api_key = 'e873e86301b849268257b3b949de85b4'"
   ]
  },
  {
   "cell_type": "code",
   "execution_count": null,
   "id": "e232ee31",
   "metadata": {},
   "outputs": [],
   "source": [
    "#today_data = today_weather.gettemperaturedata(\"eb11283d82ed8ad579eca6904e3a6712\")\n",
    "    "
   ]
  },
  {
   "cell_type": "code",
   "execution_count": null,
   "id": "75fa539c",
   "metadata": {},
   "outputs": [],
   "source": [
    "#today_data "
   ]
  },
  {
   "cell_type": "code",
   "execution_count": null,
   "id": "c12cf303",
   "metadata": {},
   "outputs": [],
   "source": [
    "#YYYY-MM-DD\n",
    "from datetime import date\n",
    "import datetime\n",
    "def gethistorical(api, period):\n",
    "    today_data = today_weather.gettemperaturedata(\"eb11283d82ed8ad579eca6904e3a6712\")\n",
    "    g = geocoder.ip('me')\n",
    "    lat, lon = g.latlng[0], g.latlng[1]\n",
    "    api_key = api\n",
    "    end = '20' + date.today().strftime(\"%y-%m-%d\")\n",
    "    start = '20' + (date.today() - datetime.timedelta(period)).strftime(\"%y-%m-%d\")\n",
    "    complete_url = f'https://api.weatherbit.io/v2.0/history/daily?lat={lat}&lon={lon}&start_date={start}&end_date={end}&key={api}'\n",
    "    response = requests.get(complete_url)    \n",
    "    data = response.json()\n",
    "    final_data = [today_data]\n",
    "    for day in data['data']:\n",
    "        result = {\n",
    "            'date' : day['datetime'], #Date (YYYY-MM-DD)\n",
    "            'temperature' : day['temp'], #average daily temp in celcius\n",
    "            'humidity' : day['rh'], \n",
    "            'precipitation' : random.randint(0,100), #Note we randomize this because we cant really get a prediction\n",
    "                                                     # from historical data\n",
    "            'windspeed' : day['wind_spd'] * 2.237 #in mph\n",
    "        }\n",
    "        final_data.append(result)\n",
    "\n",
    "    return final_data"
   ]
  },
  {
   "cell_type": "code",
   "execution_count": null,
   "id": "b001195a",
   "metadata": {},
   "outputs": [],
   "source": [
    "#'20' + (date.today() - datetime.timedelta(3000)).strftime(\"%y-%m-%d\")"
   ]
  },
  {
   "cell_type": "code",
   "execution_count": null,
   "id": "c8bfff80",
   "metadata": {},
   "outputs": [],
   "source": []
  },
  {
   "cell_type": "code",
   "execution_count": null,
   "id": "b624b841",
   "metadata": {},
   "outputs": [],
   "source": [
    "#weather_data = gethistorical(historical_weather_data_api_key, 365)"
   ]
  },
  {
   "cell_type": "code",
   "execution_count": null,
   "id": "9f143e34",
   "metadata": {
    "scrolled": true
   },
   "outputs": [],
   "source": [
    "#weather_data"
   ]
  },
  {
   "cell_type": "code",
   "execution_count": null,
   "id": "171b33f3",
   "metadata": {
    "scrolled": true
   },
   "outputs": [],
   "source": [
    "#weather_df = pd.DataFrame(weather_data)"
   ]
  },
  {
   "cell_type": "code",
   "execution_count": null,
   "id": "4c94932d",
   "metadata": {},
   "outputs": [],
   "source": [
    "#weather_df"
   ]
  },
  {
   "cell_type": "code",
   "execution_count": null,
   "id": "73c361a0",
   "metadata": {},
   "outputs": [],
   "source": [
    "def userDataframe(sex, age, height, weight, preference_factor):\n",
    "        BMI = weight/(height**2)*10000\n",
    "        #male\n",
    "        if sex == 0:\n",
    "            fatpercentage = (1.20 * BMI) + (0.23 * age) - 16.2\n",
    "\n",
    "        elif sex == 1:\n",
    "            fatpercentage = (1.20 * BMI) + (0.23 * age) - 5.4\n",
    "\n",
    "        #adjustment for negative fatpercentage\n",
    "        if fatpercentage < 0:\n",
    "            fatpercentage = 1\n",
    "            \n",
    "        cold_resistance = train_test_generation.coldresistance(sex, age, fatpercentage, BMI)\n",
    "        \n",
    "        df = pd.DataFrame([[sex, age, height, weight, preference_factor, fatpercentage, BMI, cold_resistance]], columns = ['sex', 'age', 'height', 'weight', 'preference_factor', 'fatpercentage', 'BMI', 'cold_resistance'])\n",
    "        df['adjusted_cold_resistance'] = (df['cold_resistance'] * (df['preference_factor']/100))\n",
    "        return df"
   ]
  },
  {
   "cell_type": "code",
   "execution_count": null,
   "id": "6e09fe2f",
   "metadata": {},
   "outputs": [],
   "source": [
    "def returnFinalDataframe(sex, age, height, weight, preference_factor, api, period):\n",
    "    weatherdata = gethistorical(api, period)\n",
    "    weather_df = pd.DataFrame(weather_data)\n",
    "    \n",
    "    user_df = userDataframe(sex, age, height, weight, preference_factor)\n",
    "    \n",
    "    \n",
    "    duplicated_df = pd.concat([user_df] * weather_df.shape[0], ignore_index = True)\n",
    "    \n",
    "    \n",
    "    \n",
    "    \n",
    "    combined_df = pd.concat([duplicated_df, weather_df], axis = 1)\n",
    "    for article in train_test_generation.clothesmap:\n",
    "        combined_df[article] = combined_df.apply(lambda row : train_test_generation.predictusingheatscore(row['temperature'], row['adjusted_cold_resistance'], train_test_generation.heatmap,row['windspeed'], row['precipitation'])[train_test_generation.clothesmap[article]], axis = 1)\n",
    "    combined_df['scoring_difference'] = combined_df.apply(lambda row : train_test_generation.getdifference(row['temperature'], row['adjusted_cold_resistance'], train_test_generation.heatmap, row['windspeed'], row['precipitation']), axis = 1)\n",
    "    # newly added user_feedback\n",
    "    combined_df['user_feedback'] = combined_df.apply(lambda row : train_test_generation.getUserFeedback(row['scoring_difference']), axis = 1)\n",
    "    return combined_df"
   ]
  },
  {
   "cell_type": "code",
   "execution_count": null,
   "id": "3377d8ed",
   "metadata": {},
   "outputs": [],
   "source": [
    "#dataf = returnFinalDataframe(0,25, 170, 57, 95, 'e873e86301b849268257b3b949de85b4', 365)"
   ]
  },
  {
   "cell_type": "code",
   "execution_count": null,
   "id": "ef3d5e4d",
   "metadata": {},
   "outputs": [],
   "source": [
    "#dataf.head()"
   ]
  },
  {
   "cell_type": "code",
   "execution_count": null,
   "id": "5a8de54f",
   "metadata": {},
   "outputs": [],
   "source": [
    "#dataf"
   ]
  },
  {
   "cell_type": "code",
   "execution_count": null,
   "id": "eac7dc94",
   "metadata": {},
   "outputs": [],
   "source": []
  }
 ],
 "metadata": {
  "kernelspec": {
   "display_name": "Python 3",
   "language": "python",
   "name": "python3"
  },
  "language_info": {
   "codemirror_mode": {
    "name": "ipython",
    "version": 3
   },
   "file_extension": ".py",
   "mimetype": "text/x-python",
   "name": "python",
   "nbconvert_exporter": "python",
   "pygments_lexer": "ipython3",
   "version": "3.8.8"
  }
 },
 "nbformat": 4,
 "nbformat_minor": 5
}
