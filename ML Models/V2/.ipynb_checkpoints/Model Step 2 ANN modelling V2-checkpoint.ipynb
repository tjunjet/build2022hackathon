{
 "cells": [
  {
   "cell_type": "code",
   "execution_count": null,
   "id": "cd1c5de6",
   "metadata": {},
   "outputs": [],
   "source": [
    "import numpy as np\n",
    "import pandas as pd\n",
    "import random\n",
    "import datetime\n",
    "from sklearn.model_selection import train_test_split\n",
    "from datetime import date\n",
    "import tensorflow as tf\n",
    "import train_test_generation\n",
    "from sklearn.model_selection import GridSearchCV\n",
    "import train_test_generation"
   ]
  },
  {
   "cell_type": "code",
   "execution_count": null,
   "id": "078782cf",
   "metadata": {},
   "outputs": [],
   "source": [
    "raw = pd.read_csv('iterative_dataset.csv')"
   ]
  },
  {
   "cell_type": "code",
   "execution_count": null,
   "id": "befb4498",
   "metadata": {},
   "outputs": [],
   "source": [
    "raw.columns"
   ]
  },
  {
   "cell_type": "code",
   "execution_count": null,
   "id": "39070374",
   "metadata": {},
   "outputs": [],
   "source": [
    "raw.head()"
   ]
  },
  {
   "cell_type": "code",
   "execution_count": null,
   "id": "629aec9d",
   "metadata": {},
   "outputs": [],
   "source": [
    "raw = raw[['temperature', 'humidity', 'precipitation', 'windspeed', 'age', 'weight', 'height', 'sex', 'fatpercentage', 'bmi','cold_resistance', 'scoring_difference_recalibrated', 'thermal', 'hoodie', 'fleece','wool', 'light_down', 'thick_down']]"
   ]
  },
  {
   "cell_type": "code",
   "execution_count": null,
   "id": "844de408",
   "metadata": {},
   "outputs": [],
   "source": [
    "raw['userfeedback'] = raw.apply(lambda row : train_test_generation.getUserFeedback(row['scoring_difference_recalibrated']), axis = 1)"
   ]
  },
  {
   "cell_type": "code",
   "execution_count": null,
   "id": "cfb76ed6",
   "metadata": {},
   "outputs": [],
   "source": [
    "raw"
   ]
  },
  {
   "cell_type": "code",
   "execution_count": null,
   "id": "8a053852",
   "metadata": {},
   "outputs": [],
   "source": [
    "features = raw[['temperature', 'humidity', 'precipitation', 'windspeed', 'thermal', 'hoodie', 'fleece','wool', 'light_down', 'thick_down']]"
   ]
  },
  {
   "cell_type": "code",
   "execution_count": null,
   "id": "51149c76",
   "metadata": {},
   "outputs": [],
   "source": [
    "features"
   ]
  },
  {
   "cell_type": "code",
   "execution_count": null,
   "id": "5d2da7c9",
   "metadata": {
    "scrolled": true
   },
   "outputs": [],
   "source": [
    "output = raw[['userfeedback']]"
   ]
  },
  {
   "cell_type": "code",
   "execution_count": null,
   "id": "cac9c305",
   "metadata": {},
   "outputs": [],
   "source": [
    "output"
   ]
  },
  {
   "cell_type": "code",
   "execution_count": null,
   "id": "2dbc8285",
   "metadata": {},
   "outputs": [],
   "source": [
    "r_values = pd.read_csv(\"R_values_V2.csv\")\n",
    "r_values.tail(10)"
   ]
  },
  {
   "cell_type": "code",
   "execution_count": null,
   "id": "c50d0a98",
   "metadata": {},
   "outputs": [],
   "source": [
    "# Combining R values with CSV file\n",
    "\n",
    "features[\"R1\"] = r_values[\"Attribute 1\"]\n",
    "features[\"R2\"] = r_values[\"Attribute 2\"]\n",
    "features[\"R3\"] = r_values[\"Attribute 3\"]\n",
    "features[\"R4\"] = r_values[\"Attribute 4\"]\n",
    "\n",
    "features.tail(10)"
   ]
  },
  {
   "cell_type": "code",
   "execution_count": null,
   "id": "7b3e18f7",
   "metadata": {},
   "outputs": [],
   "source": [
    "# Splitting the set into X and Y\n",
    "X = features\n",
    "Y = output"
   ]
  },
  {
   "cell_type": "code",
   "execution_count": null,
   "id": "71cbc470",
   "metadata": {},
   "outputs": [],
   "source": [
    "X.tail(10)"
   ]
  },
  {
   "cell_type": "code",
   "execution_count": null,
   "id": "23043df8",
   "metadata": {
    "scrolled": true
   },
   "outputs": [],
   "source": [
    "Y.tail(10)"
   ]
  },
  {
   "cell_type": "code",
   "execution_count": null,
   "id": "d5c9c00b",
   "metadata": {},
   "outputs": [],
   "source": [
    "X_train, X_test, Y_train, Y_test = train_test_split(X, Y, test_size=0.25, random_state=10)"
   ]
  },
  {
   "cell_type": "code",
   "execution_count": null,
   "id": "d4444fcf",
   "metadata": {},
   "outputs": [],
   "source": [
    "#https://www.analyticsvidhya.com/blog/2021/10/implementing-artificial-neural-networkclassification-in-python-from-scratch/"
   ]
  },
  {
   "cell_type": "code",
   "execution_count": null,
   "id": "881634a6",
   "metadata": {},
   "outputs": [],
   "source": [
    "from sklearn.preprocessing import StandardScaler\n",
    "sc = StandardScaler()\n",
    "X_train = sc.fit_transform(X_train)\n",
    "X_test = sc.transform(X_test)"
   ]
  },
  {
   "cell_type": "code",
   "execution_count": null,
   "id": "c6c660df",
   "metadata": {},
   "outputs": [],
   "source": [
    "ann = tf.keras.models.Sequential()"
   ]
  },
  {
   "cell_type": "code",
   "execution_count": null,
   "id": "a3deb9d7",
   "metadata": {},
   "outputs": [],
   "source": [
    "ann.add(tf.keras.layers.Dense(units = 32,activation=\"tanh\"))"
   ]
  },
  {
   "cell_type": "code",
   "execution_count": null,
   "id": "a8d77e80",
   "metadata": {},
   "outputs": [],
   "source": [
    "ann.add(tf.keras.layers.Dense(units = 64,activation=\"tanh\"))"
   ]
  },
  {
   "cell_type": "code",
   "execution_count": null,
   "id": "a475b284",
   "metadata": {},
   "outputs": [],
   "source": [
    "#ann.add(tf.keras.layers.Dense(units = 32,activation=\"linear\"))"
   ]
  },
  {
   "cell_type": "code",
   "execution_count": null,
   "id": "95ca9f20",
   "metadata": {},
   "outputs": [],
   "source": [
    "ann.add(tf.keras.layers.Dense(units = 1,activation=\"tanh\"))"
   ]
  },
  {
   "cell_type": "code",
   "execution_count": null,
   "id": "96600781",
   "metadata": {},
   "outputs": [],
   "source": [
    "ann.compile(optimizer=\"adam\",loss=\"binary_crossentropy\",metrics=['accuracy'])"
   ]
  },
  {
   "cell_type": "code",
   "execution_count": null,
   "id": "247f78e2",
   "metadata": {
    "scrolled": true
   },
   "outputs": [],
   "source": [
    "ann.fit(X_train,Y_train,batch_size=32,epochs = 30)"
   ]
  },
  {
   "cell_type": "code",
   "execution_count": null,
   "id": "0222dc29",
   "metadata": {},
   "outputs": [],
   "source": [
    "\n"
   ]
  },
  {
   "cell_type": "code",
   "execution_count": null,
   "id": "1c8cd363",
   "metadata": {},
   "outputs": [],
   "source": [
    "ann.save(\"ANN_V4.h5\")"
   ]
  },
  {
   "cell_type": "code",
   "execution_count": null,
   "id": "a5ae1123",
   "metadata": {},
   "outputs": [],
   "source": [
    "final_data = np.concatenate((weather_data, encoded_test_data), axis=None)"
   ]
  },
  {
   "cell_type": "code",
   "execution_count": null,
   "id": "85e3c26d",
   "metadata": {},
   "outputs": [],
   "source": [
    "ann_model = tf.keras.models.load_model(\"ANN.h5\")\n",
    "encoder_model = tf.keras.models.load_model(\"encoder.h5\")\n",
    "test_data = np.array([[59, 76.350691, 165.034328, 1, 41.809198, 28.032665]])\n",
    "\n",
    "weather_data = np.array([[-5 , 20 , 60, 27]])\n",
    "\n",
    "encoded_test_data = encoder_model.predict(test_data)\n",
    "#print(encoded_test_data)\n",
    "final_data = np.concatenate((weather_data, encoded_test_data), axis=None)\n",
    "print(final_data)\n",
    "\n",
    "from sklearn.preprocessing import StandardScaler\n",
    "sc = StandardScaler()\n",
    "suggested_clothing = ann_model.predict(sc.fit_transform([final_data]))\n",
    "suggested_clothing"
   ]
  },
  {
   "cell_type": "code",
   "execution_count": null,
   "id": "ca11a05a",
   "metadata": {},
   "outputs": [],
   "source": [
    "test_loss, test_accuracy = model.evaluate(X_test, Y_test)"
   ]
  },
  {
   "cell_type": "code",
   "execution_count": null,
   "id": "694a37b4",
   "metadata": {},
   "outputs": [],
   "source": [
    "'''\n",
    "from sklearn.metrics import precision_score, recall_score, accuracy_score\n",
    "preds = model.predict(D_test)\n",
    "best_preds = np.asarray([np.argmax(line) for line in preds])\n",
    "\n",
    "print(\"Precision = {}\".format(precision_score(Y_test, best_preds, average='macro')))\n",
    "print(\"Recall = {}\".format(recall_score(Y_test, best_preds, average='macro')))\n",
    "print(\"Accuracy = {}\".format(accuracy_score(Y_test, best_preds)))\n",
    "'''"
   ]
  },
  {
   "cell_type": "code",
   "execution_count": null,
   "id": "dc702776",
   "metadata": {},
   "outputs": [],
   "source": [
    "#print(test_loss)\n",
    "#print(test_accuracy)\n"
   ]
  },
  {
   "cell_type": "code",
   "execution_count": null,
   "id": "1020c476",
   "metadata": {},
   "outputs": [],
   "source": []
  }
 ],
 "metadata": {
  "kernelspec": {
   "display_name": "Python 3",
   "language": "python",
   "name": "python3"
  },
  "language_info": {
   "codemirror_mode": {
    "name": "ipython",
    "version": 3
   },
   "file_extension": ".py",
   "mimetype": "text/x-python",
   "name": "python",
   "nbconvert_exporter": "python",
   "pygments_lexer": "ipython3",
   "version": "3.8.8"
  }
 },
 "nbformat": 4,
 "nbformat_minor": 5
}
