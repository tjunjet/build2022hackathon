{
 "cells": [
  {
   "cell_type": "code",
   "execution_count": 1,
   "id": "fe75d9ea",
   "metadata": {
    "scrolled": true
   },
   "outputs": [
    {
     "name": "stdout",
     "output_type": "stream",
     "text": [
      "62.5\n"
     ]
    }
   ],
   "source": [
    "import train_test_generation\n",
    "from keras.layers import Dense,Conv2D,MaxPooling2D,UpSampling2D\n",
    "from keras import Input, Model\n",
    "from keras.datasets import mnist\n",
    "import numpy as np\n",
    "import matplotlib.pyplot as plt\n",
    "import tensorflow as tf\n",
    "from keras import regularizers\n",
    "import keras\n",
    "import pandas as pd"
   ]
  },
  {
   "cell_type": "code",
   "execution_count": 3,
   "id": "73ecd1f5",
   "metadata": {},
   "outputs": [],
   "source": [
    "features = pd.read_csv('iterative_dataset.csv')"
   ]
  },
  {
   "cell_type": "code",
   "execution_count": 5,
   "id": "ec7a40e5",
   "metadata": {},
   "outputs": [
    {
     "data": {
      "text/html": [
       "<div>\n",
       "<style scoped>\n",
       "    .dataframe tbody tr th:only-of-type {\n",
       "        vertical-align: middle;\n",
       "    }\n",
       "\n",
       "    .dataframe tbody tr th {\n",
       "        vertical-align: top;\n",
       "    }\n",
       "\n",
       "    .dataframe thead th {\n",
       "        text-align: right;\n",
       "    }\n",
       "</style>\n",
       "<table border=\"1\" class=\"dataframe\">\n",
       "  <thead>\n",
       "    <tr style=\"text-align: right;\">\n",
       "      <th></th>\n",
       "      <th>Unnamed: 0</th>\n",
       "      <th>temperature</th>\n",
       "      <th>humidity</th>\n",
       "      <th>precipitation</th>\n",
       "      <th>windspeed</th>\n",
       "      <th>age</th>\n",
       "      <th>weight</th>\n",
       "      <th>height</th>\n",
       "      <th>sex</th>\n",
       "      <th>fatpercentage</th>\n",
       "      <th>bmi</th>\n",
       "      <th>cold_resistance</th>\n",
       "      <th>scoring_difference</th>\n",
       "      <th>thermal</th>\n",
       "      <th>hoodie</th>\n",
       "      <th>fleece</th>\n",
       "      <th>wool</th>\n",
       "      <th>light_down</th>\n",
       "      <th>thick_down</th>\n",
       "    </tr>\n",
       "  </thead>\n",
       "  <tbody>\n",
       "    <tr>\n",
       "      <th>0</th>\n",
       "      <td>0</td>\n",
       "      <td>4</td>\n",
       "      <td>26</td>\n",
       "      <td>23</td>\n",
       "      <td>3</td>\n",
       "      <td>58</td>\n",
       "      <td>73.425545</td>\n",
       "      <td>162.931325</td>\n",
       "      <td>1</td>\n",
       "      <td>41.130917</td>\n",
       "      <td>27.659097</td>\n",
       "      <td>70.0</td>\n",
       "      <td>-17.2</td>\n",
       "      <td>0</td>\n",
       "      <td>0</td>\n",
       "      <td>0</td>\n",
       "      <td>0</td>\n",
       "      <td>0</td>\n",
       "      <td>0</td>\n",
       "    </tr>\n",
       "    <tr>\n",
       "      <th>1</th>\n",
       "      <td>1</td>\n",
       "      <td>4</td>\n",
       "      <td>26</td>\n",
       "      <td>23</td>\n",
       "      <td>3</td>\n",
       "      <td>58</td>\n",
       "      <td>73.425545</td>\n",
       "      <td>162.931325</td>\n",
       "      <td>1</td>\n",
       "      <td>41.130917</td>\n",
       "      <td>27.659097</td>\n",
       "      <td>70.0</td>\n",
       "      <td>-17.2</td>\n",
       "      <td>0</td>\n",
       "      <td>0</td>\n",
       "      <td>0</td>\n",
       "      <td>0</td>\n",
       "      <td>0</td>\n",
       "      <td>1</td>\n",
       "    </tr>\n",
       "    <tr>\n",
       "      <th>2</th>\n",
       "      <td>2</td>\n",
       "      <td>4</td>\n",
       "      <td>26</td>\n",
       "      <td>23</td>\n",
       "      <td>3</td>\n",
       "      <td>58</td>\n",
       "      <td>73.425545</td>\n",
       "      <td>162.931325</td>\n",
       "      <td>1</td>\n",
       "      <td>41.130917</td>\n",
       "      <td>27.659097</td>\n",
       "      <td>70.0</td>\n",
       "      <td>-17.2</td>\n",
       "      <td>0</td>\n",
       "      <td>0</td>\n",
       "      <td>0</td>\n",
       "      <td>0</td>\n",
       "      <td>1</td>\n",
       "      <td>0</td>\n",
       "    </tr>\n",
       "    <tr>\n",
       "      <th>3</th>\n",
       "      <td>3</td>\n",
       "      <td>4</td>\n",
       "      <td>26</td>\n",
       "      <td>23</td>\n",
       "      <td>3</td>\n",
       "      <td>58</td>\n",
       "      <td>73.425545</td>\n",
       "      <td>162.931325</td>\n",
       "      <td>1</td>\n",
       "      <td>41.130917</td>\n",
       "      <td>27.659097</td>\n",
       "      <td>70.0</td>\n",
       "      <td>-17.2</td>\n",
       "      <td>0</td>\n",
       "      <td>0</td>\n",
       "      <td>0</td>\n",
       "      <td>0</td>\n",
       "      <td>1</td>\n",
       "      <td>1</td>\n",
       "    </tr>\n",
       "    <tr>\n",
       "      <th>4</th>\n",
       "      <td>4</td>\n",
       "      <td>4</td>\n",
       "      <td>26</td>\n",
       "      <td>23</td>\n",
       "      <td>3</td>\n",
       "      <td>58</td>\n",
       "      <td>73.425545</td>\n",
       "      <td>162.931325</td>\n",
       "      <td>1</td>\n",
       "      <td>41.130917</td>\n",
       "      <td>27.659097</td>\n",
       "      <td>70.0</td>\n",
       "      <td>-17.2</td>\n",
       "      <td>0</td>\n",
       "      <td>0</td>\n",
       "      <td>0</td>\n",
       "      <td>1</td>\n",
       "      <td>0</td>\n",
       "      <td>0</td>\n",
       "    </tr>\n",
       "  </tbody>\n",
       "</table>\n",
       "</div>"
      ],
      "text/plain": [
       "   Unnamed: 0  temperature  humidity  precipitation  windspeed  age  \\\n",
       "0           0            4        26             23          3   58   \n",
       "1           1            4        26             23          3   58   \n",
       "2           2            4        26             23          3   58   \n",
       "3           3            4        26             23          3   58   \n",
       "4           4            4        26             23          3   58   \n",
       "\n",
       "      weight      height  sex  fatpercentage        bmi  cold_resistance  \\\n",
       "0  73.425545  162.931325    1      41.130917  27.659097             70.0   \n",
       "1  73.425545  162.931325    1      41.130917  27.659097             70.0   \n",
       "2  73.425545  162.931325    1      41.130917  27.659097             70.0   \n",
       "3  73.425545  162.931325    1      41.130917  27.659097             70.0   \n",
       "4  73.425545  162.931325    1      41.130917  27.659097             70.0   \n",
       "\n",
       "   scoring_difference  thermal  hoodie  fleece  wool  light_down  thick_down  \n",
       "0               -17.2        0       0       0     0           0           0  \n",
       "1               -17.2        0       0       0     0           0           1  \n",
       "2               -17.2        0       0       0     0           1           0  \n",
       "3               -17.2        0       0       0     0           1           1  \n",
       "4               -17.2        0       0       0     1           0           0  "
      ]
     },
     "execution_count": 5,
     "metadata": {},
     "output_type": "execute_result"
    }
   ],
   "source": [
    "features.head()"
   ]
  },
  {
   "cell_type": "code",
   "execution_count": 6,
   "id": "f0c81179",
   "metadata": {
    "scrolled": true
   },
   "outputs": [],
   "source": [
    "user_params_df = features[['age', 'weight', 'height', 'sex', 'fatpercentage', 'bmi']]"
   ]
  },
  {
   "cell_type": "code",
   "execution_count": 12,
   "id": "005717ba",
   "metadata": {
    "scrolled": true
   },
   "outputs": [
    {
     "data": {
      "text/html": [
       "<div>\n",
       "<style scoped>\n",
       "    .dataframe tbody tr th:only-of-type {\n",
       "        vertical-align: middle;\n",
       "    }\n",
       "\n",
       "    .dataframe tbody tr th {\n",
       "        vertical-align: top;\n",
       "    }\n",
       "\n",
       "    .dataframe thead th {\n",
       "        text-align: right;\n",
       "    }\n",
       "</style>\n",
       "<table border=\"1\" class=\"dataframe\">\n",
       "  <thead>\n",
       "    <tr style=\"text-align: right;\">\n",
       "      <th></th>\n",
       "      <th>age</th>\n",
       "      <th>weight</th>\n",
       "      <th>height</th>\n",
       "      <th>sex</th>\n",
       "      <th>fatpercentage</th>\n",
       "      <th>bmi</th>\n",
       "    </tr>\n",
       "  </thead>\n",
       "  <tbody>\n",
       "    <tr>\n",
       "      <th>0</th>\n",
       "      <td>58</td>\n",
       "      <td>73.425545</td>\n",
       "      <td>162.931325</td>\n",
       "      <td>1</td>\n",
       "      <td>41.130917</td>\n",
       "      <td>27.659097</td>\n",
       "    </tr>\n",
       "    <tr>\n",
       "      <th>1</th>\n",
       "      <td>58</td>\n",
       "      <td>73.425545</td>\n",
       "      <td>162.931325</td>\n",
       "      <td>1</td>\n",
       "      <td>41.130917</td>\n",
       "      <td>27.659097</td>\n",
       "    </tr>\n",
       "    <tr>\n",
       "      <th>2</th>\n",
       "      <td>58</td>\n",
       "      <td>73.425545</td>\n",
       "      <td>162.931325</td>\n",
       "      <td>1</td>\n",
       "      <td>41.130917</td>\n",
       "      <td>27.659097</td>\n",
       "    </tr>\n",
       "    <tr>\n",
       "      <th>3</th>\n",
       "      <td>58</td>\n",
       "      <td>73.425545</td>\n",
       "      <td>162.931325</td>\n",
       "      <td>1</td>\n",
       "      <td>41.130917</td>\n",
       "      <td>27.659097</td>\n",
       "    </tr>\n",
       "    <tr>\n",
       "      <th>4</th>\n",
       "      <td>58</td>\n",
       "      <td>73.425545</td>\n",
       "      <td>162.931325</td>\n",
       "      <td>1</td>\n",
       "      <td>41.130917</td>\n",
       "      <td>27.659097</td>\n",
       "    </tr>\n",
       "    <tr>\n",
       "      <th>...</th>\n",
       "      <td>...</td>\n",
       "      <td>...</td>\n",
       "      <td>...</td>\n",
       "      <td>...</td>\n",
       "      <td>...</td>\n",
       "      <td>...</td>\n",
       "    </tr>\n",
       "    <tr>\n",
       "      <th>191995</th>\n",
       "      <td>58</td>\n",
       "      <td>92.125633</td>\n",
       "      <td>166.763229</td>\n",
       "      <td>0</td>\n",
       "      <td>36.892197</td>\n",
       "      <td>33.126831</td>\n",
       "    </tr>\n",
       "    <tr>\n",
       "      <th>191996</th>\n",
       "      <td>58</td>\n",
       "      <td>92.125633</td>\n",
       "      <td>166.763229</td>\n",
       "      <td>0</td>\n",
       "      <td>36.892197</td>\n",
       "      <td>33.126831</td>\n",
       "    </tr>\n",
       "    <tr>\n",
       "      <th>191997</th>\n",
       "      <td>58</td>\n",
       "      <td>92.125633</td>\n",
       "      <td>166.763229</td>\n",
       "      <td>0</td>\n",
       "      <td>36.892197</td>\n",
       "      <td>33.126831</td>\n",
       "    </tr>\n",
       "    <tr>\n",
       "      <th>191998</th>\n",
       "      <td>58</td>\n",
       "      <td>92.125633</td>\n",
       "      <td>166.763229</td>\n",
       "      <td>0</td>\n",
       "      <td>36.892197</td>\n",
       "      <td>33.126831</td>\n",
       "    </tr>\n",
       "    <tr>\n",
       "      <th>191999</th>\n",
       "      <td>58</td>\n",
       "      <td>92.125633</td>\n",
       "      <td>166.763229</td>\n",
       "      <td>0</td>\n",
       "      <td>36.892197</td>\n",
       "      <td>33.126831</td>\n",
       "    </tr>\n",
       "  </tbody>\n",
       "</table>\n",
       "<p>192000 rows × 6 columns</p>\n",
       "</div>"
      ],
      "text/plain": [
       "        age     weight      height  sex  fatpercentage        bmi\n",
       "0        58  73.425545  162.931325    1      41.130917  27.659097\n",
       "1        58  73.425545  162.931325    1      41.130917  27.659097\n",
       "2        58  73.425545  162.931325    1      41.130917  27.659097\n",
       "3        58  73.425545  162.931325    1      41.130917  27.659097\n",
       "4        58  73.425545  162.931325    1      41.130917  27.659097\n",
       "...     ...        ...         ...  ...            ...        ...\n",
       "191995   58  92.125633  166.763229    0      36.892197  33.126831\n",
       "191996   58  92.125633  166.763229    0      36.892197  33.126831\n",
       "191997   58  92.125633  166.763229    0      36.892197  33.126831\n",
       "191998   58  92.125633  166.763229    0      36.892197  33.126831\n",
       "191999   58  92.125633  166.763229    0      36.892197  33.126831\n",
       "\n",
       "[192000 rows x 6 columns]"
      ]
     },
     "execution_count": 12,
     "metadata": {},
     "output_type": "execute_result"
    }
   ],
   "source": [
    "user_params_df"
   ]
  },
  {
   "cell_type": "code",
   "execution_count": null,
   "id": "330175b6",
   "metadata": {
    "scrolled": true
   },
   "outputs": [],
   "source": [
    "#https://www.analyticsvidhya.com/blog/2021/06/complete-guide-on-how-to-use-autoencoders-in-python/"
   ]
  },
  {
   "cell_type": "code",
   "execution_count": null,
   "id": "5291e02a",
   "metadata": {
    "scrolled": true
   },
   "outputs": [],
   "source": [
    "#num = user_params_df.values\n",
    "#num = tf.convert_to_tensor(num)"
   ]
  },
  {
   "cell_type": "code",
   "execution_count": 13,
   "id": "5f2de8a3",
   "metadata": {
    "scrolled": true
   },
   "outputs": [],
   "source": [
    "from sklearn.preprocessing import MinMaxScaler \n",
    "X = MinMaxScaler().fit_transform(user_params_df)"
   ]
  },
  {
   "cell_type": "code",
   "execution_count": 14,
   "id": "7185136c",
   "metadata": {
    "scrolled": true
   },
   "outputs": [],
   "source": [
    "#https://www.geeksforgeeks.org/ml-classifying-data-using-an-auto-encoder/"
   ]
  },
  {
   "cell_type": "code",
   "execution_count": 15,
   "id": "4d3b7a88",
   "metadata": {
    "scrolled": true
   },
   "outputs": [],
   "source": [
    "input_layer = Input(shape =(X.shape[1], ))"
   ]
  },
  {
   "cell_type": "code",
   "execution_count": 16,
   "id": "3fca0270",
   "metadata": {
    "scrolled": true
   },
   "outputs": [],
   "source": [
    "#building the autoencoder network\n",
    "encoded = Dense(100, activation ='linear',\n",
    "                activity_regularizer = regularizers.l1(10e-5))(input_layer)\n",
    "encoded = Dense(50, activation ='linear',\n",
    "                activity_regularizer = regularizers.l1(10e-5))(encoded)\n",
    "encoded = Dense(25, activation ='linear',\n",
    "                activity_regularizer = regularizers.l1(10e-5))(encoded)\n",
    "encoded = Dense(12, activation ='linear',\n",
    "                activity_regularizer = regularizers.l1(10e-5))(encoded)\n",
    "encoded = Dense(4, activation ='linear')(encoded)\n",
    "  \n",
    "# Building the Decoder network\n",
    "decoded = Dense(12, activation ='linear')(encoded)\n",
    "decoded = Dense(25, activation ='linear')(decoded)\n",
    "decoded = Dense(50, activation ='linear')(decoded)\n",
    "decoded = Dense(100, activation ='linear')(decoded)\n",
    "  \n",
    "# Building the Output Layer\n",
    "output_layer = Dense(X.shape[1], activation ='relu')(decoded)\n",
    "output_layer = Dense(X.shape[1], activation ='relu')(decoded)"
   ]
  },
  {
   "cell_type": "code",
   "execution_count": 17,
   "id": "476a7842",
   "metadata": {
    "scrolled": true
   },
   "outputs": [],
   "source": [
    "autoencoder = Model(input_layer, output_layer)\n",
    "autoencoder.compile(optimizer =\"adam\", loss =\"binary_crossentropy\" , metrics=['accuracy'])"
   ]
  },
  {
   "cell_type": "code",
   "execution_count": 18,
   "id": "2ed0ebbf",
   "metadata": {
    "scrolled": true
   },
   "outputs": [
    {
     "name": "stdout",
     "output_type": "stream",
     "text": [
      "Epoch 1/25\n",
      "7680/7680 [==============================] - 9s 1ms/step - loss: 1.3425 - accuracy: 0.8709 - val_loss: 0.5129 - val_accuracy: 0.9550\n",
      "Epoch 2/25\n",
      "7680/7680 [==============================] - 8s 1ms/step - loss: 0.6533 - accuracy: 0.9309 - val_loss: 0.5213 - val_accuracy: 0.9150\n",
      "Epoch 3/25\n",
      "7680/7680 [==============================] - 8s 1ms/step - loss: 0.5146 - accuracy: 0.9401 - val_loss: 0.5108 - val_accuracy: 0.9933\n",
      "Epoch 4/25\n",
      "7680/7680 [==============================] - 8s 1ms/step - loss: 0.5193 - accuracy: 0.9234 - val_loss: 0.5252 - val_accuracy: 0.8700\n",
      "Epoch 5/25\n",
      "7680/7680 [==============================] - 8s 1ms/step - loss: 0.5239 - accuracy: 0.9130 - val_loss: 0.5419 - val_accuracy: 0.8150\n",
      "Epoch 6/25\n",
      "7680/7680 [==============================] - 8s 1ms/step - loss: 0.5182 - accuracy: 0.9248 - val_loss: 0.5158 - val_accuracy: 0.9100\n",
      "Epoch 7/25\n",
      "7680/7680 [==============================] - 8s 1ms/step - loss: 1.4319 - accuracy: 0.6059 - val_loss: 1.7784 - val_accuracy: 0.4933\n",
      "Epoch 8/25\n",
      "7680/7680 [==============================] - 8s 1ms/step - loss: 0.7733 - accuracy: 0.8152 - val_loss: 0.5126 - val_accuracy: 0.9383\n",
      "Epoch 9/25\n",
      "7680/7680 [==============================] - 8s 1ms/step - loss: 0.5124 - accuracy: 0.9560 - val_loss: 0.5100 - val_accuracy: 0.9917\n",
      "Epoch 10/25\n",
      "7680/7680 [==============================] - 8s 1ms/step - loss: 0.5264 - accuracy: 0.9270 - val_loss: 0.5102 - val_accuracy: 0.9900\n",
      "Epoch 11/25\n",
      "7680/7680 [==============================] - 8s 1ms/step - loss: 0.5141 - accuracy: 0.9403 - val_loss: 0.5211 - val_accuracy: 0.8117\n",
      "Epoch 12/25\n",
      "7680/7680 [==============================] - 11s 1ms/step - loss: 0.5311 - accuracy: 0.8703 - val_loss: 0.5129 - val_accuracy: 0.9450\n",
      "Epoch 13/25\n",
      "7680/7680 [==============================] - 8s 1ms/step - loss: 0.5219 - accuracy: 0.9241 - val_loss: 0.5134 - val_accuracy: 0.9283\n",
      "Epoch 14/25\n",
      "7680/7680 [==============================] - 8s 1ms/step - loss: 0.5169 - accuracy: 0.9313 - val_loss: 0.5105 - val_accuracy: 0.9867\n",
      "Epoch 15/25\n",
      "7680/7680 [==============================] - 8s 1ms/step - loss: 0.5161 - accuracy: 0.9317 - val_loss: 0.5101 - val_accuracy: 0.9750\n",
      "Epoch 16/25\n",
      "7680/7680 [==============================] - 8s 1ms/step - loss: 0.5135 - accuracy: 0.9472 - val_loss: 0.5106 - val_accuracy: 0.9867\n",
      "Epoch 17/25\n",
      "7680/7680 [==============================] - 8s 1ms/step - loss: 0.5239 - accuracy: 0.9540 - val_loss: 1.1437 - val_accuracy: 0.7650\n",
      "Epoch 18/25\n",
      "7680/7680 [==============================] - 8s 1ms/step - loss: 0.6050 - accuracy: 0.9347 - val_loss: 0.5099 - val_accuracy: 0.9917\n",
      "Epoch 19/25\n",
      "7680/7680 [==============================] - 8s 1ms/step - loss: 0.5119 - accuracy: 0.9560 - val_loss: 0.5131 - val_accuracy: 0.9633\n",
      "Epoch 20/25\n",
      "7680/7680 [==============================] - 8s 1ms/step - loss: 0.5671 - accuracy: 0.9431 - val_loss: 1.8015 - val_accuracy: 0.4917\n",
      "Epoch 21/25\n",
      "7680/7680 [==============================] - 8s 1ms/step - loss: 0.7291 - accuracy: 0.8629 - val_loss: 0.5113 - val_accuracy: 0.9950\n",
      "Epoch 22/25\n",
      "7680/7680 [==============================] - 8s 1ms/step - loss: 0.5933 - accuracy: 0.9268 - val_loss: 0.5120 - val_accuracy: 0.9550\n",
      "Epoch 23/25\n",
      "7680/7680 [==============================] - 8s 1ms/step - loss: 1.1220 - accuracy: 0.6943 - val_loss: 0.5276 - val_accuracy: 0.9200\n",
      "Epoch 24/25\n",
      "7680/7680 [==============================] - 8s 1ms/step - loss: 0.5118 - accuracy: 0.9613 - val_loss: 0.5102 - val_accuracy: 0.9733\n",
      "Epoch 25/25\n",
      "7680/7680 [==============================] - 8s 1ms/step - loss: 0.5146 - accuracy: 0.9407 - val_loss: 0.5131 - val_accuracy: 0.9317\n"
     ]
    },
    {
     "data": {
      "text/plain": [
       "<keras.callbacks.History at 0x1de602fc9a0>"
      ]
     },
     "execution_count": 18,
     "metadata": {},
     "output_type": "execute_result"
    }
   ],
   "source": [
    "autoencoder.fit(X, X, \n",
    "                batch_size = 20, epochs = 25, \n",
    "                shuffle = True, validation_split = 0.20)"
   ]
  },
  {
   "cell_type": "code",
   "execution_count": null,
   "id": "52a4b167",
   "metadata": {},
   "outputs": [],
   "source": []
  },
  {
   "cell_type": "code",
   "execution_count": 21,
   "id": "74b9be82",
   "metadata": {
    "scrolled": true
   },
   "outputs": [
    {
     "name": "stdout",
     "output_type": "stream",
     "text": [
      "WARNING:tensorflow:Compiled the loaded model, but the compiled metrics have yet to be built. `model.compile_metrics` will be empty until you train or evaluate the model.\n",
      "[[-0.15971126  0.16893026 -0.30369845 -0.15407065]\n",
      " [-0.15971126  0.16893026 -0.30369845 -0.15407065]\n",
      " [-0.15971126  0.16893026 -0.30369845 -0.15407065]\n",
      " ...\n",
      " [-0.30509818 -0.12241039 -0.28520215  0.10905373]\n",
      " [-0.30509806 -0.12241033 -0.28520215  0.10905375]\n",
      " [-0.30509806 -0.12241033 -0.28520215  0.10905375]]\n"
     ]
    }
   ],
   "source": [
    "# Extracting the embedding\n",
    "encoder = keras.Model(input_layer, encoded)\n",
    "encoder.save('encoder-V2.h5', overwrite = True)\n",
    "\n",
    "encoded_r = encoder.predict(X)\n",
    "print(encoded_r)"
   ]
  },
  {
   "cell_type": "code",
   "execution_count": 22,
   "id": "ed2a3778",
   "metadata": {
    "scrolled": true
   },
   "outputs": [
    {
     "name": "stdout",
     "output_type": "stream",
     "text": [
      "        Attribute 1  Attribute 2  Attribute 3  Attribute 4\n",
      "0         -0.159711      0.16893    -0.303698    -0.154071\n",
      "1         -0.159711      0.16893    -0.303698    -0.154071\n",
      "2         -0.159711      0.16893    -0.303698    -0.154071\n",
      "3         -0.159711      0.16893    -0.303698    -0.154071\n",
      "4         -0.159711      0.16893    -0.303698    -0.154071\n",
      "...             ...          ...          ...          ...\n",
      "191995    -0.305098     -0.12241    -0.285202     0.109054\n",
      "191996    -0.305098     -0.12241    -0.285202     0.109054\n",
      "191997    -0.305098     -0.12241    -0.285202     0.109054\n",
      "191998    -0.305098     -0.12241    -0.285202     0.109054\n",
      "191999    -0.305098     -0.12241    -0.285202     0.109054\n",
      "\n",
      "[192000 rows x 4 columns]\n"
     ]
    }
   ],
   "source": [
    "\n",
    "# Transforming to a CSV file using pandas\n",
    "df = pd.DataFrame(encoded_r, columns = [\"Attribute 1\", \"Attribute 2\", \"Attribute 3\", \"Attribute 4\"])\n",
    "print(df)"
   ]
  },
  {
   "cell_type": "code",
   "execution_count": null,
   "id": "0c1a10cc",
   "metadata": {},
   "outputs": [],
   "source": [
    "#import tensorflow as tf\n",
    "#encoder = tf.keras.models.load_model(\"encoder.h5\", compile = False)\n",
    "#test_output = encoder.predict([[59, 76.350691, 165.034328, 1, 41.809198, 28.032665]])\n"
   ]
  },
  {
   "cell_type": "code",
   "execution_count": 23,
   "id": "33ba6f04",
   "metadata": {
    "scrolled": true
   },
   "outputs": [],
   "source": [
    "df.to_csv(\"R_values_V2.csv\", index=False)"
   ]
  },
  {
   "cell_type": "code",
   "execution_count": null,
   "id": "b49c7a26",
   "metadata": {},
   "outputs": [],
   "source": []
  }
 ],
 "metadata": {
  "kernelspec": {
   "display_name": "Python 3",
   "language": "python",
   "name": "python3"
  },
  "language_info": {
   "codemirror_mode": {
    "name": "ipython",
    "version": 3
   },
   "file_extension": ".py",
   "mimetype": "text/x-python",
   "name": "python",
   "nbconvert_exporter": "python",
   "pygments_lexer": "ipython3",
   "version": "3.8.8"
  }
 },
 "nbformat": 4,
 "nbformat_minor": 5
}
