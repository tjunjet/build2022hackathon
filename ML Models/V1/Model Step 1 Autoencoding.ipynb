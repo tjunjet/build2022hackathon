{
 "cells": [
  {
   "cell_type": "code",
   "execution_count": 2,
   "id": "fe75d9ea",
   "metadata": {
    "scrolled": true
   },
   "outputs": [
    {
     "name": "stdout",
     "output_type": "stream",
     "text": [
      "62.5\n"
     ]
    }
   ],
   "source": [
    "import train_test_generation\n",
    "from keras.layers import Dense,Conv2D,MaxPooling2D,UpSampling2D\n",
    "from keras import Input, Model\n",
    "from keras.datasets import mnist\n",
    "import numpy as np\n",
    "import matplotlib.pyplot as plt\n",
    "import tensorflow as tf\n",
    "from keras import regularizers\n",
    "import keras\n",
    "import pandas as pd"
   ]
  },
  {
   "cell_type": "code",
   "execution_count": 2,
   "id": "22b58792",
   "metadata": {
    "scrolled": true
   },
   "outputs": [
    {
     "name": "stderr",
     "output_type": "stream",
     "text": [
      "C:\\Users\\User\\Documents\\Freshman\\Build 2022\\build2022hackathon\\ML Models\\train_test_generation.py:525: SettingWithCopyWarning: \n",
      "A value is trying to be set on a copy of a slice from a DataFrame\n",
      "\n",
      "See the caveats in the documentation: https://pandas.pydata.org/pandas-docs/stable/user_guide/indexing.html#returning-a-view-versus-a-copy\n",
      "  df[article][ite] = bool(random.getrandbits(1))\n",
      "C:\\Users\\User\\anaconda3\\lib\\site-packages\\pandas\\core\\indexing.py:1637: SettingWithCopyWarning: \n",
      "A value is trying to be set on a copy of a slice from a DataFrame\n",
      "\n",
      "See the caveats in the documentation: https://pandas.pydata.org/pandas-docs/stable/user_guide/indexing.html#returning-a-view-versus-a-copy\n",
      "  self._setitem_single_block(indexer, value, name)\n"
     ]
    }
   ],
   "source": [
    "#features, output = train_test_generation.generatefinaldf(10**5, 'ML', 90)"
   ]
  },
  {
   "cell_type": "code",
   "execution_count": 3,
   "id": "480f0cc7",
   "metadata": {
    "scrolled": true
   },
   "outputs": [],
   "source": [
    "features = pd.read_csv(\"features.csv\")\n",
    "output = pd.read_csv(\"output.csv\")"
   ]
  },
  {
   "cell_type": "code",
   "execution_count": 4,
   "id": "1da26c16",
   "metadata": {},
   "outputs": [
    {
     "data": {
      "text/html": [
       "<div>\n",
       "<style scoped>\n",
       "    .dataframe tbody tr th:only-of-type {\n",
       "        vertical-align: middle;\n",
       "    }\n",
       "\n",
       "    .dataframe tbody tr th {\n",
       "        vertical-align: top;\n",
       "    }\n",
       "\n",
       "    .dataframe thead th {\n",
       "        text-align: right;\n",
       "    }\n",
       "</style>\n",
       "<table border=\"1\" class=\"dataframe\">\n",
       "  <thead>\n",
       "    <tr style=\"text-align: right;\">\n",
       "      <th></th>\n",
       "      <th>temperature</th>\n",
       "      <th>humidity</th>\n",
       "      <th>precipitation</th>\n",
       "      <th>windspeed</th>\n",
       "      <th>age</th>\n",
       "      <th>weight</th>\n",
       "      <th>height</th>\n",
       "      <th>sex</th>\n",
       "      <th>fatpercentage</th>\n",
       "      <th>bmi</th>\n",
       "      <th>cold_resistance</th>\n",
       "      <th>scoring_difference</th>\n",
       "      <th>adjusted_cold_resistance</th>\n",
       "      <th>preference_factor</th>\n",
       "    </tr>\n",
       "  </thead>\n",
       "  <tbody>\n",
       "    <tr>\n",
       "      <th>99995</th>\n",
       "      <td>10</td>\n",
       "      <td>8</td>\n",
       "      <td>94</td>\n",
       "      <td>18</td>\n",
       "      <td>38</td>\n",
       "      <td>48.0</td>\n",
       "      <td>131.0</td>\n",
       "      <td>1</td>\n",
       "      <td>36.904478</td>\n",
       "      <td>27.970398</td>\n",
       "      <td>100.0</td>\n",
       "      <td>0.000000</td>\n",
       "      <td>98.00</td>\n",
       "      <td>98</td>\n",
       "    </tr>\n",
       "    <tr>\n",
       "      <th>99996</th>\n",
       "      <td>17</td>\n",
       "      <td>85</td>\n",
       "      <td>77</td>\n",
       "      <td>6</td>\n",
       "      <td>45</td>\n",
       "      <td>76.0</td>\n",
       "      <td>173.0</td>\n",
       "      <td>1</td>\n",
       "      <td>35.422117</td>\n",
       "      <td>25.393431</td>\n",
       "      <td>80.0</td>\n",
       "      <td>0.000000</td>\n",
       "      <td>76.80</td>\n",
       "      <td>96</td>\n",
       "    </tr>\n",
       "    <tr>\n",
       "      <th>99997</th>\n",
       "      <td>21</td>\n",
       "      <td>78</td>\n",
       "      <td>36</td>\n",
       "      <td>40</td>\n",
       "      <td>31</td>\n",
       "      <td>48.0</td>\n",
       "      <td>174.0</td>\n",
       "      <td>1</td>\n",
       "      <td>20.754970</td>\n",
       "      <td>15.854142</td>\n",
       "      <td>77.5</td>\n",
       "      <td>0.000000</td>\n",
       "      <td>79.05</td>\n",
       "      <td>102</td>\n",
       "    </tr>\n",
       "    <tr>\n",
       "      <th>99998</th>\n",
       "      <td>-15</td>\n",
       "      <td>42</td>\n",
       "      <td>89</td>\n",
       "      <td>34</td>\n",
       "      <td>46</td>\n",
       "      <td>38.0</td>\n",
       "      <td>113.0</td>\n",
       "      <td>0</td>\n",
       "      <td>30.091489</td>\n",
       "      <td>29.759574</td>\n",
       "      <td>90.0</td>\n",
       "      <td>-6.033333</td>\n",
       "      <td>92.70</td>\n",
       "      <td>103</td>\n",
       "    </tr>\n",
       "    <tr>\n",
       "      <th>99999</th>\n",
       "      <td>5</td>\n",
       "      <td>88</td>\n",
       "      <td>78</td>\n",
       "      <td>39</td>\n",
       "      <td>37</td>\n",
       "      <td>95.0</td>\n",
       "      <td>134.0</td>\n",
       "      <td>1</td>\n",
       "      <td>66.598528</td>\n",
       "      <td>52.907106</td>\n",
       "      <td>100.0</td>\n",
       "      <td>-3.666667</td>\n",
       "      <td>97.00</td>\n",
       "      <td>97</td>\n",
       "    </tr>\n",
       "  </tbody>\n",
       "</table>\n",
       "</div>"
      ],
      "text/plain": [
       "       temperature  humidity  precipitation  windspeed  age  weight  height  \\\n",
       "99995           10         8             94         18   38    48.0   131.0   \n",
       "99996           17        85             77          6   45    76.0   173.0   \n",
       "99997           21        78             36         40   31    48.0   174.0   \n",
       "99998          -15        42             89         34   46    38.0   113.0   \n",
       "99999            5        88             78         39   37    95.0   134.0   \n",
       "\n",
       "       sex  fatpercentage        bmi  cold_resistance  scoring_difference  \\\n",
       "99995    1      36.904478  27.970398            100.0            0.000000   \n",
       "99996    1      35.422117  25.393431             80.0            0.000000   \n",
       "99997    1      20.754970  15.854142             77.5            0.000000   \n",
       "99998    0      30.091489  29.759574             90.0           -6.033333   \n",
       "99999    1      66.598528  52.907106            100.0           -3.666667   \n",
       "\n",
       "       adjusted_cold_resistance  preference_factor  \n",
       "99995                     98.00                 98  \n",
       "99996                     76.80                 96  \n",
       "99997                     79.05                102  \n",
       "99998                     92.70                103  \n",
       "99999                     97.00                 97  "
      ]
     },
     "execution_count": 4,
     "metadata": {},
     "output_type": "execute_result"
    }
   ],
   "source": [
    "features.tail()"
   ]
  },
  {
   "cell_type": "code",
   "execution_count": 5,
   "id": "45483d00",
   "metadata": {},
   "outputs": [
    {
     "data": {
      "text/html": [
       "<div>\n",
       "<style scoped>\n",
       "    .dataframe tbody tr th:only-of-type {\n",
       "        vertical-align: middle;\n",
       "    }\n",
       "\n",
       "    .dataframe tbody tr th {\n",
       "        vertical-align: top;\n",
       "    }\n",
       "\n",
       "    .dataframe thead th {\n",
       "        text-align: right;\n",
       "    }\n",
       "</style>\n",
       "<table border=\"1\" class=\"dataframe\">\n",
       "  <thead>\n",
       "    <tr style=\"text-align: right;\">\n",
       "      <th></th>\n",
       "      <th>thermal</th>\n",
       "      <th>hoodie</th>\n",
       "      <th>fleece</th>\n",
       "      <th>wool</th>\n",
       "      <th>light_down</th>\n",
       "      <th>thick_down</th>\n",
       "      <th>wind_breaker</th>\n",
       "      <th>umbrella</th>\n",
       "      <th>winter_boots</th>\n",
       "      <th>user_feedback</th>\n",
       "    </tr>\n",
       "  </thead>\n",
       "  <tbody>\n",
       "    <tr>\n",
       "      <th>99995</th>\n",
       "      <td>True</td>\n",
       "      <td>True</td>\n",
       "      <td>True</td>\n",
       "      <td>False</td>\n",
       "      <td>True</td>\n",
       "      <td>True</td>\n",
       "      <td>False</td>\n",
       "      <td>False</td>\n",
       "      <td>True</td>\n",
       "      <td>1</td>\n",
       "    </tr>\n",
       "    <tr>\n",
       "      <th>99996</th>\n",
       "      <td>True</td>\n",
       "      <td>True</td>\n",
       "      <td>True</td>\n",
       "      <td>True</td>\n",
       "      <td>True</td>\n",
       "      <td>False</td>\n",
       "      <td>False</td>\n",
       "      <td>True</td>\n",
       "      <td>False</td>\n",
       "      <td>1</td>\n",
       "    </tr>\n",
       "    <tr>\n",
       "      <th>99997</th>\n",
       "      <td>True</td>\n",
       "      <td>True</td>\n",
       "      <td>True</td>\n",
       "      <td>True</td>\n",
       "      <td>False</td>\n",
       "      <td>True</td>\n",
       "      <td>True</td>\n",
       "      <td>True</td>\n",
       "      <td>False</td>\n",
       "      <td>1</td>\n",
       "    </tr>\n",
       "    <tr>\n",
       "      <th>99998</th>\n",
       "      <td>False</td>\n",
       "      <td>False</td>\n",
       "      <td>False</td>\n",
       "      <td>False</td>\n",
       "      <td>True</td>\n",
       "      <td>True</td>\n",
       "      <td>False</td>\n",
       "      <td>False</td>\n",
       "      <td>True</td>\n",
       "      <td>0</td>\n",
       "    </tr>\n",
       "    <tr>\n",
       "      <th>99999</th>\n",
       "      <td>False</td>\n",
       "      <td>False</td>\n",
       "      <td>True</td>\n",
       "      <td>False</td>\n",
       "      <td>True</td>\n",
       "      <td>False</td>\n",
       "      <td>True</td>\n",
       "      <td>False</td>\n",
       "      <td>False</td>\n",
       "      <td>1</td>\n",
       "    </tr>\n",
       "  </tbody>\n",
       "</table>\n",
       "</div>"
      ],
      "text/plain": [
       "       thermal  hoodie  fleece   wool  light_down  thick_down  wind_breaker  \\\n",
       "99995     True    True    True  False        True        True         False   \n",
       "99996     True    True    True   True        True       False         False   \n",
       "99997     True    True    True   True       False        True          True   \n",
       "99998    False   False   False  False        True        True         False   \n",
       "99999    False   False    True  False        True       False          True   \n",
       "\n",
       "       umbrella  winter_boots  user_feedback  \n",
       "99995     False          True              1  \n",
       "99996      True         False              1  \n",
       "99997      True         False              1  \n",
       "99998     False          True              0  \n",
       "99999     False         False              1  "
      ]
     },
     "execution_count": 5,
     "metadata": {},
     "output_type": "execute_result"
    }
   ],
   "source": [
    "output.tail()"
   ]
  },
  {
   "cell_type": "code",
   "execution_count": 2,
   "id": "67b43b11",
   "metadata": {},
   "outputs": [
    {
     "ename": "NameError",
     "evalue": "name 'output' is not defined",
     "output_type": "error",
     "traceback": [
      "\u001b[1;31m---------------------------------------------------------------------------\u001b[0m",
      "\u001b[1;31mNameError\u001b[0m                                 Traceback (most recent call last)",
      "\u001b[1;32m<ipython-input-2-4449d25fce7b>\u001b[0m in \u001b[0;36m<module>\u001b[1;34m\u001b[0m\n\u001b[1;32m----> 1\u001b[1;33m \u001b[0moutput\u001b[0m\u001b[1;33m.\u001b[0m\u001b[0mcolumns\u001b[0m\u001b[1;33m(\u001b[0m\u001b[1;33m)\u001b[0m\u001b[1;33m\u001b[0m\u001b[1;33m\u001b[0m\u001b[0m\n\u001b[0m",
      "\u001b[1;31mNameError\u001b[0m: name 'output' is not defined"
     ]
    }
   ],
   "source": []
  },
  {
   "cell_type": "code",
   "execution_count": 6,
   "id": "ac855bb6",
   "metadata": {},
   "outputs": [],
   "source": [
    "#features.to_csv(\"features.csv\", index=False)\n",
    "#output.to_csv(\"output.csv\", index=False)"
   ]
  },
  {
   "cell_type": "code",
   "execution_count": 6,
   "id": "f0c81179",
   "metadata": {
    "scrolled": true
   },
   "outputs": [],
   "source": [
    "user_params_df = features[['age', 'weight', 'height', 'sex', 'fatpercentage', 'bmi']]"
   ]
  },
  {
   "cell_type": "code",
   "execution_count": 7,
   "id": "005717ba",
   "metadata": {
    "scrolled": true
   },
   "outputs": [
    {
     "data": {
      "text/html": [
       "<div>\n",
       "<style scoped>\n",
       "    .dataframe tbody tr th:only-of-type {\n",
       "        vertical-align: middle;\n",
       "    }\n",
       "\n",
       "    .dataframe tbody tr th {\n",
       "        vertical-align: top;\n",
       "    }\n",
       "\n",
       "    .dataframe thead th {\n",
       "        text-align: right;\n",
       "    }\n",
       "</style>\n",
       "<table border=\"1\" class=\"dataframe\">\n",
       "  <thead>\n",
       "    <tr style=\"text-align: right;\">\n",
       "      <th></th>\n",
       "      <th>age</th>\n",
       "      <th>weight</th>\n",
       "      <th>height</th>\n",
       "      <th>sex</th>\n",
       "      <th>fatpercentage</th>\n",
       "      <th>bmi</th>\n",
       "    </tr>\n",
       "  </thead>\n",
       "  <tbody>\n",
       "    <tr>\n",
       "      <th>0</th>\n",
       "      <td>59</td>\n",
       "      <td>76.350691</td>\n",
       "      <td>165.034328</td>\n",
       "      <td>1</td>\n",
       "      <td>41.809198</td>\n",
       "      <td>28.032665</td>\n",
       "    </tr>\n",
       "    <tr>\n",
       "      <th>1</th>\n",
       "      <td>24</td>\n",
       "      <td>83.566165</td>\n",
       "      <td>176.487951</td>\n",
       "      <td>0</td>\n",
       "      <td>21.514493</td>\n",
       "      <td>26.828745</td>\n",
       "    </tr>\n",
       "    <tr>\n",
       "      <th>2</th>\n",
       "      <td>24</td>\n",
       "      <td>96.348209</td>\n",
       "      <td>178.793425</td>\n",
       "      <td>0</td>\n",
       "      <td>25.487776</td>\n",
       "      <td>30.139813</td>\n",
       "    </tr>\n",
       "    <tr>\n",
       "      <th>3</th>\n",
       "      <td>25</td>\n",
       "      <td>106.733295</td>\n",
       "      <td>179.147332</td>\n",
       "      <td>0</td>\n",
       "      <td>29.458047</td>\n",
       "      <td>33.256706</td>\n",
       "    </tr>\n",
       "    <tr>\n",
       "      <th>4</th>\n",
       "      <td>29</td>\n",
       "      <td>68.463140</td>\n",
       "      <td>163.715886</td>\n",
       "      <td>1</td>\n",
       "      <td>31.921830</td>\n",
       "      <td>25.543192</td>\n",
       "    </tr>\n",
       "  </tbody>\n",
       "</table>\n",
       "</div>"
      ],
      "text/plain": [
       "   age      weight      height  sex  fatpercentage        bmi\n",
       "0   59   76.350691  165.034328    1      41.809198  28.032665\n",
       "1   24   83.566165  176.487951    0      21.514493  26.828745\n",
       "2   24   96.348209  178.793425    0      25.487776  30.139813\n",
       "3   25  106.733295  179.147332    0      29.458047  33.256706\n",
       "4   29   68.463140  163.715886    1      31.921830  25.543192"
      ]
     },
     "execution_count": 7,
     "metadata": {},
     "output_type": "execute_result"
    }
   ],
   "source": [
    "user_params_df.head()"
   ]
  },
  {
   "cell_type": "code",
   "execution_count": 8,
   "id": "330175b6",
   "metadata": {
    "scrolled": true
   },
   "outputs": [],
   "source": [
    "#https://www.analyticsvidhya.com/blog/2021/06/complete-guide-on-how-to-use-autoencoders-in-python/"
   ]
  },
  {
   "cell_type": "code",
   "execution_count": 9,
   "id": "5291e02a",
   "metadata": {
    "scrolled": true
   },
   "outputs": [],
   "source": [
    "#num = user_params_df.values\n",
    "#num = tf.convert_to_tensor(num)"
   ]
  },
  {
   "cell_type": "code",
   "execution_count": 10,
   "id": "5f2de8a3",
   "metadata": {
    "scrolled": true
   },
   "outputs": [],
   "source": [
    "from sklearn.preprocessing import MinMaxScaler \n",
    "X = MinMaxScaler().fit_transform(user_params_df)"
   ]
  },
  {
   "cell_type": "code",
   "execution_count": 11,
   "id": "7185136c",
   "metadata": {
    "scrolled": true
   },
   "outputs": [],
   "source": [
    "#https://www.geeksforgeeks.org/ml-classifying-data-using-an-auto-encoder/"
   ]
  },
  {
   "cell_type": "code",
   "execution_count": 12,
   "id": "4d3b7a88",
   "metadata": {
    "scrolled": true
   },
   "outputs": [],
   "source": [
    "input_layer = Input(shape =(X.shape[1], ))"
   ]
  },
  {
   "cell_type": "code",
   "execution_count": 13,
   "id": "3fca0270",
   "metadata": {
    "scrolled": true
   },
   "outputs": [],
   "source": [
    "#building the autoencoder network\n",
    "encoded = Dense(100, activation ='linear',\n",
    "                activity_regularizer = regularizers.l1(10e-5))(input_layer)\n",
    "encoded = Dense(50, activation ='linear',\n",
    "                activity_regularizer = regularizers.l1(10e-5))(encoded)\n",
    "encoded = Dense(25, activation ='linear',\n",
    "                activity_regularizer = regularizers.l1(10e-5))(encoded)\n",
    "encoded = Dense(12, activation ='linear',\n",
    "                activity_regularizer = regularizers.l1(10e-5))(encoded)\n",
    "encoded = Dense(4, activation ='linear')(encoded)\n",
    "  \n",
    "# Building the Decoder network\n",
    "decoded = Dense(12, activation ='linear')(encoded)\n",
    "decoded = Dense(25, activation ='linear')(decoded)\n",
    "decoded = Dense(50, activation ='linear')(decoded)\n",
    "decoded = Dense(100, activation ='linear')(decoded)\n",
    "  \n",
    "# Building the Output Layer\n",
    "output_layer = Dense(X.shape[1], activation ='relu')(decoded)\n",
    "output_layer = Dense(X.shape[1], activation ='relu')(decoded)"
   ]
  },
  {
   "cell_type": "code",
   "execution_count": 14,
   "id": "476a7842",
   "metadata": {
    "scrolled": true
   },
   "outputs": [],
   "source": [
    "autoencoder = Model(input_layer, output_layer)\n",
    "autoencoder.compile(optimizer =\"adam\", loss =\"binary_crossentropy\" , metrics=['accuracy'])"
   ]
  },
  {
   "cell_type": "code",
   "execution_count": 15,
   "id": "2ed0ebbf",
   "metadata": {
    "scrolled": false
   },
   "outputs": [
    {
     "name": "stdout",
     "output_type": "stream",
     "text": [
      "Epoch 1/25\n",
      "4000/4000 [==============================] - 6s 1ms/step - loss: 1.1125 - accuracy: 0.9390 - val_loss: 0.5979 - val_accuracy: 0.8618\n",
      "Epoch 2/25\n",
      "4000/4000 [==============================] - 5s 1ms/step - loss: 0.4894 - accuracy: 0.9642 - val_loss: 0.5406 - val_accuracy: 0.9167\n",
      "Epoch 3/25\n",
      "4000/4000 [==============================] - 5s 1ms/step - loss: 0.4917 - accuracy: 0.9456 - val_loss: 0.8027 - val_accuracy: 0.8043\n",
      "Epoch 4/25\n",
      "4000/4000 [==============================] - 5s 1ms/step - loss: 0.5033 - accuracy: 0.9463 - val_loss: 0.5594 - val_accuracy: 0.9030\n",
      "Epoch 5/25\n",
      "4000/4000 [==============================] - 5s 1ms/step - loss: 0.4937 - accuracy: 0.9395 - val_loss: 0.7396 - val_accuracy: 0.8277\n",
      "Epoch 6/25\n",
      "4000/4000 [==============================] - 5s 1ms/step - loss: 0.4961 - accuracy: 0.9319 - val_loss: 0.7028 - val_accuracy: 0.8498\n",
      "Epoch 7/25\n",
      "4000/4000 [==============================] - 5s 1ms/step - loss: 0.4890 - accuracy: 0.9599 - val_loss: 0.6453 - val_accuracy: 0.8675\n",
      "Epoch 8/25\n",
      "4000/4000 [==============================] - 5s 1ms/step - loss: 0.4872 - accuracy: 0.9724 - val_loss: 0.5209 - val_accuracy: 0.9451\n",
      "Epoch 9/25\n",
      "4000/4000 [==============================] - 5s 1ms/step - loss: 0.4891 - accuracy: 0.9658 - val_loss: 0.5373 - val_accuracy: 0.8548\n",
      "Epoch 10/25\n",
      "4000/4000 [==============================] - 5s 1ms/step - loss: 0.6301 - accuracy: 0.8813 - val_loss: 0.5795 - val_accuracy: 0.9004\n",
      "Epoch 11/25\n",
      "4000/4000 [==============================] - 5s 1ms/step - loss: 0.4893 - accuracy: 0.9609 - val_loss: 0.5797 - val_accuracy: 0.9234\n",
      "Epoch 12/25\n",
      "4000/4000 [==============================] - 5s 1ms/step - loss: 0.4880 - accuracy: 0.9684 - val_loss: 0.4980 - val_accuracy: 0.8196\n",
      "Epoch 13/25\n",
      "4000/4000 [==============================] - 5s 1ms/step - loss: 0.4914 - accuracy: 0.9492 - val_loss: 0.4704 - val_accuracy: 0.9658\n",
      "Epoch 14/25\n",
      "4000/4000 [==============================] - 5s 1ms/step - loss: 0.4893 - accuracy: 0.9623 - val_loss: 0.5557 - val_accuracy: 0.9308\n",
      "Epoch 15/25\n",
      "4000/4000 [==============================] - 5s 1ms/step - loss: 0.8507 - accuracy: 0.9285 - val_loss: 1.0726 - val_accuracy: 0.9593\n",
      "Epoch 16/25\n",
      "4000/4000 [==============================] - 5s 1ms/step - loss: 2.0566 - accuracy: 0.8203 - val_loss: 6.3507 - val_accuracy: 0.4906\n",
      "Epoch 17/25\n",
      "4000/4000 [==============================] - 5s 1ms/step - loss: 4.5458 - accuracy: 0.3901 - val_loss: 1.7781 - val_accuracy: 0.3999\n",
      "Epoch 18/25\n",
      "4000/4000 [==============================] - 5s 1ms/step - loss: 1.7737 - accuracy: 0.4881 - val_loss: 1.7857 - val_accuracy: 0.3514\n",
      "Epoch 19/25\n",
      "4000/4000 [==============================] - 5s 1ms/step - loss: 0.5164 - accuracy: 0.9429 - val_loss: 0.4716 - val_accuracy: 0.9564\n",
      "Epoch 20/25\n",
      "4000/4000 [==============================] - 5s 1ms/step - loss: 0.4928 - accuracy: 0.9476 - val_loss: 0.8317 - val_accuracy: 0.8123\n",
      "Epoch 21/25\n",
      "4000/4000 [==============================] - 5s 1ms/step - loss: 0.4977 - accuracy: 0.9179 - val_loss: 0.4815 - val_accuracy: 0.9495\n",
      "Epoch 22/25\n",
      "4000/4000 [==============================] - 5s 1ms/step - loss: 0.4866 - accuracy: 0.9819 - val_loss: 0.4755 - val_accuracy: 0.9366\n",
      "Epoch 23/25\n",
      "4000/4000 [==============================] - 5s 1ms/step - loss: 0.4888 - accuracy: 0.9695 - val_loss: 0.4694 - val_accuracy: 0.9642\n",
      "Epoch 24/25\n",
      "4000/4000 [==============================] - 5s 1ms/step - loss: 0.4928 - accuracy: 0.9509 - val_loss: 0.5032 - val_accuracy: 0.8224\n",
      "Epoch 25/25\n",
      "4000/4000 [==============================] - 5s 1ms/step - loss: 0.4921 - accuracy: 0.9530 - val_loss: 0.4709 - val_accuracy: 0.9467\n"
     ]
    },
    {
     "data": {
      "text/plain": [
       "<keras.callbacks.History at 0x23fa522ddc0>"
      ]
     },
     "execution_count": 15,
     "metadata": {},
     "output_type": "execute_result"
    }
   ],
   "source": [
    "autoencoder.fit(X, X, \n",
    "                batch_size = 20, epochs = 25, \n",
    "                shuffle = True, validation_split = 0.20)"
   ]
  },
  {
   "cell_type": "code",
   "execution_count": null,
   "id": "52a4b167",
   "metadata": {},
   "outputs": [],
   "source": []
  },
  {
   "cell_type": "code",
   "execution_count": 18,
   "id": "74b9be82",
   "metadata": {
    "scrolled": true
   },
   "outputs": [
    {
     "name": "stdout",
     "output_type": "stream",
     "text": [
      "WARNING:tensorflow:Compiled the loaded model, but the compiled metrics have yet to be built. `model.compile_metrics` will be empty until you train or evaluate the model.\n",
      "[[-0.24239564  0.75530356 -0.17539549 -0.405838  ]\n",
      " [ 0.3810345  -0.25795838  0.01292167 -0.04001822]\n",
      " [ 0.40121487 -0.2610022   0.04401319  0.00557351]\n",
      " ...\n",
      " [-0.22865078  0.11329341 -0.1041531  -0.08893278]\n",
      " [ 0.21686009  0.26808918 -0.53344274 -0.63062435]\n",
      " [-0.17266461  0.15962586 -0.38688743 -0.052258  ]]\n"
     ]
    }
   ],
   "source": [
    "# Extracting the embedding\n",
    "encoder = keras.Model(input_layer, encoded)\n",
    "encoder.save('encoder.h5', overwrite = True)\n",
    "\n",
    "\n",
    "\n",
    "\n",
    "\n",
    "encoded_r = encoder.predict(X)\n",
    "print(encoded_r)"
   ]
  },
  {
   "cell_type": "code",
   "execution_count": null,
   "id": "ed2a3778",
   "metadata": {
    "scrolled": true
   },
   "outputs": [],
   "source": [
    "\n",
    "# Transforming to a CSV file using pandas\n",
    "\n",
    "df = pd.DataFrame(encoded_r, columns = [\"Attribute 1\", \"Attribute 2\", \"Attribute 3\", \"Attribute 4\"])\n",
    "print(df)"
   ]
  },
  {
   "cell_type": "code",
   "execution_count": 5,
   "id": "0c1a10cc",
   "metadata": {},
   "outputs": [
    {
     "ename": "InternalError",
     "evalue": " Attempting to perform BLAS operation using StreamExecutor without BLAS support\n\t [[node model_3/dense/MatMul\n (defined at C:\\ProgramData\\Anaconda3\\lib\\site-packages\\keras\\layers\\core\\dense.py:199)\n]] [Op:__inference_predict_function_579]\n\nErrors may have originated from an input operation.\nInput Source operations connected to node model_3/dense/MatMul:\nIn[0] IteratorGetNext (defined at C:\\ProgramData\\Anaconda3\\lib\\site-packages\\keras\\engine\\training.py:1610)\t\nIn[1] model_3/dense/MatMul/ReadVariableOp:\n\nOperation defined at: (most recent call last)\n>>>   File \"C:\\ProgramData\\Anaconda3\\lib\\runpy.py\", line 194, in _run_module_as_main\n>>>     return _run_code(code, main_globals, None,\n>>> \n>>>   File \"C:\\ProgramData\\Anaconda3\\lib\\runpy.py\", line 87, in _run_code\n>>>     exec(code, run_globals)\n>>> \n>>>   File \"C:\\ProgramData\\Anaconda3\\lib\\site-packages\\ipykernel_launcher.py\", line 16, in <module>\n>>>     app.launch_new_instance()\n>>> \n>>>   File \"C:\\ProgramData\\Anaconda3\\lib\\site-packages\\traitlets\\config\\application.py\", line 845, in launch_instance\n>>>     app.start()\n>>> \n>>>   File \"C:\\ProgramData\\Anaconda3\\lib\\site-packages\\ipykernel\\kernelapp.py\", line 612, in start\n>>>     self.io_loop.start()\n>>> \n>>>   File \"C:\\ProgramData\\Anaconda3\\lib\\site-packages\\tornado\\platform\\asyncio.py\", line 149, in start\n>>>     self.asyncio_loop.run_forever()\n>>> \n>>>   File \"C:\\ProgramData\\Anaconda3\\lib\\asyncio\\base_events.py\", line 570, in run_forever\n>>>     self._run_once()\n>>> \n>>>   File \"C:\\ProgramData\\Anaconda3\\lib\\asyncio\\base_events.py\", line 1859, in _run_once\n>>>     handle._run()\n>>> \n>>>   File \"C:\\ProgramData\\Anaconda3\\lib\\asyncio\\events.py\", line 81, in _run\n>>>     self._context.run(self._callback, *self._args)\n>>> \n>>>   File \"C:\\ProgramData\\Anaconda3\\lib\\site-packages\\tornado\\ioloop.py\", line 690, in <lambda>\n>>>     lambda f: self._run_callback(functools.partial(callback, future))\n>>> \n>>>   File \"C:\\ProgramData\\Anaconda3\\lib\\site-packages\\tornado\\ioloop.py\", line 743, in _run_callback\n>>>     ret = callback()\n>>> \n>>>   File \"C:\\ProgramData\\Anaconda3\\lib\\site-packages\\tornado\\gen.py\", line 787, in inner\n>>>     self.run()\n>>> \n>>>   File \"C:\\ProgramData\\Anaconda3\\lib\\site-packages\\tornado\\gen.py\", line 748, in run\n>>>     yielded = self.gen.send(value)\n>>> \n>>>   File \"C:\\ProgramData\\Anaconda3\\lib\\site-packages\\ipykernel\\kernelbase.py\", line 365, in process_one\n>>>     yield gen.maybe_future(dispatch(*args))\n>>> \n>>>   File \"C:\\ProgramData\\Anaconda3\\lib\\site-packages\\tornado\\gen.py\", line 209, in wrapper\n>>>     yielded = next(result)\n>>> \n>>>   File \"C:\\ProgramData\\Anaconda3\\lib\\site-packages\\ipykernel\\kernelbase.py\", line 268, in dispatch_shell\n>>>     yield gen.maybe_future(handler(stream, idents, msg))\n>>> \n>>>   File \"C:\\ProgramData\\Anaconda3\\lib\\site-packages\\tornado\\gen.py\", line 209, in wrapper\n>>>     yielded = next(result)\n>>> \n>>>   File \"C:\\ProgramData\\Anaconda3\\lib\\site-packages\\ipykernel\\kernelbase.py\", line 543, in execute_request\n>>>     self.do_execute(\n>>> \n>>>   File \"C:\\ProgramData\\Anaconda3\\lib\\site-packages\\tornado\\gen.py\", line 209, in wrapper\n>>>     yielded = next(result)\n>>> \n>>>   File \"C:\\ProgramData\\Anaconda3\\lib\\site-packages\\ipykernel\\ipkernel.py\", line 306, in do_execute\n>>>     res = shell.run_cell(code, store_history=store_history, silent=silent)\n>>> \n>>>   File \"C:\\ProgramData\\Anaconda3\\lib\\site-packages\\ipykernel\\zmqshell.py\", line 536, in run_cell\n>>>     return super(ZMQInteractiveShell, self).run_cell(*args, **kwargs)\n>>> \n>>>   File \"C:\\ProgramData\\Anaconda3\\lib\\site-packages\\IPython\\core\\interactiveshell.py\", line 2877, in run_cell\n>>>     result = self._run_cell(\n>>> \n>>>   File \"C:\\ProgramData\\Anaconda3\\lib\\site-packages\\IPython\\core\\interactiveshell.py\", line 2923, in _run_cell\n>>>     return runner(coro)\n>>> \n>>>   File \"C:\\ProgramData\\Anaconda3\\lib\\site-packages\\IPython\\core\\async_helpers.py\", line 68, in _pseudo_sync_runner\n>>>     coro.send(None)\n>>> \n>>>   File \"C:\\ProgramData\\Anaconda3\\lib\\site-packages\\IPython\\core\\interactiveshell.py\", line 3146, in run_cell_async\n>>>     has_raised = await self.run_ast_nodes(code_ast.body, cell_name,\n>>> \n>>>   File \"C:\\ProgramData\\Anaconda3\\lib\\site-packages\\IPython\\core\\interactiveshell.py\", line 3338, in run_ast_nodes\n>>>     if (await self.run_code(code, result,  async_=asy)):\n>>> \n>>>   File \"C:\\ProgramData\\Anaconda3\\lib\\site-packages\\IPython\\core\\interactiveshell.py\", line 3418, in run_code\n>>>     exec(code_obj, self.user_global_ns, self.user_ns)\n>>> \n>>>   File \"<ipython-input-5-c978a290e085>\", line 3, in <module>\n>>>     test_output = encoder.predict([[59, 76.350691, 165.034328, 1, 41.809198, 28.032665]])\n>>> \n>>>   File \"C:\\ProgramData\\Anaconda3\\lib\\site-packages\\keras\\utils\\traceback_utils.py\", line 64, in error_handler\n>>>     return fn(*args, **kwargs)\n>>> \n>>>   File \"C:\\ProgramData\\Anaconda3\\lib\\site-packages\\keras\\engine\\training.py\", line 1789, in predict\n>>>     tmp_batch_outputs = self.predict_function(iterator)\n>>> \n>>>   File \"C:\\ProgramData\\Anaconda3\\lib\\site-packages\\keras\\engine\\training.py\", line 1621, in predict_function\n>>>     return step_function(self, iterator)\n>>> \n>>>   File \"C:\\ProgramData\\Anaconda3\\lib\\site-packages\\keras\\engine\\training.py\", line 1611, in step_function\n>>>     outputs = model.distribute_strategy.run(run_step, args=(data,))\n>>> \n>>>   File \"C:\\ProgramData\\Anaconda3\\lib\\site-packages\\keras\\engine\\training.py\", line 1604, in run_step\n>>>     outputs = model.predict_step(data)\n>>> \n>>>   File \"C:\\ProgramData\\Anaconda3\\lib\\site-packages\\keras\\engine\\training.py\", line 1572, in predict_step\n>>>     return self(x, training=False)\n>>> \n>>>   File \"C:\\ProgramData\\Anaconda3\\lib\\site-packages\\keras\\utils\\traceback_utils.py\", line 64, in error_handler\n>>>     return fn(*args, **kwargs)\n>>> \n>>>   File \"C:\\ProgramData\\Anaconda3\\lib\\site-packages\\keras\\engine\\base_layer.py\", line 1083, in __call__\n>>>     outputs = call_fn(inputs, *args, **kwargs)\n>>> \n>>>   File \"C:\\ProgramData\\Anaconda3\\lib\\site-packages\\keras\\utils\\traceback_utils.py\", line 92, in error_handler\n>>>     return fn(*args, **kwargs)\n>>> \n>>>   File \"C:\\ProgramData\\Anaconda3\\lib\\site-packages\\keras\\engine\\functional.py\", line 451, in call\n>>>     return self._run_internal_graph(\n>>> \n>>>   File \"C:\\ProgramData\\Anaconda3\\lib\\site-packages\\keras\\engine\\functional.py\", line 589, in _run_internal_graph\n>>>     outputs = node.layer(*args, **kwargs)\n>>> \n>>>   File \"C:\\ProgramData\\Anaconda3\\lib\\site-packages\\keras\\utils\\traceback_utils.py\", line 64, in error_handler\n>>>     return fn(*args, **kwargs)\n>>> \n>>>   File \"C:\\ProgramData\\Anaconda3\\lib\\site-packages\\keras\\engine\\base_layer.py\", line 1083, in __call__\n>>>     outputs = call_fn(inputs, *args, **kwargs)\n>>> \n>>>   File \"C:\\ProgramData\\Anaconda3\\lib\\site-packages\\keras\\utils\\traceback_utils.py\", line 92, in error_handler\n>>>     return fn(*args, **kwargs)\n>>> \n>>>   File \"C:\\ProgramData\\Anaconda3\\lib\\site-packages\\keras\\layers\\core\\dense.py\", line 199, in call\n>>>     outputs = tf.matmul(a=inputs, b=self.kernel)\n>>> ",
     "output_type": "error",
     "traceback": [
      "\u001b[1;31m---------------------------------------------------------------------------\u001b[0m",
      "\u001b[1;31mInternalError\u001b[0m                             Traceback (most recent call last)",
      "\u001b[1;32m<ipython-input-5-c978a290e085>\u001b[0m in \u001b[0;36m<module>\u001b[1;34m\u001b[0m\n\u001b[0;32m      1\u001b[0m \u001b[1;32mimport\u001b[0m \u001b[0mtensorflow\u001b[0m \u001b[1;32mas\u001b[0m \u001b[0mtf\u001b[0m\u001b[1;33m\u001b[0m\u001b[1;33m\u001b[0m\u001b[0m\n\u001b[0;32m      2\u001b[0m \u001b[0mencoder\u001b[0m \u001b[1;33m=\u001b[0m \u001b[0mtf\u001b[0m\u001b[1;33m.\u001b[0m\u001b[0mkeras\u001b[0m\u001b[1;33m.\u001b[0m\u001b[0mmodels\u001b[0m\u001b[1;33m.\u001b[0m\u001b[0mload_model\u001b[0m\u001b[1;33m(\u001b[0m\u001b[1;34m\"encoder.h5\"\u001b[0m\u001b[1;33m,\u001b[0m \u001b[0mcompile\u001b[0m \u001b[1;33m=\u001b[0m \u001b[1;32mFalse\u001b[0m\u001b[1;33m)\u001b[0m\u001b[1;33m\u001b[0m\u001b[1;33m\u001b[0m\u001b[0m\n\u001b[1;32m----> 3\u001b[1;33m \u001b[0mtest_output\u001b[0m \u001b[1;33m=\u001b[0m \u001b[0mencoder\u001b[0m\u001b[1;33m.\u001b[0m\u001b[0mpredict\u001b[0m\u001b[1;33m(\u001b[0m\u001b[1;33m[\u001b[0m\u001b[1;33m[\u001b[0m\u001b[1;36m59\u001b[0m\u001b[1;33m,\u001b[0m \u001b[1;36m76.350691\u001b[0m\u001b[1;33m,\u001b[0m \u001b[1;36m165.034328\u001b[0m\u001b[1;33m,\u001b[0m \u001b[1;36m1\u001b[0m\u001b[1;33m,\u001b[0m \u001b[1;36m41.809198\u001b[0m\u001b[1;33m,\u001b[0m \u001b[1;36m28.032665\u001b[0m\u001b[1;33m]\u001b[0m\u001b[1;33m]\u001b[0m\u001b[1;33m)\u001b[0m\u001b[1;33m\u001b[0m\u001b[1;33m\u001b[0m\u001b[0m\n\u001b[0m\u001b[0;32m      4\u001b[0m \u001b[0mtest_output\u001b[0m\u001b[1;33m\u001b[0m\u001b[1;33m\u001b[0m\u001b[0m\n",
      "\u001b[1;32mC:\\ProgramData\\Anaconda3\\lib\\site-packages\\keras\\utils\\traceback_utils.py\u001b[0m in \u001b[0;36merror_handler\u001b[1;34m(*args, **kwargs)\u001b[0m\n\u001b[0;32m     65\u001b[0m     \u001b[1;32mexcept\u001b[0m \u001b[0mException\u001b[0m \u001b[1;32mas\u001b[0m \u001b[0me\u001b[0m\u001b[1;33m:\u001b[0m  \u001b[1;31m# pylint: disable=broad-except\u001b[0m\u001b[1;33m\u001b[0m\u001b[1;33m\u001b[0m\u001b[0m\n\u001b[0;32m     66\u001b[0m       \u001b[0mfiltered_tb\u001b[0m \u001b[1;33m=\u001b[0m \u001b[0m_process_traceback_frames\u001b[0m\u001b[1;33m(\u001b[0m\u001b[0me\u001b[0m\u001b[1;33m.\u001b[0m\u001b[0m__traceback__\u001b[0m\u001b[1;33m)\u001b[0m\u001b[1;33m\u001b[0m\u001b[1;33m\u001b[0m\u001b[0m\n\u001b[1;32m---> 67\u001b[1;33m       \u001b[1;32mraise\u001b[0m \u001b[0me\u001b[0m\u001b[1;33m.\u001b[0m\u001b[0mwith_traceback\u001b[0m\u001b[1;33m(\u001b[0m\u001b[0mfiltered_tb\u001b[0m\u001b[1;33m)\u001b[0m \u001b[1;32mfrom\u001b[0m \u001b[1;32mNone\u001b[0m\u001b[1;33m\u001b[0m\u001b[1;33m\u001b[0m\u001b[0m\n\u001b[0m\u001b[0;32m     68\u001b[0m     \u001b[1;32mfinally\u001b[0m\u001b[1;33m:\u001b[0m\u001b[1;33m\u001b[0m\u001b[1;33m\u001b[0m\u001b[0m\n\u001b[0;32m     69\u001b[0m       \u001b[1;32mdel\u001b[0m \u001b[0mfiltered_tb\u001b[0m\u001b[1;33m\u001b[0m\u001b[1;33m\u001b[0m\u001b[0m\n",
      "\u001b[1;32m~\\AppData\\Roaming\\Python\\Python38\\site-packages\\tensorflow\\python\\eager\\execute.py\u001b[0m in \u001b[0;36mquick_execute\u001b[1;34m(op_name, num_outputs, inputs, attrs, ctx, name)\u001b[0m\n\u001b[0;32m     56\u001b[0m   \u001b[1;32mtry\u001b[0m\u001b[1;33m:\u001b[0m\u001b[1;33m\u001b[0m\u001b[1;33m\u001b[0m\u001b[0m\n\u001b[0;32m     57\u001b[0m     \u001b[0mctx\u001b[0m\u001b[1;33m.\u001b[0m\u001b[0mensure_initialized\u001b[0m\u001b[1;33m(\u001b[0m\u001b[1;33m)\u001b[0m\u001b[1;33m\u001b[0m\u001b[1;33m\u001b[0m\u001b[0m\n\u001b[1;32m---> 58\u001b[1;33m     tensors = pywrap_tfe.TFE_Py_Execute(ctx._handle, device_name, op_name,\n\u001b[0m\u001b[0;32m     59\u001b[0m                                         inputs, attrs, num_outputs)\n\u001b[0;32m     60\u001b[0m   \u001b[1;32mexcept\u001b[0m \u001b[0mcore\u001b[0m\u001b[1;33m.\u001b[0m\u001b[0m_NotOkStatusException\u001b[0m \u001b[1;32mas\u001b[0m \u001b[0me\u001b[0m\u001b[1;33m:\u001b[0m\u001b[1;33m\u001b[0m\u001b[1;33m\u001b[0m\u001b[0m\n",
      "\u001b[1;31mInternalError\u001b[0m:  Attempting to perform BLAS operation using StreamExecutor without BLAS support\n\t [[node model_3/dense/MatMul\n (defined at C:\\ProgramData\\Anaconda3\\lib\\site-packages\\keras\\layers\\core\\dense.py:199)\n]] [Op:__inference_predict_function_579]\n\nErrors may have originated from an input operation.\nInput Source operations connected to node model_3/dense/MatMul:\nIn[0] IteratorGetNext (defined at C:\\ProgramData\\Anaconda3\\lib\\site-packages\\keras\\engine\\training.py:1610)\t\nIn[1] model_3/dense/MatMul/ReadVariableOp:\n\nOperation defined at: (most recent call last)\n>>>   File \"C:\\ProgramData\\Anaconda3\\lib\\runpy.py\", line 194, in _run_module_as_main\n>>>     return _run_code(code, main_globals, None,\n>>> \n>>>   File \"C:\\ProgramData\\Anaconda3\\lib\\runpy.py\", line 87, in _run_code\n>>>     exec(code, run_globals)\n>>> \n>>>   File \"C:\\ProgramData\\Anaconda3\\lib\\site-packages\\ipykernel_launcher.py\", line 16, in <module>\n>>>     app.launch_new_instance()\n>>> \n>>>   File \"C:\\ProgramData\\Anaconda3\\lib\\site-packages\\traitlets\\config\\application.py\", line 845, in launch_instance\n>>>     app.start()\n>>> \n>>>   File \"C:\\ProgramData\\Anaconda3\\lib\\site-packages\\ipykernel\\kernelapp.py\", line 612, in start\n>>>     self.io_loop.start()\n>>> \n>>>   File \"C:\\ProgramData\\Anaconda3\\lib\\site-packages\\tornado\\platform\\asyncio.py\", line 149, in start\n>>>     self.asyncio_loop.run_forever()\n>>> \n>>>   File \"C:\\ProgramData\\Anaconda3\\lib\\asyncio\\base_events.py\", line 570, in run_forever\n>>>     self._run_once()\n>>> \n>>>   File \"C:\\ProgramData\\Anaconda3\\lib\\asyncio\\base_events.py\", line 1859, in _run_once\n>>>     handle._run()\n>>> \n>>>   File \"C:\\ProgramData\\Anaconda3\\lib\\asyncio\\events.py\", line 81, in _run\n>>>     self._context.run(self._callback, *self._args)\n>>> \n>>>   File \"C:\\ProgramData\\Anaconda3\\lib\\site-packages\\tornado\\ioloop.py\", line 690, in <lambda>\n>>>     lambda f: self._run_callback(functools.partial(callback, future))\n>>> \n>>>   File \"C:\\ProgramData\\Anaconda3\\lib\\site-packages\\tornado\\ioloop.py\", line 743, in _run_callback\n>>>     ret = callback()\n>>> \n>>>   File \"C:\\ProgramData\\Anaconda3\\lib\\site-packages\\tornado\\gen.py\", line 787, in inner\n>>>     self.run()\n>>> \n>>>   File \"C:\\ProgramData\\Anaconda3\\lib\\site-packages\\tornado\\gen.py\", line 748, in run\n>>>     yielded = self.gen.send(value)\n>>> \n>>>   File \"C:\\ProgramData\\Anaconda3\\lib\\site-packages\\ipykernel\\kernelbase.py\", line 365, in process_one\n>>>     yield gen.maybe_future(dispatch(*args))\n>>> \n>>>   File \"C:\\ProgramData\\Anaconda3\\lib\\site-packages\\tornado\\gen.py\", line 209, in wrapper\n>>>     yielded = next(result)\n>>> \n>>>   File \"C:\\ProgramData\\Anaconda3\\lib\\site-packages\\ipykernel\\kernelbase.py\", line 268, in dispatch_shell\n>>>     yield gen.maybe_future(handler(stream, idents, msg))\n>>> \n>>>   File \"C:\\ProgramData\\Anaconda3\\lib\\site-packages\\tornado\\gen.py\", line 209, in wrapper\n>>>     yielded = next(result)\n>>> \n>>>   File \"C:\\ProgramData\\Anaconda3\\lib\\site-packages\\ipykernel\\kernelbase.py\", line 543, in execute_request\n>>>     self.do_execute(\n>>> \n>>>   File \"C:\\ProgramData\\Anaconda3\\lib\\site-packages\\tornado\\gen.py\", line 209, in wrapper\n>>>     yielded = next(result)\n>>> \n>>>   File \"C:\\ProgramData\\Anaconda3\\lib\\site-packages\\ipykernel\\ipkernel.py\", line 306, in do_execute\n>>>     res = shell.run_cell(code, store_history=store_history, silent=silent)\n>>> \n>>>   File \"C:\\ProgramData\\Anaconda3\\lib\\site-packages\\ipykernel\\zmqshell.py\", line 536, in run_cell\n>>>     return super(ZMQInteractiveShell, self).run_cell(*args, **kwargs)\n>>> \n>>>   File \"C:\\ProgramData\\Anaconda3\\lib\\site-packages\\IPython\\core\\interactiveshell.py\", line 2877, in run_cell\n>>>     result = self._run_cell(\n>>> \n>>>   File \"C:\\ProgramData\\Anaconda3\\lib\\site-packages\\IPython\\core\\interactiveshell.py\", line 2923, in _run_cell\n>>>     return runner(coro)\n>>> \n>>>   File \"C:\\ProgramData\\Anaconda3\\lib\\site-packages\\IPython\\core\\async_helpers.py\", line 68, in _pseudo_sync_runner\n>>>     coro.send(None)\n>>> \n>>>   File \"C:\\ProgramData\\Anaconda3\\lib\\site-packages\\IPython\\core\\interactiveshell.py\", line 3146, in run_cell_async\n>>>     has_raised = await self.run_ast_nodes(code_ast.body, cell_name,\n>>> \n>>>   File \"C:\\ProgramData\\Anaconda3\\lib\\site-packages\\IPython\\core\\interactiveshell.py\", line 3338, in run_ast_nodes\n>>>     if (await self.run_code(code, result,  async_=asy)):\n>>> \n>>>   File \"C:\\ProgramData\\Anaconda3\\lib\\site-packages\\IPython\\core\\interactiveshell.py\", line 3418, in run_code\n>>>     exec(code_obj, self.user_global_ns, self.user_ns)\n>>> \n>>>   File \"<ipython-input-5-c978a290e085>\", line 3, in <module>\n>>>     test_output = encoder.predict([[59, 76.350691, 165.034328, 1, 41.809198, 28.032665]])\n>>> \n>>>   File \"C:\\ProgramData\\Anaconda3\\lib\\site-packages\\keras\\utils\\traceback_utils.py\", line 64, in error_handler\n>>>     return fn(*args, **kwargs)\n>>> \n>>>   File \"C:\\ProgramData\\Anaconda3\\lib\\site-packages\\keras\\engine\\training.py\", line 1789, in predict\n>>>     tmp_batch_outputs = self.predict_function(iterator)\n>>> \n>>>   File \"C:\\ProgramData\\Anaconda3\\lib\\site-packages\\keras\\engine\\training.py\", line 1621, in predict_function\n>>>     return step_function(self, iterator)\n>>> \n>>>   File \"C:\\ProgramData\\Anaconda3\\lib\\site-packages\\keras\\engine\\training.py\", line 1611, in step_function\n>>>     outputs = model.distribute_strategy.run(run_step, args=(data,))\n>>> \n>>>   File \"C:\\ProgramData\\Anaconda3\\lib\\site-packages\\keras\\engine\\training.py\", line 1604, in run_step\n>>>     outputs = model.predict_step(data)\n>>> \n>>>   File \"C:\\ProgramData\\Anaconda3\\lib\\site-packages\\keras\\engine\\training.py\", line 1572, in predict_step\n>>>     return self(x, training=False)\n>>> \n>>>   File \"C:\\ProgramData\\Anaconda3\\lib\\site-packages\\keras\\utils\\traceback_utils.py\", line 64, in error_handler\n>>>     return fn(*args, **kwargs)\n>>> \n>>>   File \"C:\\ProgramData\\Anaconda3\\lib\\site-packages\\keras\\engine\\base_layer.py\", line 1083, in __call__\n>>>     outputs = call_fn(inputs, *args, **kwargs)\n>>> \n>>>   File \"C:\\ProgramData\\Anaconda3\\lib\\site-packages\\keras\\utils\\traceback_utils.py\", line 92, in error_handler\n>>>     return fn(*args, **kwargs)\n>>> \n>>>   File \"C:\\ProgramData\\Anaconda3\\lib\\site-packages\\keras\\engine\\functional.py\", line 451, in call\n>>>     return self._run_internal_graph(\n>>> \n>>>   File \"C:\\ProgramData\\Anaconda3\\lib\\site-packages\\keras\\engine\\functional.py\", line 589, in _run_internal_graph\n>>>     outputs = node.layer(*args, **kwargs)\n>>> \n>>>   File \"C:\\ProgramData\\Anaconda3\\lib\\site-packages\\keras\\utils\\traceback_utils.py\", line 64, in error_handler\n>>>     return fn(*args, **kwargs)\n>>> \n>>>   File \"C:\\ProgramData\\Anaconda3\\lib\\site-packages\\keras\\engine\\base_layer.py\", line 1083, in __call__\n>>>     outputs = call_fn(inputs, *args, **kwargs)\n>>> \n>>>   File \"C:\\ProgramData\\Anaconda3\\lib\\site-packages\\keras\\utils\\traceback_utils.py\", line 92, in error_handler\n>>>     return fn(*args, **kwargs)\n>>> \n>>>   File \"C:\\ProgramData\\Anaconda3\\lib\\site-packages\\keras\\layers\\core\\dense.py\", line 199, in call\n>>>     outputs = tf.matmul(a=inputs, b=self.kernel)\n>>> "
     ]
    }
   ],
   "source": [
    "import tensorflow as tf\n",
    "encoder = tf.keras.models.load_model(\"encoder.h5\", compile = False)\n",
    "test_output = encoder.predict([[59, 76.350691, 165.034328, 1, 41.809198, 28.032665]])\n"
   ]
  },
  {
   "cell_type": "code",
   "execution_count": null,
   "id": "33ba6f04",
   "metadata": {
    "scrolled": true
   },
   "outputs": [],
   "source": [
    "df.to_csv(\"R_values.csv\", index=False)"
   ]
  },
  {
   "cell_type": "code",
   "execution_count": null,
   "id": "b49c7a26",
   "metadata": {},
   "outputs": [],
   "source": []
  }
 ],
 "metadata": {
  "kernelspec": {
   "display_name": "Python 3",
   "language": "python",
   "name": "python3"
  },
  "language_info": {
   "codemirror_mode": {
    "name": "ipython",
    "version": 3
   },
   "file_extension": ".py",
   "mimetype": "text/x-python",
   "name": "python",
   "nbconvert_exporter": "python",
   "pygments_lexer": "ipython3",
   "version": "3.8.8"
  }
 },
 "nbformat": 4,
 "nbformat_minor": 5
}
