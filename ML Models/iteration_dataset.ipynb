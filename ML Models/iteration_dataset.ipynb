{
 "cells": [
  {
   "cell_type": "code",
   "execution_count": 1,
   "id": "cf024088",
   "metadata": {},
   "outputs": [
    {
     "name": "stdout",
     "output_type": "stream",
     "text": [
      "62.5\n"
     ]
    }
   ],
   "source": [
    "import train_test_generation\n",
    "import pandas as pd"
   ]
  },
  {
   "cell_type": "code",
   "execution_count": null,
   "id": "20472274",
   "metadata": {},
   "outputs": [],
   "source": [
    "#features, output = train_test_generation.generatefinaldf(10, 'ML', 90)"
   ]
  },
  {
   "cell_type": "code",
   "execution_count": 15,
   "id": "b68ff5af",
   "metadata": {},
   "outputs": [],
   "source": [
    "clothesmap = {\n",
    "    'thermal' : 0, #(both top and bottom)\n",
    "    'hoodie' : 1,\n",
    "    'fleece' : 2,\n",
    "    'wool' : 3,\n",
    "    'light_down' : 4,\n",
    "    'thick_down' : 5,\n",
    "}\n",
    "def generateiterativeDataset(num):\n",
    "    final_dataframe = pd.DataFrame()\n",
    "    \n",
    "    \n",
    "    for _ in range(num):\n",
    "        features, output = train_test_generation.generatefinaldf(10, 'ML', 90)\n",
    "        single_person = features[:1]\n",
    "        single_person = single_person[['temperature', 'humidity', 'precipitation', 'windspeed', 'age','weight', 'height', 'sex', 'fatpercentage', 'bmi', 'cold_resistance','scoring_difference']]\n",
    "        duplicated_df = pd.concat([single_person] * 2**6, ignore_index = True)\n",
    "        result = []\n",
    "        for i in range(0, 2**6):\n",
    "            ans = \"{0:0>6b}\".format(i)\n",
    "            result.append(ans)\n",
    "\n",
    "        #creating clothing dataframe\n",
    "        final_result = []\n",
    "        for i in range(len(result)):\n",
    "            data = {}\n",
    "            for article in clothesmap:\n",
    "                data[article] = result[i][clothesmap[article]]\n",
    "\n",
    "            final_result.append(data)\n",
    "\n",
    "        possible_combinations = pd.DataFrame(final_result)\n",
    "        combined_df = pd.concat([duplicated_df, possible_combinations], axis = 1)\n",
    "        \n",
    "        if _ == 0:\n",
    "            final_dataframe = combined_df\n",
    "        else:\n",
    "            #print('yay', _)\n",
    "            final_dataframe = pd.concat([final_dataframe, combined_df], axis = 0, ignore_index = True)\n",
    "    return final_dataframe"
   ]
  },
  {
   "cell_type": "code",
   "execution_count": null,
   "id": "6c84172e",
   "metadata": {},
   "outputs": [],
   "source": []
  }
 ],
 "metadata": {
  "kernelspec": {
   "display_name": "Python 3",
   "language": "python",
   "name": "python3"
  },
  "language_info": {
   "codemirror_mode": {
    "name": "ipython",
    "version": 3
   },
   "file_extension": ".py",
   "mimetype": "text/x-python",
   "name": "python",
   "nbconvert_exporter": "python",
   "pygments_lexer": "ipython3",
   "version": "3.8.8"
  }
 },
 "nbformat": 4,
 "nbformat_minor": 5
}
