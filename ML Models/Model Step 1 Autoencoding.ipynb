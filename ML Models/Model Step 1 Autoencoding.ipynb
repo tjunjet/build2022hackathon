{
 "cells": [
  {
   "cell_type": "code",
   "execution_count": 1,
<<<<<<< HEAD
=======
   "id": "03923be6",
>>>>>>> 2848c2df9f21b416e79050ca2f9758313b77ef08
   "metadata": {
    "scrolled": true
   },
   "outputs": [
    {
     "name": "stdout",
     "output_type": "stream",
     "text": [
      "62.5\n",
      "[True, True, True, True, True, True, False, False, False]\n",
      "-9.999999999999972\n"
     ]
    },
    {
     "name": "stderr",
     "output_type": "stream",
     "text": [
      "C:\\Users\\User\\Documents\\Freshman\\Build 2022\\build2022hackathon\\ML Models\\train_test_generation.py:525: SettingWithCopyWarning: \n",
      "A value is trying to be set on a copy of a slice from a DataFrame\n",
      "\n",
      "See the caveats in the documentation: https://pandas.pydata.org/pandas-docs/stable/user_guide/indexing.html#returning-a-view-versus-a-copy\n",
      "  df[article][ite] = bool(random.getrandbits(1))\n",
      "C:\\Users\\User\\anaconda3\\lib\\site-packages\\pandas\\core\\indexing.py:1637: SettingWithCopyWarning: \n",
      "A value is trying to be set on a copy of a slice from a DataFrame\n",
      "\n",
      "See the caveats in the documentation: https://pandas.pydata.org/pandas-docs/stable/user_guide/indexing.html#returning-a-view-versus-a-copy\n",
      "  self._setitem_single_block(indexer, value, name)\n"
     ]
    }
   ],
   "source": [
    "import train_test_generation\n",
    "from keras.layers import Dense,Conv2D,MaxPooling2D,UpSampling2D\n",
    "from keras import Input, Model\n",
    "from keras.datasets import mnist\n",
    "import numpy as np\n",
    "import matplotlib.pyplot as plt\n",
    "import tensorflow as tf\n",
    "from keras import regularizers\n",
    "import keras\n",
    "import pandas as pd"
   ]
  },
  {
   "cell_type": "code",
   "execution_count": 2,
<<<<<<< HEAD
=======
   "id": "c3c05b10",
>>>>>>> 2848c2df9f21b416e79050ca2f9758313b77ef08
   "metadata": {
    "scrolled": true
   },
   "outputs": [
    {
     "name": "stderr",
     "output_type": "stream",
     "text": [
      "C:\\Users\\User\\Documents\\Freshman\\Build 2022\\build2022hackathon\\ML Models\\train_test_generation.py:525: SettingWithCopyWarning: \n",
      "A value is trying to be set on a copy of a slice from a DataFrame\n",
      "\n",
      "See the caveats in the documentation: https://pandas.pydata.org/pandas-docs/stable/user_guide/indexing.html#returning-a-view-versus-a-copy\n",
      "  df[article][ite] = bool(random.getrandbits(1))\n",
      "C:\\Users\\User\\anaconda3\\lib\\site-packages\\pandas\\core\\indexing.py:1637: SettingWithCopyWarning: \n",
      "A value is trying to be set on a copy of a slice from a DataFrame\n",
      "\n",
      "See the caveats in the documentation: https://pandas.pydata.org/pandas-docs/stable/user_guide/indexing.html#returning-a-view-versus-a-copy\n",
      "  self._setitem_single_block(indexer, value, name)\n"
     ]
    }
   ],
   "source": [
    "features, output = train_test_generation.generatefinaldf(10**5, 'ML', 90)"
   ]
  },
  {
   "cell_type": "code",
   "execution_count": 3,
<<<<<<< HEAD
=======
   "id": "6607a010",
>>>>>>> 2848c2df9f21b416e79050ca2f9758313b77ef08
   "metadata": {
    "scrolled": true
   },
   "outputs": [
    {
     "data": {
      "text/html": [
       "<div>\n",
       "<style scoped>\n",
       "    .dataframe tbody tr th:only-of-type {\n",
       "        vertical-align: middle;\n",
       "    }\n",
       "\n",
       "    .dataframe tbody tr th {\n",
       "        vertical-align: top;\n",
       "    }\n",
       "\n",
       "    .dataframe thead th {\n",
       "        text-align: right;\n",
       "    }\n",
       "</style>\n",
       "<table border=\"1\" class=\"dataframe\">\n",
       "  <thead>\n",
       "    <tr style=\"text-align: right;\">\n",
       "      <th></th>\n",
       "      <th>temperature</th>\n",
       "      <th>humidity</th>\n",
       "      <th>precipitation</th>\n",
       "      <th>windspeed</th>\n",
       "      <th>age</th>\n",
       "      <th>weight</th>\n",
       "      <th>height</th>\n",
       "      <th>sex</th>\n",
       "      <th>fatpercentage</th>\n",
       "      <th>bmi</th>\n",
       "      <th>cold_resistance</th>\n",
       "      <th>scoring_difference</th>\n",
       "      <th>adjusted_cold_resistance</th>\n",
       "      <th>preference_factor</th>\n",
       "    </tr>\n",
       "  </thead>\n",
       "  <tbody>\n",
       "    <tr>\n",
       "      <th>0</th>\n",
       "      <td>-12</td>\n",
       "      <td>68</td>\n",
       "      <td>86</td>\n",
       "      <td>13</td>\n",
       "      <td>59</td>\n",
       "      <td>76.350691</td>\n",
       "      <td>165.034328</td>\n",
       "      <td>1</td>\n",
       "      <td>41.809198</td>\n",
       "      <td>28.032665</td>\n",
       "      <td>70.0</td>\n",
       "      <td>-6.833333</td>\n",
       "      <td>73.500</td>\n",
       "      <td>105</td>\n",
       "    </tr>\n",
       "    <tr>\n",
       "      <th>1</th>\n",
       "      <td>-17</td>\n",
       "      <td>17</td>\n",
       "      <td>58</td>\n",
       "      <td>7</td>\n",
       "      <td>24</td>\n",
       "      <td>83.566165</td>\n",
       "      <td>176.487951</td>\n",
       "      <td>0</td>\n",
       "      <td>21.514493</td>\n",
       "      <td>26.828745</td>\n",
       "      <td>72.5</td>\n",
       "      <td>-1.775000</td>\n",
       "      <td>71.775</td>\n",
       "      <td>99</td>\n",
       "    </tr>\n",
       "    <tr>\n",
       "      <th>2</th>\n",
       "      <td>-13</td>\n",
       "      <td>51</td>\n",
       "      <td>38</td>\n",
       "      <td>23</td>\n",
       "      <td>24</td>\n",
       "      <td>96.348209</td>\n",
       "      <td>178.793425</td>\n",
       "      <td>0</td>\n",
       "      <td>25.487776</td>\n",
       "      <td>30.139813</td>\n",
       "      <td>80.0</td>\n",
       "      <td>-7.466667</td>\n",
       "      <td>80.800</td>\n",
       "      <td>101</td>\n",
       "    </tr>\n",
       "    <tr>\n",
       "      <th>3</th>\n",
       "      <td>-9</td>\n",
       "      <td>14</td>\n",
       "      <td>32</td>\n",
       "      <td>21</td>\n",
       "      <td>25</td>\n",
       "      <td>106.733295</td>\n",
       "      <td>179.147332</td>\n",
       "      <td>0</td>\n",
       "      <td>29.458047</td>\n",
       "      <td>33.256706</td>\n",
       "      <td>80.0</td>\n",
       "      <td>-9.333333</td>\n",
       "      <td>76.000</td>\n",
       "      <td>95</td>\n",
       "    </tr>\n",
       "    <tr>\n",
       "      <th>4</th>\n",
       "      <td>13</td>\n",
       "      <td>6</td>\n",
       "      <td>96</td>\n",
       "      <td>16</td>\n",
       "      <td>29</td>\n",
       "      <td>68.463140</td>\n",
       "      <td>163.715886</td>\n",
       "      <td>1</td>\n",
       "      <td>31.921830</td>\n",
       "      <td>25.543192</td>\n",
       "      <td>100.0</td>\n",
       "      <td>0.000000</td>\n",
       "      <td>103.000</td>\n",
       "      <td>103</td>\n",
       "    </tr>\n",
       "  </tbody>\n",
       "</table>\n",
       "</div>"
      ],
      "text/plain": [
       "   temperature  humidity  precipitation  windspeed  age      weight  \\\n",
       "0          -12        68             86         13   59   76.350691   \n",
       "1          -17        17             58          7   24   83.566165   \n",
       "2          -13        51             38         23   24   96.348209   \n",
       "3           -9        14             32         21   25  106.733295   \n",
       "4           13         6             96         16   29   68.463140   \n",
       "\n",
       "       height  sex  fatpercentage        bmi  cold_resistance  \\\n",
       "0  165.034328    1      41.809198  28.032665             70.0   \n",
       "1  176.487951    0      21.514493  26.828745             72.5   \n",
       "2  178.793425    0      25.487776  30.139813             80.0   \n",
       "3  179.147332    0      29.458047  33.256706             80.0   \n",
       "4  163.715886    1      31.921830  25.543192            100.0   \n",
       "\n",
       "   scoring_difference  adjusted_cold_resistance  preference_factor  \n",
       "0           -6.833333                    73.500                105  \n",
       "1           -1.775000                    71.775                 99  \n",
       "2           -7.466667                    80.800                101  \n",
       "3           -9.333333                    76.000                 95  \n",
       "4            0.000000                   103.000                103  "
      ]
     },
     "execution_count": 3,
     "metadata": {},
     "output_type": "execute_result"
    }
   ],
   "source": [
    "features.head()"
   ]
  },
  {
   "cell_type": "code",
   "execution_count": 4,
<<<<<<< HEAD
=======
   "id": "5fb7b4a0",
>>>>>>> 2848c2df9f21b416e79050ca2f9758313b77ef08
   "metadata": {},
   "outputs": [
    {
     "data": {
      "text/html": [
       "<div>\n",
       "<style scoped>\n",
       "    .dataframe tbody tr th:only-of-type {\n",
       "        vertical-align: middle;\n",
       "    }\n",
       "\n",
       "    .dataframe tbody tr th {\n",
       "        vertical-align: top;\n",
       "    }\n",
       "\n",
       "    .dataframe thead th {\n",
       "        text-align: right;\n",
       "    }\n",
       "</style>\n",
       "<table border=\"1\" class=\"dataframe\">\n",
       "  <thead>\n",
       "    <tr style=\"text-align: right;\">\n",
       "      <th></th>\n",
       "      <th>thermal</th>\n",
       "      <th>hoodie</th>\n",
       "      <th>fleece</th>\n",
       "      <th>wool</th>\n",
       "      <th>light_down</th>\n",
       "      <th>thick_down</th>\n",
       "      <th>wind_breaker</th>\n",
       "      <th>umbrella</th>\n",
       "      <th>winter_boots</th>\n",
       "      <th>user_feedback</th>\n",
       "    </tr>\n",
       "  </thead>\n",
       "  <tbody>\n",
       "    <tr>\n",
       "      <th>0</th>\n",
       "      <td>False</td>\n",
       "      <td>True</td>\n",
       "      <td>True</td>\n",
       "      <td>True</td>\n",
       "      <td>True</td>\n",
       "      <td>True</td>\n",
       "      <td>False</td>\n",
       "      <td>True</td>\n",
       "      <td>True</td>\n",
       "      <td>0</td>\n",
       "    </tr>\n",
       "    <tr>\n",
       "      <th>1</th>\n",
       "      <td>True</td>\n",
       "      <td>True</td>\n",
       "      <td>True</td>\n",
       "      <td>True</td>\n",
       "      <td>True</td>\n",
       "      <td>True</td>\n",
       "      <td>False</td>\n",
       "      <td>True</td>\n",
       "      <td>True</td>\n",
       "      <td>1</td>\n",
       "    </tr>\n",
       "    <tr>\n",
       "      <th>2</th>\n",
       "      <td>False</td>\n",
       "      <td>True</td>\n",
       "      <td>True</td>\n",
       "      <td>True</td>\n",
       "      <td>True</td>\n",
       "      <td>True</td>\n",
       "      <td>False</td>\n",
       "      <td>False</td>\n",
       "      <td>False</td>\n",
       "      <td>0</td>\n",
       "    </tr>\n",
       "    <tr>\n",
       "      <th>3</th>\n",
       "      <td>False</td>\n",
       "      <td>True</td>\n",
       "      <td>False</td>\n",
       "      <td>True</td>\n",
       "      <td>True</td>\n",
       "      <td>True</td>\n",
       "      <td>False</td>\n",
       "      <td>False</td>\n",
       "      <td>False</td>\n",
       "      <td>0</td>\n",
       "    </tr>\n",
       "    <tr>\n",
       "      <th>4</th>\n",
       "      <td>False</td>\n",
       "      <td>False</td>\n",
       "      <td>False</td>\n",
       "      <td>False</td>\n",
       "      <td>False</td>\n",
       "      <td>False</td>\n",
       "      <td>False</td>\n",
       "      <td>True</td>\n",
       "      <td>False</td>\n",
       "      <td>1</td>\n",
       "    </tr>\n",
       "  </tbody>\n",
       "</table>\n",
       "</div>"
      ],
      "text/plain": [
       "  thermal hoodie fleece   wool light_down thick_down wind_breaker umbrella  \\\n",
       "0   False   True   True   True       True       True        False     True   \n",
       "1    True   True   True   True       True       True        False     True   \n",
       "2   False   True   True   True       True       True        False    False   \n",
       "3   False   True  False   True       True       True        False    False   \n",
       "4   False  False  False  False      False      False        False     True   \n",
       "\n",
       "  winter_boots  user_feedback  \n",
       "0         True              0  \n",
       "1         True              1  \n",
       "2        False              0  \n",
       "3        False              0  \n",
       "4        False              1  "
      ]
     },
     "execution_count": 4,
     "metadata": {},
     "output_type": "execute_result"
    }
   ],
   "source": [
    "output.head()"
   ]
  },
  {
   "cell_type": "code",
   "execution_count": 6,
<<<<<<< HEAD
=======
   "id": "30cf75ef",
>>>>>>> 2848c2df9f21b416e79050ca2f9758313b77ef08
   "metadata": {},
   "outputs": [],
   "source": [
    "features.to_csv(\"features.csv\", index=False)\n",
    "output.to_csv(\"output.csv\", index=False)"
   ]
  },
  {
   "cell_type": "code",
   "execution_count": 7,
<<<<<<< HEAD
=======
   "id": "e06ebb24",
>>>>>>> 2848c2df9f21b416e79050ca2f9758313b77ef08
   "metadata": {
    "scrolled": true
   },
   "outputs": [],
   "source": [
    "user_params_df = features[['age', 'weight', 'height', 'sex', 'fatpercentage', 'bmi']]"
   ]
  },
  {
   "cell_type": "code",
   "execution_count": 8,
<<<<<<< HEAD
=======
   "id": "4d8b0c0d",
>>>>>>> 2848c2df9f21b416e79050ca2f9758313b77ef08
   "metadata": {},
   "outputs": [],
   "source": [
    "#features.tail()"
   ]
  },
  {
   "cell_type": "code",
   "execution_count": 9,
<<<<<<< HEAD
=======
   "id": "08a3a1d2",
>>>>>>> 2848c2df9f21b416e79050ca2f9758313b77ef08
   "metadata": {
    "scrolled": true
   },
   "outputs": [
    {
     "data": {
      "text/html": [
       "<div>\n",
       "<style scoped>\n",
       "    .dataframe tbody tr th:only-of-type {\n",
       "        vertical-align: middle;\n",
       "    }\n",
       "\n",
       "    .dataframe tbody tr th {\n",
       "        vertical-align: top;\n",
       "    }\n",
       "\n",
       "    .dataframe thead th {\n",
       "        text-align: right;\n",
       "    }\n",
       "</style>\n",
       "<table border=\"1\" class=\"dataframe\">\n",
       "  <thead>\n",
       "    <tr style=\"text-align: right;\">\n",
       "      <th></th>\n",
       "      <th>age</th>\n",
       "      <th>weight</th>\n",
       "      <th>height</th>\n",
       "      <th>sex</th>\n",
       "      <th>fatpercentage</th>\n",
       "      <th>bmi</th>\n",
       "    </tr>\n",
       "  </thead>\n",
       "  <tbody>\n",
       "    <tr>\n",
       "      <th>0</th>\n",
       "      <td>59</td>\n",
       "      <td>76.350691</td>\n",
       "      <td>165.034328</td>\n",
       "      <td>1</td>\n",
       "      <td>41.809198</td>\n",
       "      <td>28.032665</td>\n",
       "    </tr>\n",
       "    <tr>\n",
       "      <th>1</th>\n",
       "      <td>24</td>\n",
       "      <td>83.566165</td>\n",
       "      <td>176.487951</td>\n",
       "      <td>0</td>\n",
       "      <td>21.514493</td>\n",
       "      <td>26.828745</td>\n",
       "    </tr>\n",
       "    <tr>\n",
       "      <th>2</th>\n",
       "      <td>24</td>\n",
       "      <td>96.348209</td>\n",
       "      <td>178.793425</td>\n",
       "      <td>0</td>\n",
       "      <td>25.487776</td>\n",
       "      <td>30.139813</td>\n",
       "    </tr>\n",
       "    <tr>\n",
       "      <th>3</th>\n",
       "      <td>25</td>\n",
       "      <td>106.733295</td>\n",
       "      <td>179.147332</td>\n",
       "      <td>0</td>\n",
       "      <td>29.458047</td>\n",
       "      <td>33.256706</td>\n",
       "    </tr>\n",
       "    <tr>\n",
       "      <th>4</th>\n",
       "      <td>29</td>\n",
       "      <td>68.463140</td>\n",
       "      <td>163.715886</td>\n",
       "      <td>1</td>\n",
       "      <td>31.921830</td>\n",
       "      <td>25.543192</td>\n",
       "    </tr>\n",
       "  </tbody>\n",
       "</table>\n",
       "</div>"
      ],
      "text/plain": [
       "   age      weight      height  sex  fatpercentage        bmi\n",
       "0   59   76.350691  165.034328    1      41.809198  28.032665\n",
       "1   24   83.566165  176.487951    0      21.514493  26.828745\n",
       "2   24   96.348209  178.793425    0      25.487776  30.139813\n",
       "3   25  106.733295  179.147332    0      29.458047  33.256706\n",
       "4   29   68.463140  163.715886    1      31.921830  25.543192"
      ]
     },
     "execution_count": 9,
     "metadata": {},
     "output_type": "execute_result"
    }
   ],
   "source": [
    "user_params_df.head()"
   ]
  },
  {
   "cell_type": "code",
   "execution_count": null,
   "id": "90bd4667",
   "metadata": {
    "scrolled": true
   },
   "outputs": [],
   "source": [
    "#https://www.analyticsvidhya.com/blog/2021/06/complete-guide-on-how-to-use-autoencoders-in-python/"
   ]
  },
  {
   "cell_type": "code",
   "execution_count": null,
   "id": "53646ddc",
   "metadata": {
    "scrolled": true
   },
   "outputs": [],
   "source": [
    "#num = user_params_df.values\n",
    "#num = tf.convert_to_tensor(num)"
   ]
  },
  {
   "cell_type": "code",
   "execution_count": 10,
<<<<<<< HEAD
=======
   "id": "8ccc4b10",
>>>>>>> 2848c2df9f21b416e79050ca2f9758313b77ef08
   "metadata": {
    "scrolled": true
   },
   "outputs": [],
   "source": [
    "from sklearn.preprocessing import MinMaxScaler \n",
    "X = MinMaxScaler().fit_transform(user_params_df)"
   ]
  },
  {
   "cell_type": "code",
   "execution_count": 11,
   "id": "59e33430",
   "metadata": {
    "scrolled": true
   },
   "outputs": [],
   "source": [
    "#https://www.geeksforgeeks.org/ml-classifying-data-using-an-auto-encoder/"
   ]
  },
  {
   "cell_type": "code",
   "execution_count": 12,
   "id": "cb213eaf",
   "metadata": {
    "scrolled": true
   },
   "outputs": [],
   "source": [
    "input_layer = Input(shape =(X.shape[1], ))"
   ]
  },
  {
   "cell_type": "code",
   "execution_count": 13,
   "id": "21d8bfb6",
   "metadata": {
    "scrolled": true
   },
   "outputs": [],
   "source": [
    "#building the autoencoder network\n",
    "encoded = Dense(100, activation ='linear',\n",
    "                activity_regularizer = regularizers.l1(10e-5))(input_layer)\n",
    "encoded = Dense(50, activation ='linear',\n",
    "                activity_regularizer = regularizers.l1(10e-5))(encoded)\n",
    "encoded = Dense(25, activation ='linear',\n",
    "                activity_regularizer = regularizers.l1(10e-5))(encoded)\n",
    "encoded = Dense(12, activation ='linear',\n",
    "                activity_regularizer = regularizers.l1(10e-5))(encoded)\n",
    "encoded = Dense(4, activation ='linear')(encoded)\n",
    "  \n",
    "# Building the Decoder network\n",
    "decoded = Dense(12, activation ='linear')(encoded)\n",
    "decoded = Dense(25, activation ='linear')(decoded)\n",
    "decoded = Dense(50, activation ='linear')(decoded)\n",
    "decoded = Dense(100, activation ='linear')(decoded)\n",
    "  \n",
    "# Building the Output Layer\n",
    "output_layer = Dense(X.shape[1], activation ='relu')(decoded)\n",
    "output_layer = Dense(X.shape[1], activation ='relu')(decoded)"
   ]
  },
  {
   "cell_type": "code",
   "execution_count": 14,
   "id": "8c06c1a0",
   "metadata": {
    "scrolled": true
   },
   "outputs": [],
   "source": [
    "autoencoder = Model(input_layer, output_layer)\n",
    "autoencoder.compile(optimizer =\"adam\", loss =\"binary_crossentropy\" , metrics=['accuracy'])"
   ]
  },
  {
   "cell_type": "code",
   "execution_count": 15,
   "id": "1259d60c",
   "metadata": {
    "scrolled": false
   },
   "outputs": [
    {
     "name": "stdout",
     "output_type": "stream",
     "text": [
      "Epoch 1/25\n",
      "4000/4000 [==============================] - 4s 955us/step - loss: 0.7527 - accuracy: 0.9328 - val_loss: 0.6419 - val_accuracy: 0.8411\n",
      "Epoch 2/25\n",
      "4000/4000 [==============================] - 4s 930us/step - loss: 0.4902 - accuracy: 0.9530 - val_loss: 0.7125 - val_accuracy: 0.8479\n",
      "Epoch 3/25\n",
      "4000/4000 [==============================] - 4s 929us/step - loss: 0.4892 - accuracy: 0.9549 - val_loss: 0.5650 - val_accuracy: 0.7742\n",
      "Epoch 4/25\n",
      "4000/4000 [==============================] - 4s 919us/step - loss: 0.5008 - accuracy: 0.9284 - val_loss: 0.5267 - val_accuracy: 0.8903\n",
      "Epoch 5/25\n",
      "4000/4000 [==============================] - 4s 919us/step - loss: 0.4909 - accuracy: 0.9482 - val_loss: 0.5021 - val_accuracy: 0.8266\n",
      "Epoch 6/25\n",
      "4000/4000 [==============================] - 4s 939us/step - loss: 0.4898 - accuracy: 0.9645 - val_loss: 0.5033 - val_accuracy: 0.9379\n",
      "Epoch 7/25\n",
      "4000/4000 [==============================] - 4s 925us/step - loss: 0.4916 - accuracy: 0.9574 - val_loss: 0.7327 - val_accuracy: 0.8506\n",
      "Epoch 8/25\n",
      "4000/4000 [==============================] - 4s 925us/step - loss: 0.4938 - accuracy: 0.9413 - val_loss: 0.7164 - val_accuracy: 0.8311\n",
      "Epoch 9/25\n",
      "4000/4000 [==============================] - 4s 921us/step - loss: 0.4933 - accuracy: 0.9363 - val_loss: 0.6036 - val_accuracy: 0.9081\n",
      "Epoch 10/25\n",
      "4000/4000 [==============================] - 4s 926us/step - loss: 0.4906 - accuracy: 0.9495 - val_loss: 0.7668 - val_accuracy: 0.8410\n",
      "Epoch 11/25\n",
      "4000/4000 [==============================] - 4s 926us/step - loss: 0.4915 - accuracy: 0.9509 - val_loss: 0.5050 - val_accuracy: 0.9558\n",
      "Epoch 12/25\n",
      "4000/4000 [==============================] - 4s 929us/step - loss: 0.7759 - accuracy: 0.9297 - val_loss: 0.5574 - val_accuracy: 0.7878\n",
      "Epoch 13/25\n",
      "4000/4000 [==============================] - 4s 933us/step - loss: 0.4927 - accuracy: 0.9469 - val_loss: 0.4716 - val_accuracy: 0.9617\n",
      "Epoch 14/25\n",
      "4000/4000 [==============================] - 4s 937us/step - loss: 0.4870 - accuracy: 0.9760 - val_loss: 0.4683 - val_accuracy: 0.9628\n",
      "Epoch 15/25\n",
      "4000/4000 [==============================] - 4s 922us/step - loss: 0.4936 - accuracy: 0.9472 - val_loss: 0.5166 - val_accuracy: 0.8199\n",
      "Epoch 16/25\n",
      "4000/4000 [==============================] - 4s 920us/step - loss: 0.4887 - accuracy: 0.9703 - val_loss: 0.4905 - val_accuracy: 0.9489\n",
      "Epoch 17/25\n",
      "4000/4000 [==============================] - 4s 919us/step - loss: 0.4974 - accuracy: 0.9397 - val_loss: 0.4805 - val_accuracy: 0.9388\n",
      "Epoch 18/25\n",
      "4000/4000 [==============================] - 4s 918us/step - loss: 0.8071 - accuracy: 0.9733 - val_loss: 1.6668 - val_accuracy: 0.5110\n",
      "Epoch 19/25\n",
      "4000/4000 [==============================] - 4s 919us/step - loss: 0.4955 - accuracy: 0.9543 - val_loss: 0.4714 - val_accuracy: 0.9513\n",
      "Epoch 20/25\n",
      "4000/4000 [==============================] - 4s 952us/step - loss: 0.4943 - accuracy: 0.9394 - val_loss: 0.7228 - val_accuracy: 0.8411\n",
      "Epoch 21/25\n",
      "4000/4000 [==============================] - 4s 957us/step - loss: 1.7379 - accuracy: 0.4363 - val_loss: 1.7859 - val_accuracy: 0.4130\n",
      "Epoch 22/25\n",
      "4000/4000 [==============================] - 4s 932us/step - loss: 1.5644 - accuracy: 0.5567 - val_loss: 0.4808 - val_accuracy: 0.9380\n",
      "Epoch 23/25\n",
      "4000/4000 [==============================] - 4s 919us/step - loss: 0.4867 - accuracy: 0.9768 - val_loss: 0.4693 - val_accuracy: 0.9624\n",
      "Epoch 24/25\n",
      "4000/4000 [==============================] - 4s 918us/step - loss: 0.4967 - accuracy: 0.9599 - val_loss: 0.6602 - val_accuracy: 0.8809\n",
      "Epoch 25/25\n",
      "4000/4000 [==============================] - 4s 920us/step - loss: 0.5375 - accuracy: 0.9207 - val_loss: 0.5726 - val_accuracy: 0.9164\n"
     ]
    },
    {
     "data": {
      "text/plain": [
       "<keras.callbacks.History at 0x16f9dedabe0>"
      ]
     },
     "execution_count": 15,
     "metadata": {},
     "output_type": "execute_result"
    }
   ],
   "source": [
    "autoencoder.fit(X, X, \n",
    "                batch_size = 20, epochs = 25, \n",
    "                shuffle = True, validation_split = 0.20)"
   ]
  },
  {
   "cell_type": "code",
   "execution_count": 16,
   "id": "58b44bab",
   "metadata": {
    "scrolled": true
   },
   "outputs": [
    {
     "name": "stdout",
     "output_type": "stream",
     "text": [
      "[[-0.4762031   0.23505373  0.61555654  0.32822245]\n",
      " [ 0.01234841 -0.6193027  -0.5379675  -0.2905262 ]\n",
      " [ 0.03640337 -0.6760528  -0.5427377  -0.36371887]\n",
      " ...\n",
      " [-0.08766553  0.6069944   0.01296812  0.35262948]\n",
      " [-0.13384688 -0.42827547  0.26936463  0.4585284 ]\n",
      " [ 0.35810277  0.523236    0.47907728  0.5528104 ]]\n"
     ]
    }
   ],
   "source": [
    "# Extracting the embedding\n",
    "encoder = keras.Model(input_layer, encoded)\n",
    "encoded_r = encoder.predict(X)\n",
    "print(encoded_r)"
   ]
  },
  {
   "cell_type": "code",
   "execution_count": 17,
   "id": "45bee098",
   "metadata": {
    "scrolled": true
   },
   "outputs": [
    {
     "name": "stdout",
     "output_type": "stream",
     "text": [
      "       Attribute 1  Attribute 2  Attribute 3  Attribute 4\n",
      "0        -0.476203     0.235054     0.615557     0.328222\n",
      "1         0.012348    -0.619303    -0.537968    -0.290526\n",
      "2         0.036403    -0.676053    -0.542738    -0.363719\n",
      "3         0.046792    -0.726765    -0.517613    -0.409518\n",
      "4         0.092403     0.594632     0.068947     0.358308\n",
      "...            ...          ...          ...          ...\n",
      "99995     0.072192     0.707204     0.444989     0.730725\n",
      "99996    -0.260917     0.355484     0.302514     0.253209\n",
      "99997    -0.087666     0.606994     0.012968     0.352629\n",
      "99998    -0.133847    -0.428275     0.269365     0.458528\n",
      "99999     0.358103     0.523236     0.479077     0.552810\n",
      "\n",
      "[100000 rows x 4 columns]\n"
     ]
    }
   ],
   "source": [
    "# Transforming to a CSV file using pandas\n",
    "\n",
    "df = pd.DataFrame(encoded_r, columns = [\"Attribute 1\", \"Attribute 2\", \"Attribute 3\", \"Attribute 4\"])\n",
    "print(df)"
   ]
  },
  {
   "cell_type": "code",
   "execution_count": 18,
   "id": "2fb50c3f",
   "metadata": {
    "scrolled": true
   },
   "outputs": [],
   "source": [
    "df.to_csv(\"R_values.csv\", index=False)"
   ]
  },
  {
   "cell_type": "code",
   "execution_count": null,
   "id": "1d754758",
   "metadata": {},
   "outputs": [],
   "source": []
  }
 ],
 "metadata": {
  "kernelspec": {
   "display_name": "Python 3",
   "language": "python",
   "name": "python3"
  },
  "language_info": {
   "codemirror_mode": {
    "name": "ipython",
    "version": 3
   },
   "file_extension": ".py",
   "mimetype": "text/x-python",
   "name": "python",
   "nbconvert_exporter": "python",
   "pygments_lexer": "ipython3",
   "version": "3.8.8"
  }
 },
 "nbformat": 4,
 "nbformat_minor": 5
}
