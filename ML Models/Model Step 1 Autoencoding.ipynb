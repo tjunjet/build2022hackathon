{
 "cells": [
  {
   "cell_type": "code",
   "execution_count": 1,
   "metadata": {
    "scrolled": true
   },
   "outputs": [
    {
     "name": "stdout",
     "output_type": "stream",
     "text": [
      "62.5\n",
      "[True, True, True, True, True, True, False, False, False]\n",
      "-9.999999999999972\n"
     ]
    },
    {
     "name": "stderr",
     "output_type": "stream",
     "text": [
      "C:\\Users\\User\\Documents\\Freshman\\Build 2022\\build2022hackathon\\ML Models\\train_test_generation.py:525: SettingWithCopyWarning: \n",
      "A value is trying to be set on a copy of a slice from a DataFrame\n",
      "\n",
      "See the caveats in the documentation: https://pandas.pydata.org/pandas-docs/stable/user_guide/indexing.html#returning-a-view-versus-a-copy\n",
      "  df[article][ite] = bool(random.getrandbits(1))\n",
      "C:\\Users\\User\\anaconda3\\lib\\site-packages\\pandas\\core\\indexing.py:1637: SettingWithCopyWarning: \n",
      "A value is trying to be set on a copy of a slice from a DataFrame\n",
      "\n",
      "See the caveats in the documentation: https://pandas.pydata.org/pandas-docs/stable/user_guide/indexing.html#returning-a-view-versus-a-copy\n",
      "  self._setitem_single_block(indexer, value, name)\n"
     ]
    }
   ],
   "source": [
    "import train_test_generation\n",
    "from keras.layers import Dense,Conv2D,MaxPooling2D,UpSampling2D\n",
    "from keras import Input, Model\n",
    "from keras.datasets import mnist\n",
    "import numpy as np\n",
    "import matplotlib.pyplot as plt\n",
    "import tensorflow as tf\n",
    "from keras import regularizers\n",
    "import keras\n",
    "import pandas as pd"
   ]
  },
  {
   "cell_type": "code",
   "execution_count": 2,
   "metadata": {
    "scrolled": true
   },
   "outputs": [
    {
     "name": "stderr",
     "output_type": "stream",
     "text": [
      "C:\\Users\\User\\Documents\\Freshman\\Build 2022\\build2022hackathon\\ML Models\\train_test_generation.py:525: SettingWithCopyWarning: \n",
      "A value is trying to be set on a copy of a slice from a DataFrame\n",
      "\n",
      "See the caveats in the documentation: https://pandas.pydata.org/pandas-docs/stable/user_guide/indexing.html#returning-a-view-versus-a-copy\n",
      "  df[article][ite] = bool(random.getrandbits(1))\n",
      "C:\\Users\\User\\anaconda3\\lib\\site-packages\\pandas\\core\\indexing.py:1637: SettingWithCopyWarning: \n",
      "A value is trying to be set on a copy of a slice from a DataFrame\n",
      "\n",
      "See the caveats in the documentation: https://pandas.pydata.org/pandas-docs/stable/user_guide/indexing.html#returning-a-view-versus-a-copy\n",
      "  self._setitem_single_block(indexer, value, name)\n"
     ]
    }
   ],
   "source": [
    "features, output = train_test_generation.generatefinaldf(10**5, 'ML', 90)"
   ]
  },
  {
   "cell_type": "code",
   "execution_count": 3,
   "metadata": {
    "scrolled": true
   },
   "outputs": [
    {
     "data": {
      "text/html": [
       "<div>\n",
       "<style scoped>\n",
       "    .dataframe tbody tr th:only-of-type {\n",
       "        vertical-align: middle;\n",
       "    }\n",
       "\n",
       "    .dataframe tbody tr th {\n",
       "        vertical-align: top;\n",
       "    }\n",
       "\n",
       "    .dataframe thead th {\n",
       "        text-align: right;\n",
       "    }\n",
       "</style>\n",
       "<table border=\"1\" class=\"dataframe\">\n",
       "  <thead>\n",
       "    <tr style=\"text-align: right;\">\n",
       "      <th></th>\n",
       "      <th>temperature</th>\n",
       "      <th>humidity</th>\n",
       "      <th>precipitation</th>\n",
       "      <th>windspeed</th>\n",
       "      <th>age</th>\n",
       "      <th>weight</th>\n",
       "      <th>height</th>\n",
       "      <th>sex</th>\n",
       "      <th>fatpercentage</th>\n",
       "      <th>bmi</th>\n",
       "      <th>cold_resistance</th>\n",
       "      <th>scoring_difference</th>\n",
       "      <th>adjusted_cold_resistance</th>\n",
       "      <th>preference_factor</th>\n",
       "    </tr>\n",
       "  </thead>\n",
       "  <tbody>\n",
       "    <tr>\n",
       "      <th>0</th>\n",
       "      <td>-12</td>\n",
       "      <td>68</td>\n",
       "      <td>86</td>\n",
       "      <td>13</td>\n",
       "      <td>59</td>\n",
       "      <td>76.350691</td>\n",
       "      <td>165.034328</td>\n",
       "      <td>1</td>\n",
       "      <td>41.809198</td>\n",
       "      <td>28.032665</td>\n",
       "      <td>70.0</td>\n",
       "      <td>-6.833333</td>\n",
       "      <td>73.500</td>\n",
       "      <td>105</td>\n",
       "    </tr>\n",
       "    <tr>\n",
       "      <th>1</th>\n",
       "      <td>-17</td>\n",
       "      <td>17</td>\n",
       "      <td>58</td>\n",
       "      <td>7</td>\n",
       "      <td>24</td>\n",
       "      <td>83.566165</td>\n",
       "      <td>176.487951</td>\n",
       "      <td>0</td>\n",
       "      <td>21.514493</td>\n",
       "      <td>26.828745</td>\n",
       "      <td>72.5</td>\n",
       "      <td>-1.775000</td>\n",
       "      <td>71.775</td>\n",
       "      <td>99</td>\n",
       "    </tr>\n",
       "    <tr>\n",
       "      <th>2</th>\n",
       "      <td>-13</td>\n",
       "      <td>51</td>\n",
       "      <td>38</td>\n",
       "      <td>23</td>\n",
       "      <td>24</td>\n",
       "      <td>96.348209</td>\n",
       "      <td>178.793425</td>\n",
       "      <td>0</td>\n",
       "      <td>25.487776</td>\n",
       "      <td>30.139813</td>\n",
       "      <td>80.0</td>\n",
       "      <td>-7.466667</td>\n",
       "      <td>80.800</td>\n",
       "      <td>101</td>\n",
       "    </tr>\n",
       "    <tr>\n",
       "      <th>3</th>\n",
       "      <td>-9</td>\n",
       "      <td>14</td>\n",
       "      <td>32</td>\n",
       "      <td>21</td>\n",
       "      <td>25</td>\n",
       "      <td>106.733295</td>\n",
       "      <td>179.147332</td>\n",
       "      <td>0</td>\n",
       "      <td>29.458047</td>\n",
       "      <td>33.256706</td>\n",
       "      <td>80.0</td>\n",
       "      <td>-9.333333</td>\n",
       "      <td>76.000</td>\n",
       "      <td>95</td>\n",
       "    </tr>\n",
       "    <tr>\n",
       "      <th>4</th>\n",
       "      <td>13</td>\n",
       "      <td>6</td>\n",
       "      <td>96</td>\n",
       "      <td>16</td>\n",
       "      <td>29</td>\n",
       "      <td>68.463140</td>\n",
       "      <td>163.715886</td>\n",
       "      <td>1</td>\n",
       "      <td>31.921830</td>\n",
       "      <td>25.543192</td>\n",
       "      <td>100.0</td>\n",
       "      <td>0.000000</td>\n",
       "      <td>103.000</td>\n",
       "      <td>103</td>\n",
       "    </tr>\n",
       "  </tbody>\n",
       "</table>\n",
       "</div>"
      ],
      "text/plain": [
       "   temperature  humidity  precipitation  windspeed  age      weight  \\\n",
       "0          -12        68             86         13   59   76.350691   \n",
       "1          -17        17             58          7   24   83.566165   \n",
       "2          -13        51             38         23   24   96.348209   \n",
       "3           -9        14             32         21   25  106.733295   \n",
       "4           13         6             96         16   29   68.463140   \n",
       "\n",
       "       height  sex  fatpercentage        bmi  cold_resistance  \\\n",
       "0  165.034328    1      41.809198  28.032665             70.0   \n",
       "1  176.487951    0      21.514493  26.828745             72.5   \n",
       "2  178.793425    0      25.487776  30.139813             80.0   \n",
       "3  179.147332    0      29.458047  33.256706             80.0   \n",
       "4  163.715886    1      31.921830  25.543192            100.0   \n",
       "\n",
       "   scoring_difference  adjusted_cold_resistance  preference_factor  \n",
       "0           -6.833333                    73.500                105  \n",
       "1           -1.775000                    71.775                 99  \n",
       "2           -7.466667                    80.800                101  \n",
       "3           -9.333333                    76.000                 95  \n",
       "4            0.000000                   103.000                103  "
      ]
     },
     "execution_count": 3,
     "metadata": {},
     "output_type": "execute_result"
    }
   ],
   "source": [
    "features.head()"
   ]
  },
  {
   "cell_type": "code",
   "execution_count": 4,
   "metadata": {},
   "outputs": [
    {
     "data": {
      "text/html": [
       "<div>\n",
       "<style scoped>\n",
       "    .dataframe tbody tr th:only-of-type {\n",
       "        vertical-align: middle;\n",
       "    }\n",
       "\n",
       "    .dataframe tbody tr th {\n",
       "        vertical-align: top;\n",
       "    }\n",
       "\n",
       "    .dataframe thead th {\n",
       "        text-align: right;\n",
       "    }\n",
       "</style>\n",
       "<table border=\"1\" class=\"dataframe\">\n",
       "  <thead>\n",
       "    <tr style=\"text-align: right;\">\n",
       "      <th></th>\n",
       "      <th>thermal</th>\n",
       "      <th>hoodie</th>\n",
       "      <th>fleece</th>\n",
       "      <th>wool</th>\n",
       "      <th>light_down</th>\n",
       "      <th>thick_down</th>\n",
       "      <th>wind_breaker</th>\n",
       "      <th>umbrella</th>\n",
       "      <th>winter_boots</th>\n",
       "      <th>user_feedback</th>\n",
       "    </tr>\n",
       "  </thead>\n",
       "  <tbody>\n",
       "    <tr>\n",
       "      <th>0</th>\n",
       "      <td>False</td>\n",
       "      <td>True</td>\n",
       "      <td>True</td>\n",
       "      <td>True</td>\n",
       "      <td>True</td>\n",
       "      <td>True</td>\n",
       "      <td>False</td>\n",
       "      <td>True</td>\n",
       "      <td>True</td>\n",
       "      <td>0</td>\n",
       "    </tr>\n",
       "    <tr>\n",
       "      <th>1</th>\n",
       "      <td>True</td>\n",
       "      <td>True</td>\n",
       "      <td>True</td>\n",
       "      <td>True</td>\n",
       "      <td>True</td>\n",
       "      <td>True</td>\n",
       "      <td>False</td>\n",
       "      <td>True</td>\n",
       "      <td>True</td>\n",
       "      <td>1</td>\n",
       "    </tr>\n",
       "    <tr>\n",
       "      <th>2</th>\n",
       "      <td>False</td>\n",
       "      <td>True</td>\n",
       "      <td>True</td>\n",
       "      <td>True</td>\n",
       "      <td>True</td>\n",
       "      <td>True</td>\n",
       "      <td>False</td>\n",
       "      <td>False</td>\n",
       "      <td>False</td>\n",
       "      <td>0</td>\n",
       "    </tr>\n",
       "    <tr>\n",
       "      <th>3</th>\n",
       "      <td>False</td>\n",
       "      <td>True</td>\n",
       "      <td>False</td>\n",
       "      <td>True</td>\n",
       "      <td>True</td>\n",
       "      <td>True</td>\n",
       "      <td>False</td>\n",
       "      <td>False</td>\n",
       "      <td>False</td>\n",
       "      <td>0</td>\n",
       "    </tr>\n",
       "    <tr>\n",
       "      <th>4</th>\n",
       "      <td>False</td>\n",
       "      <td>False</td>\n",
       "      <td>False</td>\n",
       "      <td>False</td>\n",
       "      <td>False</td>\n",
       "      <td>False</td>\n",
       "      <td>False</td>\n",
       "      <td>True</td>\n",
       "      <td>False</td>\n",
       "      <td>1</td>\n",
       "    </tr>\n",
       "  </tbody>\n",
       "</table>\n",
       "</div>"
      ],
      "text/plain": [
       "  thermal hoodie fleece   wool light_down thick_down wind_breaker umbrella  \\\n",
       "0   False   True   True   True       True       True        False     True   \n",
       "1    True   True   True   True       True       True        False     True   \n",
       "2   False   True   True   True       True       True        False    False   \n",
       "3   False   True  False   True       True       True        False    False   \n",
       "4   False  False  False  False      False      False        False     True   \n",
       "\n",
       "  winter_boots  user_feedback  \n",
       "0         True              0  \n",
       "1         True              1  \n",
       "2        False              0  \n",
       "3        False              0  \n",
       "4        False              1  "
      ]
     },
     "execution_count": 4,
     "metadata": {},
     "output_type": "execute_result"
    }
   ],
   "source": [
    "output.head()"
   ]
  },
  {
   "cell_type": "code",
   "execution_count": 6,
   "metadata": {},
   "outputs": [],
   "source": [
    "features.to_csv(\"features.csv\", index=False)\n",
    "output.to_csv(\"output.csv\", index=False)"
   ]
  },
  {
   "cell_type": "code",
   "execution_count": 7,
   "metadata": {
    "scrolled": true
   },
   "outputs": [],
   "source": [
    "user_params_df = features[['age', 'weight', 'height', 'sex', 'fatpercentage', 'bmi']]"
   ]
  },
  {
   "cell_type": "code",
   "execution_count": 8,
   "metadata": {},
   "outputs": [],
   "source": [
    "#features.tail()"
   ]
  },
  {
   "cell_type": "code",
   "execution_count": 9,
   "metadata": {
    "scrolled": true
   },
   "outputs": [
    {
     "data": {
      "text/html": [
       "<div>\n",
       "<style scoped>\n",
       "    .dataframe tbody tr th:only-of-type {\n",
       "        vertical-align: middle;\n",
       "    }\n",
       "\n",
       "    .dataframe tbody tr th {\n",
       "        vertical-align: top;\n",
       "    }\n",
       "\n",
       "    .dataframe thead th {\n",
       "        text-align: right;\n",
       "    }\n",
       "</style>\n",
       "<table border=\"1\" class=\"dataframe\">\n",
       "  <thead>\n",
       "    <tr style=\"text-align: right;\">\n",
       "      <th></th>\n",
       "      <th>age</th>\n",
       "      <th>weight</th>\n",
       "      <th>height</th>\n",
       "      <th>sex</th>\n",
       "      <th>fatpercentage</th>\n",
       "      <th>bmi</th>\n",
       "    </tr>\n",
       "  </thead>\n",
       "  <tbody>\n",
       "    <tr>\n",
       "      <th>0</th>\n",
       "      <td>59</td>\n",
       "      <td>76.350691</td>\n",
       "      <td>165.034328</td>\n",
       "      <td>1</td>\n",
       "      <td>41.809198</td>\n",
       "      <td>28.032665</td>\n",
       "    </tr>\n",
       "    <tr>\n",
       "      <th>1</th>\n",
       "      <td>24</td>\n",
       "      <td>83.566165</td>\n",
       "      <td>176.487951</td>\n",
       "      <td>0</td>\n",
       "      <td>21.514493</td>\n",
       "      <td>26.828745</td>\n",
       "    </tr>\n",
       "    <tr>\n",
       "      <th>2</th>\n",
       "      <td>24</td>\n",
       "      <td>96.348209</td>\n",
       "      <td>178.793425</td>\n",
       "      <td>0</td>\n",
       "      <td>25.487776</td>\n",
       "      <td>30.139813</td>\n",
       "    </tr>\n",
       "    <tr>\n",
       "      <th>3</th>\n",
       "      <td>25</td>\n",
       "      <td>106.733295</td>\n",
       "      <td>179.147332</td>\n",
       "      <td>0</td>\n",
       "      <td>29.458047</td>\n",
       "      <td>33.256706</td>\n",
       "    </tr>\n",
       "    <tr>\n",
       "      <th>4</th>\n",
       "      <td>29</td>\n",
       "      <td>68.463140</td>\n",
       "      <td>163.715886</td>\n",
       "      <td>1</td>\n",
       "      <td>31.921830</td>\n",
       "      <td>25.543192</td>\n",
       "    </tr>\n",
       "  </tbody>\n",
       "</table>\n",
       "</div>"
      ],
      "text/plain": [
       "   age      weight      height  sex  fatpercentage        bmi\n",
       "0   59   76.350691  165.034328    1      41.809198  28.032665\n",
       "1   24   83.566165  176.487951    0      21.514493  26.828745\n",
       "2   24   96.348209  178.793425    0      25.487776  30.139813\n",
       "3   25  106.733295  179.147332    0      29.458047  33.256706\n",
       "4   29   68.463140  163.715886    1      31.921830  25.543192"
      ]
     },
     "execution_count": 9,
     "metadata": {},
     "output_type": "execute_result"
    }
   ],
   "source": [
    "user_params_df.head()"
   ]
  },
  {
   "cell_type": "code",
   "execution_count": null,
   "metadata": {
    "scrolled": true
   },
   "outputs": [],
   "source": [
    "#https://www.analyticsvidhya.com/blog/2021/06/complete-guide-on-how-to-use-autoencoders-in-python/"
   ]
  },
  {
   "cell_type": "code",
   "execution_count": null,
   "metadata": {
    "scrolled": true
   },
   "outputs": [],
   "source": [
    "#num = user_params_df.values\n",
    "#num = tf.convert_to_tensor(num)"
   ]
  },
  {
   "cell_type": "code",
   "execution_count": 10,
   "metadata": {
    "scrolled": true
   },
   "outputs": [],
   "source": [
    "from sklearn.preprocessing import MinMaxScaler \n",
    "X = MinMaxScaler().fit_transform(user_params_df)"
   ]
  },
  {
   "cell_type": "code",
   "execution_count": null,
   "metadata": {
    "scrolled": true
   },
   "outputs": [],
   "source": [
    "#https://www.geeksforgeeks.org/ml-classifying-data-using-an-auto-encoder/"
   ]
  },
  {
   "cell_type": "code",
   "execution_count": null,
   "metadata": {
    "scrolled": true
   },
   "outputs": [],
   "source": [
    "input_layer = Input(shape =(X.shape[1], ))"
   ]
  },
  {
   "cell_type": "code",
   "execution_count": null,
   "metadata": {
    "scrolled": true
   },
   "outputs": [],
   "source": [
    "#building the autoencoder network\n",
    "encoded = Dense(100, activation ='linear',\n",
    "                activity_regularizer = regularizers.l1(10e-5))(input_layer)\n",
    "encoded = Dense(50, activation ='linear',\n",
    "                activity_regularizer = regularizers.l1(10e-5))(encoded)\n",
    "encoded = Dense(25, activation ='linear',\n",
    "                activity_regularizer = regularizers.l1(10e-5))(encoded)\n",
    "encoded = Dense(12, activation ='linear',\n",
    "                activity_regularizer = regularizers.l1(10e-5))(encoded)\n",
    "encoded = Dense(4, activation ='linear')(encoded)\n",
    "  \n",
    "# Building the Decoder network\n",
    "decoded = Dense(12, activation ='linear')(encoded)\n",
    "decoded = Dense(25, activation ='linear')(decoded)\n",
    "decoded = Dense(50, activation ='linear')(decoded)\n",
    "decoded = Dense(100, activation ='linear')(decoded)\n",
    "  \n",
    "# Building the Output Layer\n",
    "output_layer = Dense(X.shape[1], activation ='relu')(decoded)\n",
    "output_layer = Dense(X.shape[1], activation ='relu')(decoded)"
   ]
  },
  {
   "cell_type": "code",
   "execution_count": null,
   "metadata": {
    "scrolled": true
   },
   "outputs": [],
   "source": [
    "autoencoder = Model(input_layer, output_layer)\n",
    "autoencoder.compile(optimizer =\"adam\", loss =\"binary_crossentropy\" , metrics=['accuracy'])"
   ]
  },
  {
   "cell_type": "code",
   "execution_count": null,
   "metadata": {
    "scrolled": false
   },
   "outputs": [],
   "source": [
    "autoencoder.fit(X, X, \n",
    "                batch_size = 20, epochs = 25, \n",
    "                shuffle = True, validation_split = 0.20)"
   ]
  },
  {
   "cell_type": "code",
   "execution_count": null,
   "metadata": {
    "scrolled": true
   },
   "outputs": [],
   "source": [
    "# Extracting the embedding\n",
    "encoder = keras.Model(input_layer, encoded)\n",
    "encoded_r = encoder.predict(X)\n",
    "print(encoded_r)"
   ]
  },
  {
   "cell_type": "code",
   "execution_count": null,
   "metadata": {
    "scrolled": true
   },
   "outputs": [],
   "source": [
    "# Transforming to a CSV file using pandas\n",
    "\n",
    "df = pd.DataFrame(encoded_r, columns = [\"Attribute 1\", \"Attribute 2\", \"Attribute 3\", \"Attribute 4\"])\n",
    "print(df)"
   ]
  },
  {
   "cell_type": "code",
   "execution_count": null,
   "metadata": {
    "scrolled": true
   },
   "outputs": [],
   "source": [
    "df.to_csv(\"R_values.csv\", index=False)"
   ]
  },
  {
   "cell_type": "code",
   "execution_count": null,
   "metadata": {},
   "outputs": [],
   "source": []
  }
 ],
 "metadata": {
  "kernelspec": {
   "display_name": "Python 3",
   "language": "python",
   "name": "python3"
  },
  "language_info": {
   "codemirror_mode": {
    "name": "ipython",
    "version": 3
   },
   "file_extension": ".py",
   "mimetype": "text/x-python",
   "name": "python",
   "nbconvert_exporter": "python",
   "pygments_lexer": "ipython3",
   "version": "3.7.4"
  }
 },
 "nbformat": 4,
 "nbformat_minor": 5
}
