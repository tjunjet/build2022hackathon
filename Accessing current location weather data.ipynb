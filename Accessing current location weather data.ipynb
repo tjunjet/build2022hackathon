{
 "cells": [
  {
   "cell_type": "code",
   "execution_count": 1,
   "id": "c09c641f",
   "metadata": {
    "scrolled": false
   },
   "outputs": [],
   "source": [
    "#https://www.geeksforgeeks.org/python-find-current-weather-of-any-city-using-openweathermap-api/\n",
    "import requests\n",
    "import json"
   ]
  },
  {
   "cell_type": "code",
   "execution_count": 2,
   "id": "3e1b9025",
   "metadata": {
    "scrolled": false
   },
   "outputs": [],
   "source": [
    "#https://pretagteam.com/question/how-to-get-current-latitude-and-longitude-in-python\n",
    "import geocoder"
   ]
  },
  {
   "cell_type": "code",
   "execution_count": 10,
   "id": "73edb4fe",
   "metadata": {
    "scrolled": false
   },
   "outputs": [],
   "source": [
    "#takes in api key and connects to openweather api to draw\n",
    "#fields that we want\n",
    "#current.temp (celcius)\n",
    "#current.humidity %\n",
    "#current.wind_speed (meter/sec)\n",
    "#hourly.pop (probability of precipitation)\n",
    "def gettemperaturedata(api):\n",
    "    g = geocoder.ip('me')\n",
    "    lat, lon = g.latlng[0], g.latlng[1]\n",
    "    api_key = api\n",
    "    complete_url = f\"https://api.openweathermap.org/data/2.5/onecall?lat={lat}&lon={lon}&units=metric&exclude=minutely,daily&appid={api_key}\"\n",
    "    response = requests.get(complete_url)    \n",
    "    data = response.json()\n",
    "    if len(data) < 3:\n",
    "        return 'ERROR'\n",
    "    result = {\n",
    "        'temperature' : data['current']['temp'],\n",
    "        'humidity' : data['current']['humidity'], \n",
    "        'precipitation' : data['hourly'][-1]['pop'],\n",
    "        'windspeed' : data['current']['wind_speed'] * 2.237 #in mph\n",
    "\n",
    "    }\n",
    "\n",
    "    return result"
   ]
  },
  {
   "cell_type": "code",
   "execution_count": 11,
   "id": "92a41b01",
   "metadata": {
    "scrolled": false
   },
   "outputs": [],
   "source": [
    "result = gettemperaturedata(\"eb11283d82ed8ad579eca6904e3a6712\")"
   ]
  }
 ],
 "metadata": {
  "kernelspec": {
   "display_name": "Python 3",
   "language": "python",
   "name": "python3"
  },
  "language_info": {
   "codemirror_mode": {
    "name": "ipython",
    "version": 3
   },
   "file_extension": ".py",
   "mimetype": "text/x-python",
   "name": "python",
   "nbconvert_exporter": "python",
   "pygments_lexer": "ipython3",
   "version": "3.8.8"
  }
 },
 "nbformat": 4,
 "nbformat_minor": 5
}
