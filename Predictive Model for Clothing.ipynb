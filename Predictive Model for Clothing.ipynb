{
 "cells": [
  {
   "cell_type": "code",
   "execution_count": 6,
   "id": "f995a4d6",
   "metadata": {},
   "outputs": [],
   "source": [
    "#Preliminary predictive model for clothing predictions"
   ]
  },
  {
   "cell_type": "code",
   "execution_count": 10,
   "id": "2687cacb",
   "metadata": {},
   "outputs": [],
   "source": [
    "import numpy as np\n",
    "import pandas as pd\n",
    "import random\n",
    "import datetime"
   ]
  },
  {
   "cell_type": "code",
   "execution_count": 11,
   "id": "f0e4ae29",
   "metadata": {},
   "outputs": [
    {
     "data": {
      "text/plain": [
       "'\\noutput will be in the form of a boolean array with each index presenting different clothing articles\\n0. short sleve shirt + long pants (always on)\\n1. Thermal (both top and bottom)\\n2. Jacket/Hoodie\\n3. light downjacket\\n4. Thick down/Winter down\\n5. Wind breaker\\n6. Umbrella/Raincoat\\n'"
      ]
     },
     "execution_count": 11,
     "metadata": {},
     "output_type": "execute_result"
    }
   ],
   "source": [
    "#Creating the dataset\n",
    "\n",
    "#features\n",
    "\n",
    "\"\"\"\n",
    "Weather features:\n",
    "1. Temperature (Celcius) (-20 to 25)\n",
    "2. Humidity (%) (relative) (0 to 100)\n",
    "3. Probability of Precipitation (%) (0 to 100)\n",
    "4. Wind speed (mph)\n",
    "\n",
    "User features:\n",
    "1. Age \n",
    "2. Weight (kg)\n",
    "3. Sex\n",
    "4. Height (cm)\n",
    "5. Fat percentage\n",
    "\"\"\"\n",
    "\n",
    "#output\n",
    "\"\"\"\n",
    "output will be in the form of a boolean array with each index presenting different clothing articles\n",
    "0. short sleve shirt + long pants (always on)\n",
    "1. Thermal (both top and bottom)\n",
    "2. Jacket/Hoodie\n",
    "3. light downjacket\n",
    "4. Thick down/Winter down\n",
    "5. Wind breaker\n",
    "6. Umbrella/Raincoat\n",
    "\"\"\""
   ]
  },
  {
   "cell_type": "code",
   "execution_count": 17,
   "id": "47db1cfb",
   "metadata": {},
   "outputs": [],
   "source": [
    "from datetime import date\n",
    "data = []\n",
    "currentdate = date.today()\n",
    "for i in range(100000):\n",
    "    date = (currentdate - datetime.timedelta(i)).strftime(\"%d/%m/%Y\") #display in day/month/year\n",
    "    temperature = random.randint(0, 45) - 20\n",
    "    humidity = random.randint(0, 100)\n",
    "    precipitation = random.randint(0, 100)\n",
    "    windspeed = random.randint(0, 40) #mph\n",
    "    age = random.randint(7, 65)\n",
    "    weight = random.randint(20, 120) #kg\n",
    "    height = random.randint(110, 200) #cm\n",
    "    sex = random.randint(0,1) # 0:M 1:F\n",
    "    #fat percentage formula from\n",
    "    #https://www.gaiam.com/blogs/discover/how-to-calculate-your-ideal-body-fat-percentage\n",
    "    \n",
    "    BMI = weight/(height**2)*10000\n",
    "    if sex == 0:\n",
    "        fatpercentage = (1.20 * BMI) + (0.23 * age) - 16.2\n",
    "        \n",
    "    elif sex == 1:\n",
    "        fatpercentage = (1.20 * BMI) + (0.23 * age) - 5.4\n",
    "        \n",
    "    datapoint = (date, temperature, humidity, precipitation, windspeed, age, weight, height, sex, fatpercentage)\n",
    "    data.append(datapoint)\n",
    "    "
   ]
  },
  {
   "cell_type": "code",
   "execution_count": 21,
   "id": "88c8f2ee",
   "metadata": {},
   "outputs": [],
   "source": [
    "columnstring = 'date,temperature,humidity,precipitation,windspeed,age,weight,height,sex,fatpercentage'\n",
    "column = columnstring.split(',')\n",
    "df = pd.DataFrame(data, columns = column)"
   ]
  },
  {
   "cell_type": "code",
   "execution_count": 23,
   "id": "0fa608f8",
   "metadata": {},
   "outputs": [
    {
     "data": {
      "text/html": [
       "<div>\n",
       "<style scoped>\n",
       "    .dataframe tbody tr th:only-of-type {\n",
       "        vertical-align: middle;\n",
       "    }\n",
       "\n",
       "    .dataframe tbody tr th {\n",
       "        vertical-align: top;\n",
       "    }\n",
       "\n",
       "    .dataframe thead th {\n",
       "        text-align: right;\n",
       "    }\n",
       "</style>\n",
       "<table border=\"1\" class=\"dataframe\">\n",
       "  <thead>\n",
       "    <tr style=\"text-align: right;\">\n",
       "      <th></th>\n",
       "      <th>date</th>\n",
       "      <th>temperature</th>\n",
       "      <th>humidity</th>\n",
       "      <th>precipitation</th>\n",
       "      <th>windspeed</th>\n",
       "      <th>age</th>\n",
       "      <th>weight</th>\n",
       "      <th>height</th>\n",
       "      <th>sex</th>\n",
       "      <th>fatpercentage</th>\n",
       "    </tr>\n",
       "  </thead>\n",
       "  <tbody>\n",
       "    <tr>\n",
       "      <th>0</th>\n",
       "      <td>11/01/2022</td>\n",
       "      <td>22</td>\n",
       "      <td>81</td>\n",
       "      <td>90</td>\n",
       "      <td>33</td>\n",
       "      <td>50</td>\n",
       "      <td>49</td>\n",
       "      <td>173</td>\n",
       "      <td>0</td>\n",
       "      <td>14.946497</td>\n",
       "    </tr>\n",
       "    <tr>\n",
       "      <th>1</th>\n",
       "      <td>10/01/2022</td>\n",
       "      <td>17</td>\n",
       "      <td>85</td>\n",
       "      <td>80</td>\n",
       "      <td>40</td>\n",
       "      <td>25</td>\n",
       "      <td>34</td>\n",
       "      <td>127</td>\n",
       "      <td>0</td>\n",
       "      <td>14.846051</td>\n",
       "    </tr>\n",
       "    <tr>\n",
       "      <th>2</th>\n",
       "      <td>09/01/2022</td>\n",
       "      <td>-12</td>\n",
       "      <td>94</td>\n",
       "      <td>10</td>\n",
       "      <td>8</td>\n",
       "      <td>23</td>\n",
       "      <td>101</td>\n",
       "      <td>150</td>\n",
       "      <td>1</td>\n",
       "      <td>53.756667</td>\n",
       "    </tr>\n",
       "    <tr>\n",
       "      <th>3</th>\n",
       "      <td>08/01/2022</td>\n",
       "      <td>4</td>\n",
       "      <td>62</td>\n",
       "      <td>21</td>\n",
       "      <td>25</td>\n",
       "      <td>35</td>\n",
       "      <td>100</td>\n",
       "      <td>141</td>\n",
       "      <td>0</td>\n",
       "      <td>52.209137</td>\n",
       "    </tr>\n",
       "    <tr>\n",
       "      <th>4</th>\n",
       "      <td>07/01/2022</td>\n",
       "      <td>2</td>\n",
       "      <td>15</td>\n",
       "      <td>54</td>\n",
       "      <td>32</td>\n",
       "      <td>64</td>\n",
       "      <td>34</td>\n",
       "      <td>152</td>\n",
       "      <td>1</td>\n",
       "      <td>26.979280</td>\n",
       "    </tr>\n",
       "  </tbody>\n",
       "</table>\n",
       "</div>"
      ],
      "text/plain": [
       "         date  temperature  humidity  precipitation  windspeed  age  weight  \\\n",
       "0  11/01/2022           22        81             90         33   50      49   \n",
       "1  10/01/2022           17        85             80         40   25      34   \n",
       "2  09/01/2022          -12        94             10          8   23     101   \n",
       "3  08/01/2022            4        62             21         25   35     100   \n",
       "4  07/01/2022            2        15             54         32   64      34   \n",
       "\n",
       "   height  sex  fatpercentage  \n",
       "0     173    0      14.946497  \n",
       "1     127    0      14.846051  \n",
       "2     150    1      53.756667  \n",
       "3     141    0      52.209137  \n",
       "4     152    1      26.979280  "
      ]
     },
     "execution_count": 23,
     "metadata": {},
     "output_type": "execute_result"
    }
   ],
   "source": [
    "df.head()"
   ]
  },
  {
   "cell_type": "code",
   "execution_count": null,
   "id": "e3f8612e",
   "metadata": {},
   "outputs": [],
   "source": [
    "#rules \n",
    "\n",
    "\"\"\"\n",
    "1. Thermal (both top and bottom)\n",
    "2. Jacket/Hoodie\n",
    "3. light downjacket\n",
    "4. Thick down/Winter down\n",
    "5. Wind breaker\n",
    "6. Umbrella/Raincoat\n",
    "\"\"\""
   ]
  }
 ],
 "metadata": {
  "kernelspec": {
   "display_name": "Python 3",
   "language": "python",
   "name": "python3"
  },
  "language_info": {
   "codemirror_mode": {
    "name": "ipython",
    "version": 3
   },
   "file_extension": ".py",
   "mimetype": "text/x-python",
   "name": "python",
   "nbconvert_exporter": "python",
   "pygments_lexer": "ipython3",
   "version": "3.8.8"
  }
 },
 "nbformat": 4,
 "nbformat_minor": 5
}
