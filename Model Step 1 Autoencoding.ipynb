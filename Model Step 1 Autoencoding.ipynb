{
 "cells": [
  {
   "cell_type": "code",
   "execution_count": 1,
   "id": "dfbf6598",
   "metadata": {
    "scrolled": true
   },
   "outputs": [],
   "source": [
    "import train_test_generation\n",
    "from keras.layers import Dense,Conv2D,MaxPooling2D,UpSampling2D\n",
    "from keras import Input, Model\n",
    "from keras.datasets import mnist\n",
    "import numpy as np\n",
    "import matplotlib.pyplot as plt\n",
    "import tensorflow as tf\n",
    "from keras import regularizers"
   ]
  },
  {
   "cell_type": "code",
   "execution_count": 2,
   "id": "f72419a9",
   "metadata": {
    "scrolled": true
   },
   "outputs": [],
   "source": [
    "data = train_test_generation.generateDataset(10**5, 'raw')"
   ]
  },
  {
   "cell_type": "code",
   "execution_count": 3,
   "id": "8846e677",
   "metadata": {
    "scrolled": true
   },
   "outputs": [
    {
     "data": {
      "text/html": [
       "<div>\n",
       "<style scoped>\n",
       "    .dataframe tbody tr th:only-of-type {\n",
       "        vertical-align: middle;\n",
       "    }\n",
       "\n",
       "    .dataframe tbody tr th {\n",
       "        vertical-align: top;\n",
       "    }\n",
       "\n",
       "    .dataframe thead th {\n",
       "        text-align: right;\n",
       "    }\n",
       "</style>\n",
       "<table border=\"1\" class=\"dataframe\">\n",
       "  <thead>\n",
       "    <tr style=\"text-align: right;\">\n",
       "      <th></th>\n",
       "      <th>date</th>\n",
       "      <th>temperature</th>\n",
       "      <th>humidity</th>\n",
       "      <th>precipitation</th>\n",
       "      <th>windspeed</th>\n",
       "      <th>age</th>\n",
       "      <th>weight</th>\n",
       "      <th>height</th>\n",
       "      <th>sex</th>\n",
       "      <th>fatpercentage</th>\n",
       "      <th>...</th>\n",
       "      <th>cold_resistance</th>\n",
       "      <th>thermal</th>\n",
       "      <th>hoodie</th>\n",
       "      <th>fleece</th>\n",
       "      <th>wool</th>\n",
       "      <th>light_down</th>\n",
       "      <th>thick_down</th>\n",
       "      <th>wind_breaker</th>\n",
       "      <th>umbrella</th>\n",
       "      <th>winter_boots</th>\n",
       "    </tr>\n",
       "  </thead>\n",
       "  <tbody>\n",
       "    <tr>\n",
       "      <th>0</th>\n",
       "      <td>13/01/2022</td>\n",
       "      <td>1</td>\n",
       "      <td>54</td>\n",
       "      <td>27</td>\n",
       "      <td>18</td>\n",
       "      <td>59</td>\n",
       "      <td>126.171041</td>\n",
       "      <td>191.197972</td>\n",
       "      <td>0</td>\n",
       "      <td>38.786593</td>\n",
       "      <td>...</td>\n",
       "      <td>70.0</td>\n",
       "      <td>True</td>\n",
       "      <td>True</td>\n",
       "      <td>False</td>\n",
       "      <td>False</td>\n",
       "      <td>False</td>\n",
       "      <td>True</td>\n",
       "      <td>False</td>\n",
       "      <td>False</td>\n",
       "      <td>False</td>\n",
       "    </tr>\n",
       "    <tr>\n",
       "      <th>1</th>\n",
       "      <td>12/01/2022</td>\n",
       "      <td>23</td>\n",
       "      <td>75</td>\n",
       "      <td>76</td>\n",
       "      <td>38</td>\n",
       "      <td>19</td>\n",
       "      <td>72.584686</td>\n",
       "      <td>146.704262</td>\n",
       "      <td>1</td>\n",
       "      <td>39.440707</td>\n",
       "      <td>...</td>\n",
       "      <td>90.0</td>\n",
       "      <td>False</td>\n",
       "      <td>False</td>\n",
       "      <td>False</td>\n",
       "      <td>False</td>\n",
       "      <td>False</td>\n",
       "      <td>False</td>\n",
       "      <td>True</td>\n",
       "      <td>True</td>\n",
       "      <td>False</td>\n",
       "    </tr>\n",
       "    <tr>\n",
       "      <th>2</th>\n",
       "      <td>11/01/2022</td>\n",
       "      <td>24</td>\n",
       "      <td>79</td>\n",
       "      <td>21</td>\n",
       "      <td>24</td>\n",
       "      <td>34</td>\n",
       "      <td>94.628970</td>\n",
       "      <td>171.240883</td>\n",
       "      <td>0</td>\n",
       "      <td>30.344912</td>\n",
       "      <td>...</td>\n",
       "      <td>100.0</td>\n",
       "      <td>False</td>\n",
       "      <td>False</td>\n",
       "      <td>False</td>\n",
       "      <td>False</td>\n",
       "      <td>False</td>\n",
       "      <td>False</td>\n",
       "      <td>False</td>\n",
       "      <td>False</td>\n",
       "      <td>False</td>\n",
       "    </tr>\n",
       "    <tr>\n",
       "      <th>3</th>\n",
       "      <td>10/01/2022</td>\n",
       "      <td>-4</td>\n",
       "      <td>35</td>\n",
       "      <td>1</td>\n",
       "      <td>13</td>\n",
       "      <td>56</td>\n",
       "      <td>100.132516</td>\n",
       "      <td>157.595977</td>\n",
       "      <td>1</td>\n",
       "      <td>55.860029</td>\n",
       "      <td>...</td>\n",
       "      <td>70.0</td>\n",
       "      <td>False</td>\n",
       "      <td>True</td>\n",
       "      <td>True</td>\n",
       "      <td>False</td>\n",
       "      <td>True</td>\n",
       "      <td>True</td>\n",
       "      <td>False</td>\n",
       "      <td>False</td>\n",
       "      <td>False</td>\n",
       "    </tr>\n",
       "    <tr>\n",
       "      <th>4</th>\n",
       "      <td>09/01/2022</td>\n",
       "      <td>-12</td>\n",
       "      <td>42</td>\n",
       "      <td>3</td>\n",
       "      <td>8</td>\n",
       "      <td>44</td>\n",
       "      <td>85.532023</td>\n",
       "      <td>168.084876</td>\n",
       "      <td>1</td>\n",
       "      <td>41.048939</td>\n",
       "      <td>...</td>\n",
       "      <td>80.0</td>\n",
       "      <td>False</td>\n",
       "      <td>False</td>\n",
       "      <td>True</td>\n",
       "      <td>True</td>\n",
       "      <td>True</td>\n",
       "      <td>True</td>\n",
       "      <td>False</td>\n",
       "      <td>False</td>\n",
       "      <td>False</td>\n",
       "    </tr>\n",
       "  </tbody>\n",
       "</table>\n",
       "<p>5 rows × 21 columns</p>\n",
       "</div>"
      ],
      "text/plain": [
       "         date  temperature  humidity  precipitation  windspeed  age  \\\n",
       "0  13/01/2022            1        54             27         18   59   \n",
       "1  12/01/2022           23        75             76         38   19   \n",
       "2  11/01/2022           24        79             21         24   34   \n",
       "3  10/01/2022           -4        35              1         13   56   \n",
       "4  09/01/2022          -12        42              3          8   44   \n",
       "\n",
       "       weight      height  sex  fatpercentage  ...  cold_resistance  thermal  \\\n",
       "0  126.171041  191.197972    0      38.786593  ...             70.0     True   \n",
       "1   72.584686  146.704262    1      39.440707  ...             90.0    False   \n",
       "2   94.628970  171.240883    0      30.344912  ...            100.0    False   \n",
       "3  100.132516  157.595977    1      55.860029  ...             70.0    False   \n",
       "4   85.532023  168.084876    1      41.048939  ...             80.0    False   \n",
       "\n",
       "   hoodie  fleece   wool  light_down  thick_down  wind_breaker  umbrella  \\\n",
       "0    True   False  False       False        True         False     False   \n",
       "1   False   False  False       False       False          True      True   \n",
       "2   False   False  False       False       False         False     False   \n",
       "3    True    True  False        True        True         False     False   \n",
       "4   False    True   True        True        True         False     False   \n",
       "\n",
       "   winter_boots  \n",
       "0         False  \n",
       "1         False  \n",
       "2         False  \n",
       "3         False  \n",
       "4         False  \n",
       "\n",
       "[5 rows x 21 columns]"
      ]
     },
     "execution_count": 3,
     "metadata": {},
     "output_type": "execute_result"
    }
   ],
   "source": [
    "data.head()"
   ]
  },
  {
   "cell_type": "code",
   "execution_count": 4,
   "id": "3d9e5501",
   "metadata": {
    "scrolled": true
   },
   "outputs": [],
   "source": [
    "user_params_df = data[['age', 'weight', 'height', 'sex', 'fatpercentage', 'bmi']]"
   ]
  },
  {
   "cell_type": "code",
   "execution_count": 5,
   "id": "88a83676",
   "metadata": {
    "scrolled": true
   },
   "outputs": [
    {
     "data": {
      "text/html": [
       "<div>\n",
       "<style scoped>\n",
       "    .dataframe tbody tr th:only-of-type {\n",
       "        vertical-align: middle;\n",
       "    }\n",
       "\n",
       "    .dataframe tbody tr th {\n",
       "        vertical-align: top;\n",
       "    }\n",
       "\n",
       "    .dataframe thead th {\n",
       "        text-align: right;\n",
       "    }\n",
       "</style>\n",
       "<table border=\"1\" class=\"dataframe\">\n",
       "  <thead>\n",
       "    <tr style=\"text-align: right;\">\n",
       "      <th></th>\n",
       "      <th>age</th>\n",
       "      <th>weight</th>\n",
       "      <th>height</th>\n",
       "      <th>sex</th>\n",
       "      <th>fatpercentage</th>\n",
       "      <th>bmi</th>\n",
       "    </tr>\n",
       "  </thead>\n",
       "  <tbody>\n",
       "    <tr>\n",
       "      <th>0</th>\n",
       "      <td>59</td>\n",
       "      <td>126.171041</td>\n",
       "      <td>191.197972</td>\n",
       "      <td>0</td>\n",
       "      <td>38.786593</td>\n",
       "      <td>34.513827</td>\n",
       "    </tr>\n",
       "    <tr>\n",
       "      <th>1</th>\n",
       "      <td>19</td>\n",
       "      <td>72.584686</td>\n",
       "      <td>146.704262</td>\n",
       "      <td>1</td>\n",
       "      <td>39.440707</td>\n",
       "      <td>33.725589</td>\n",
       "    </tr>\n",
       "    <tr>\n",
       "      <th>2</th>\n",
       "      <td>34</td>\n",
       "      <td>94.628970</td>\n",
       "      <td>171.240883</td>\n",
       "      <td>0</td>\n",
       "      <td>30.344912</td>\n",
       "      <td>32.270760</td>\n",
       "    </tr>\n",
       "    <tr>\n",
       "      <th>3</th>\n",
       "      <td>56</td>\n",
       "      <td>100.132516</td>\n",
       "      <td>157.595977</td>\n",
       "      <td>1</td>\n",
       "      <td>55.860029</td>\n",
       "      <td>40.316691</td>\n",
       "    </tr>\n",
       "    <tr>\n",
       "      <th>4</th>\n",
       "      <td>44</td>\n",
       "      <td>85.532023</td>\n",
       "      <td>168.084876</td>\n",
       "      <td>1</td>\n",
       "      <td>41.048939</td>\n",
       "      <td>30.274116</td>\n",
       "    </tr>\n",
       "  </tbody>\n",
       "</table>\n",
       "</div>"
      ],
      "text/plain": [
       "   age      weight      height  sex  fatpercentage        bmi\n",
       "0   59  126.171041  191.197972    0      38.786593  34.513827\n",
       "1   19   72.584686  146.704262    1      39.440707  33.725589\n",
       "2   34   94.628970  171.240883    0      30.344912  32.270760\n",
       "3   56  100.132516  157.595977    1      55.860029  40.316691\n",
       "4   44   85.532023  168.084876    1      41.048939  30.274116"
      ]
     },
     "execution_count": 5,
     "metadata": {},
     "output_type": "execute_result"
    }
   ],
   "source": [
    "user_params_df.head()"
   ]
  },
  {
   "cell_type": "code",
   "execution_count": 6,
   "id": "a8fe983b",
   "metadata": {
    "scrolled": true
   },
   "outputs": [],
   "source": [
    "#https://www.analyticsvidhya.com/blog/2021/06/complete-guide-on-how-to-use-autoencoders-in-python/"
   ]
  },
  {
   "cell_type": "code",
   "execution_count": 7,
   "id": "7a08366c",
   "metadata": {
    "scrolled": true
   },
   "outputs": [],
   "source": [
    "#num = user_params_df.values\n",
    "#num = tf.convert_to_tensor(num)"
   ]
  },
  {
   "cell_type": "code",
   "execution_count": 8,
   "id": "b7769d37",
   "metadata": {
    "scrolled": true
   },
   "outputs": [],
   "source": [
    "from sklearn.preprocessing import MinMaxScaler \n",
    "X = MinMaxScaler().fit_transform(user_params_df)"
   ]
  },
  {
   "cell_type": "code",
   "execution_count": 9,
   "id": "e9660141",
   "metadata": {
    "scrolled": true
   },
   "outputs": [],
   "source": [
    "#https://www.geeksforgeeks.org/ml-classifying-data-using-an-auto-encoder/"
   ]
  },
  {
   "cell_type": "code",
   "execution_count": 10,
   "id": "a0896386",
   "metadata": {
    "scrolled": true
   },
   "outputs": [],
   "source": [
    "input_layer = Input(shape =(X.shape[1], ))"
   ]
  },
  {
   "cell_type": "code",
   "execution_count": 20,
   "id": "8b4994a4",
   "metadata": {
    "scrolled": true
   },
   "outputs": [],
   "source": [
    "#building the autoencoder network\n",
    "encoded = Dense(100, activation ='linear',\n",
    "                activity_regularizer = regularizers.l1(10e-5))(input_layer)\n",
    "encoded = Dense(50, activation ='linear',\n",
    "                activity_regularizer = regularizers.l1(10e-5))(encoded)\n",
    "encoded = Dense(25, activation ='linear',\n",
    "                activity_regularizer = regularizers.l1(10e-5))(encoded)\n",
    "encoded = Dense(12, activation ='linear',\n",
    "                activity_regularizer = regularizers.l1(10e-5))(encoded)\n",
    "encoded = Dense(6, activation ='linear')(encoded)\n",
    "  \n",
    "# Building the Decoder network\n",
    "decoded = Dense(12, activation ='linear')(encoded)\n",
    "decoded = Dense(25, activation ='linear')(decoded)\n",
    "decoded = Dense(50, activation ='linear')(decoded)\n",
    "decoded = Dense(100, activation ='linear')(decoded)\n",
    "  \n",
    "# Building the Output Layer\n",
    "output_layer = Dense(X.shape[1], activation ='relu')(decoded)\n",
    "output_layer = Dense(X.shape[1], activation ='relu')(decoded)"
   ]
  },
  {
   "cell_type": "code",
   "execution_count": 21,
   "id": "08ee1d8b",
   "metadata": {
    "scrolled": true
   },
   "outputs": [],
   "source": [
    "autoencoder = Model(input_layer, output_layer)\n",
    "autoencoder.compile(optimizer =\"adam\", loss =\"binary_crossentropy\" , metrics=['accuracy'])"
   ]
  },
  {
   "cell_type": "code",
   "execution_count": 28,
   "id": "150a8372",
   "metadata": {
    "scrolled": false
   },
   "outputs": [
    {
     "name": "stdout",
     "output_type": "stream",
     "text": [
      "Epoch 1/25\n",
      "4000/4000 [==============================] - 5s 1ms/step - loss: 0.5243 - accuracy: 0.9603 - val_loss: 0.5239 - val_accuracy: 0.9474\n",
      "Epoch 2/25\n",
      "4000/4000 [==============================] - 5s 1ms/step - loss: 0.5770 - accuracy: 0.9249 - val_loss: 0.5225 - val_accuracy: 0.9837\n",
      "Epoch 3/25\n",
      "4000/4000 [==============================] - 5s 1ms/step - loss: 0.5238 - accuracy: 0.9664 - val_loss: 0.5223 - val_accuracy: 0.9822\n",
      "Epoch 4/25\n",
      "4000/4000 [==============================] - 5s 1ms/step - loss: 0.5218 - accuracy: 0.9756 - val_loss: 0.5228 - val_accuracy: 0.9775\n",
      "Epoch 5/25\n",
      "4000/4000 [==============================] - 5s 1ms/step - loss: 0.5220 - accuracy: 0.9748 - val_loss: 0.5217 - val_accuracy: 0.9843\n",
      "Epoch 6/25\n",
      "4000/4000 [==============================] - 5s 1ms/step - loss: 0.5232 - accuracy: 0.9701 - val_loss: 0.5218 - val_accuracy: 0.9840\n",
      "Epoch 7/25\n",
      "4000/4000 [==============================] - 5s 1ms/step - loss: 0.5229 - accuracy: 0.9697 - val_loss: 0.5224 - val_accuracy: 0.9847\n",
      "Epoch 8/25\n",
      "4000/4000 [==============================] - 5s 1ms/step - loss: 0.5220 - accuracy: 0.9748 - val_loss: 0.5218 - val_accuracy: 0.9830\n",
      "Epoch 9/25\n",
      "4000/4000 [==============================] - 5s 1ms/step - loss: 0.5240 - accuracy: 0.9691 - val_loss: 0.5503 - val_accuracy: 0.8249\n",
      "Epoch 10/25\n",
      "4000/4000 [==============================] - 5s 1ms/step - loss: 0.6028 - accuracy: 0.9565 - val_loss: 0.5219 - val_accuracy: 0.9785\n",
      "Epoch 11/25\n",
      "4000/4000 [==============================] - 5s 1ms/step - loss: 0.5232 - accuracy: 0.9681 - val_loss: 0.5217 - val_accuracy: 0.9812\n",
      "Epoch 12/25\n",
      "4000/4000 [==============================] - 5s 1ms/step - loss: 0.5269 - accuracy: 0.9511 - val_loss: 0.5236 - val_accuracy: 0.9367\n",
      "Epoch 13/25\n",
      "4000/4000 [==============================] - 5s 1ms/step - loss: 0.5250 - accuracy: 0.9575 - val_loss: 0.5220 - val_accuracy: 0.9827\n",
      "Epoch 14/25\n",
      "4000/4000 [==============================] - 5s 1ms/step - loss: 0.5220 - accuracy: 0.9747 - val_loss: 0.5216 - val_accuracy: 0.9807\n",
      "Epoch 15/25\n",
      "4000/4000 [==============================] - 5s 1ms/step - loss: 0.5409 - accuracy: 0.9556 - val_loss: 0.5221 - val_accuracy: 0.9831\n",
      "Epoch 16/25\n",
      "4000/4000 [==============================] - 5s 1ms/step - loss: 0.5267 - accuracy: 0.9470 - val_loss: 0.5220 - val_accuracy: 0.9801\n",
      "Epoch 17/25\n",
      "4000/4000 [==============================] - 5s 1ms/step - loss: 0.5220 - accuracy: 0.9749 - val_loss: 0.5215 - val_accuracy: 0.9782\n",
      "Epoch 18/25\n",
      "4000/4000 [==============================] - 5s 1ms/step - loss: 0.5252 - accuracy: 0.9608 - val_loss: 0.5218 - val_accuracy: 0.9840\n",
      "Epoch 19/25\n",
      "4000/4000 [==============================] - 5s 1ms/step - loss: 0.5295 - accuracy: 0.9407 - val_loss: 0.5237 - val_accuracy: 0.9589\n",
      "Epoch 20/25\n",
      "4000/4000 [==============================] - 5s 1ms/step - loss: 0.5229 - accuracy: 0.9710 - val_loss: 0.5222 - val_accuracy: 0.9820\n",
      "Epoch 21/25\n",
      "4000/4000 [==============================] - 5s 1ms/step - loss: 0.5367 - accuracy: 0.9592 - val_loss: 0.5226 - val_accuracy: 0.9815\n",
      "Epoch 22/25\n",
      "4000/4000 [==============================] - 5s 1ms/step - loss: 1.2775 - accuracy: 0.6757 - val_loss: 1.8095 - val_accuracy: 0.4999\n",
      "Epoch 23/25\n",
      "4000/4000 [==============================] - 5s 1ms/step - loss: 1.3236 - accuracy: 0.6687 - val_loss: 0.5223 - val_accuracy: 0.9814\n",
      "Epoch 24/25\n",
      "4000/4000 [==============================] - 5s 1ms/step - loss: 0.5223 - accuracy: 0.9742 - val_loss: 0.5217 - val_accuracy: 0.9841\n",
      "Epoch 25/25\n",
      "4000/4000 [==============================] - 5s 1ms/step - loss: 0.5226 - accuracy: 0.9686 - val_loss: 0.5220 - val_accuracy: 0.9727\n"
     ]
    },
    {
     "data": {
      "text/plain": [
       "<keras.callbacks.History at 0x23848f3b760>"
      ]
     },
     "execution_count": 28,
     "metadata": {},
     "output_type": "execute_result"
    }
   ],
   "source": [
    "autoencoder.fit(X, X, \n",
    "                batch_size = 20, epochs = 25, \n",
    "                shuffle = True, validation_split = 0.20)"
   ]
  },
  {
   "cell_type": "code",
   "execution_count": 29,
   "id": "cd172e82",
   "metadata": {
    "scrolled": true
   },
   "outputs": [
    {
     "data": {
      "text/plain": [
       "<KerasTensor: shape=(None, 6) dtype=float32 (created by layer 'dense_37')>"
      ]
     },
     "execution_count": 29,
     "metadata": {},
     "output_type": "execute_result"
    }
   ],
   "source": [
    "encoded"
   ]
  },
  {
   "cell_type": "code",
   "execution_count": null,
   "id": "28c47db5",
   "metadata": {
    "scrolled": true
   },
   "outputs": [],
   "source": []
  },
  {
   "cell_type": "code",
   "execution_count": null,
   "id": "be32ad6a",
   "metadata": {
    "scrolled": true
   },
   "outputs": [],
   "source": []
  }
 ],
 "metadata": {
  "kernelspec": {
   "display_name": "Python 3",
   "language": "python",
   "name": "python3"
  },
  "language_info": {
   "codemirror_mode": {
    "name": "ipython",
    "version": 3
   },
   "file_extension": ".py",
   "mimetype": "text/x-python",
   "name": "python",
   "nbconvert_exporter": "python",
   "pygments_lexer": "ipython3",
   "version": "3.8.8"
  }
 },
 "nbformat": 4,
 "nbformat_minor": 5
}
