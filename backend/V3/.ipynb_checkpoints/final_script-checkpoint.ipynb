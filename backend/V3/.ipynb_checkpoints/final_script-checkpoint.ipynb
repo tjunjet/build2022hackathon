{
 "cells": [
  {
   "cell_type": "code",
   "execution_count": 2,
   "id": "359e5a62",
   "metadata": {
    "scrolled": true
   },
   "outputs": [
    {
     "name": "stdout",
     "output_type": "stream",
     "text": [
      "62.5\n"
     ]
    }
   ],
   "source": [
    "import train_test_generation\n",
    "import pandas as pd\n",
    "import random\n",
    "import tensorflow as tf\n",
    "import numpy as np"
   ]
  },
  {
   "cell_type": "code",
   "execution_count": 3,
   "id": "930e399b",
   "metadata": {
    "scrolled": true
   },
   "outputs": [],
   "source": [
    "#user data\n",
    "mydict = {\n",
    "    'temperature' : 12,\n",
    "    'humidity' : 20,\n",
    "    'precipitation' : 60,\n",
    "    'windSpeed' : 30,\n",
    "    'age' : 25,\n",
    "    'weight' : 50.0,\n",
    "    'height' : 170,\n",
    "    'sex' : 1,\n",
    "    'fatpercentage' : 10.0,\n",
    "    'bmi' : 10.0,\n",
    "    'clothes' : {\n",
    "        'thermal' : True, #(both top and bottom)\n",
    "        'hoodie' : True,\n",
    "        'fleece' : True,\n",
    "        'wool' : True,\n",
    "        'light_down' : True,\n",
    "        'thick_down' : True,\n",
    "        'wind_breaker' : False,\n",
    "        'umbrella' : False,\n",
    "        'winter_boots': False\n",
    "    }\n",
    "}"
   ]
  },
  {
   "cell_type": "code",
   "execution_count": 4,
   "id": "c6565fef",
   "metadata": {
    "scrolled": true
   },
   "outputs": [],
   "source": [
    "clothesmap = {\n",
    "    'thermal' : 0, #(both top and bottom)\n",
    "    'hoodie' : 1,\n",
    "    'fleece' : 2,\n",
    "    'wool' : 3,\n",
    "    'light_down' : 4,\n",
    "    'thick_down' : 5,\n",
    "}"
   ]
  },
  {
   "cell_type": "code",
   "execution_count": 5,
   "id": "ea53a7d0",
   "metadata": {
    "scrolled": true
   },
   "outputs": [],
   "source": [
    "def possibleCombinations(mydict, N):\n",
    "    #array containing all possible N bit strings\n",
    "    result = []\n",
    "    for i in range(0, 2**N):\n",
    "        ans = \"{0:0>6b}\".format(i)\n",
    "        result.append(ans)\n",
    "        \n",
    "    #key is clothes (9 values) value is True/False\n",
    "    current_clothes = mydict['clothes']\n",
    "    \n",
    "    #conversion\n",
    "    adapted_clothesList = []\n",
    "    for article in current_clothes:\n",
    "        if article in clothesmap:\n",
    "            if current_clothes[article] == True:\n",
    "                adapted_clothesList.append(1)\n",
    "            else:\n",
    "                adapted_clothesList.append(0)\n",
    "                \n",
    "    check = 0\n",
    "    #filtering\n",
    "    final_result = []\n",
    "    for i in range(len(result)):\n",
    "        check = 0\n",
    "        #this is a 6 bit string\n",
    "        possible_combination = result[i]\n",
    "        \n",
    "        \n",
    "        #checks if the possble combination is valid\n",
    "        for index in range(N):\n",
    "            #if you dont have and the predicton\n",
    "            if adapted_clothesList[index] == 0 and int(possible_combination[index]) == 1:\n",
    "                check = 1\n",
    "                break\n",
    "        if check == 1:\n",
    "            continue\n",
    "        else:\n",
    "            data = {}\n",
    "            for article in clothesmap:\n",
    "                data[article] = possible_combination[clothesmap[article]]\n",
    "\n",
    "            final_result.append(data)\n",
    "        \n",
    "    \n",
    "    \n",
    "    return pd.DataFrame(final_result)\n",
    "            "
   ]
  },
  {
   "cell_type": "code",
   "execution_count": null,
   "id": "09545e59",
   "metadata": {
    "scrolled": true
   },
   "outputs": [],
   "source": []
  },
  {
   "cell_type": "code",
   "execution_count": 6,
   "id": "b685f86f",
   "metadata": {
    "scrolled": true
   },
   "outputs": [],
   "source": [
    "#possibleCombinations = possibleCombinations(mydict, 6)\n",
    "#possibleCombinations"
   ]
  },
  {
   "cell_type": "code",
   "execution_count": 7,
   "id": "d9cf6ef3",
   "metadata": {
    "scrolled": true
   },
   "outputs": [],
   "source": [
    "heatmap = {\n",
    "    'thermal' : 30, #(both top and bottom)\n",
    "    'hoodie' : 10,\n",
    "    'fleece' : 20,\n",
    "    'wool' : 40,\n",
    "    'light_down' : 50,\n",
    "    'thick_down' : 60\n",
    "}"
   ]
  },
  {
   "cell_type": "code",
   "execution_count": 8,
   "id": "0bf25b78",
   "metadata": {
    "scrolled": true
   },
   "outputs": [],
   "source": [
    "def getscoringdifference(temperature, cold_resistance, thermal, hoodie, fleece, wool, light_down, thick_down):\n",
    "    insulation_calculation = -1 * (300/45) * temperature + (-1) * (300/45)* (-25)\n",
    "    insulation_required = insulation_calculation - cold_resistance\n",
    "    heat_provided = 0\n",
    "    \n",
    "    if thermal == 1:\n",
    "        #print('yay')\n",
    "        heat_provided += heatmap['thermal']\n",
    "    \n",
    "    if hoodie == 1:\n",
    "        heat_provided += heatmap['hoodie']\n",
    "        \n",
    "    if fleece == 1:\n",
    "        heat_provided += heatmap['fleece']\n",
    "        \n",
    "    if wool == 1:\n",
    "        heat_provided += heatmap['wool']\n",
    "        \n",
    "    if light_down == 1:\n",
    "        heat_provided += heatmap['light_down']\n",
    "        \n",
    "    if thick_down == 1:\n",
    "        heat_provided += heatmap['thick_down']\n",
    "    \n",
    "    scoring_difference = heat_provided - insulation_required\n",
    "    \n",
    "    return scoring_difference"
   ]
  },
  {
   "cell_type": "code",
   "execution_count": 9,
   "id": "aa5d5699",
   "metadata": {
    "scrolled": true
   },
   "outputs": [],
   "source": [
    "possible = possibleCombinations(mydict, 6)"
   ]
  },
  {
   "cell_type": "code",
   "execution_count": 10,
   "id": "c061c4b5",
   "metadata": {
    "scrolled": true
   },
   "outputs": [],
   "source": [
    "#possible.shape"
   ]
  },
  {
   "cell_type": "code",
   "execution_count": 11,
   "id": "427a2a68",
   "metadata": {
    "scrolled": true
   },
   "outputs": [],
   "source": [
    "def getUserFeedback(scoring_difference):\n",
    "    if scoring_difference < -5:\n",
    "        return 0 # too hot\n",
    "    elif scoring_difference > 5:\n",
    "        return 2 # too hot\n",
    "    else:\n",
    "        return 1 # ok"
   ]
  },
  {
   "cell_type": "code",
   "execution_count": 12,
   "id": "c9cfa487",
   "metadata": {
    "scrolled": true
   },
   "outputs": [],
   "source": [
    "def generatefinaldataframe(mydict):\n",
    "    newdict = {}\n",
    "    for key in mydict:\n",
    "        if key != 'clothes':\n",
    "            newdict[key] = mydict[key]\n",
    "            \n",
    "    #print(newdict)\n",
    "    \n",
    "    userdataframe = pd.DataFrame(newdict, index = [0])\n",
    "    #print(userdataframe)\n",
    "    userdataframe['cold_resistance'] = userdataframe.apply(lambda row : train_test_generation.coldresistance(row['sex'], row['age'], row['fatpercentage'], row['bmi']), axis = 1)\n",
    "    preference_factor = random.randint(95, 105)\n",
    "    userdataframe['preference_factor'] = preference_factor\n",
    "    userdataframe['adjusted_cold_resistance'] = userdataframe['cold_resistance'] * preference_factor/100\n",
    "    \n",
    "    duplicated_df = pd.concat([userdataframe] * possible.shape[0], ignore_index = True)\n",
    "    #print(duplicated_df)\n",
    "    ans = pd.concat([duplicated_df, possible], axis = 1)\n",
    "    for _ in heatmap:\n",
    "        ans[_] = ans[_].astype(int)\n",
    "    \n",
    "    ans['scoring_difference_recalibrated'] = ans.apply(lambda row : getscoringdifference(row['temperature'], row['adjusted_cold_resistance'], row['thermal'], row['hoodie'], row['fleece'], row['wool'], row['light_down'], row['thick_down']), axis = 1)\n",
    "    ans['userfeedback'] = ans.apply(lambda row: getUserFeedback(row['scoring_difference_recalibrated']), axis = 1)\n",
    "    return ans\n"
   ]
  },
  {
   "cell_type": "code",
   "execution_count": 13,
   "id": "986631a6",
   "metadata": {
    "scrolled": true
   },
   "outputs": [],
   "source": [
    "def generatePrediction(mydict):\n",
    "    ans = generatefinaldataframe(mydict)\n",
    "    encoder_model = tf.keras.models.load_model(\"encoder-V2.h5\", compile = True)        \n",
    "    user_params = ['age', 'weight', 'height', 'sex', 'fatpercentage', 'bmi']\n",
    "    user_data = []\n",
    "    for param in user_params:\n",
    "        user_data.append(mydict[param])\n",
    "\n",
    "    #user_data\n",
    "    user_data_np = np.array([user_data])\n",
    "    user_data_np\n",
    "    encoded_test_data = encoder_model.predict(user_data_np)\n",
    "    ans[\"R1\"] = encoded_test_data[0][0]\n",
    "    ans[\"R2\"] = encoded_test_data[0][1]\n",
    "    ans[\"R3\"] = encoded_test_data[0][2]\n",
    "    ans[\"R4\"] = encoded_test_data[0][3]\n",
    "    ann_model = tf.keras.models.load_model(\"ANN_V6.h5\")\n",
    "    features = ans[['temperature', 'humidity', 'precipitation', 'windSpeed', 'thermal', 'hoodie','fleece', 'wool', 'light_down', 'thick_down', 'R1', 'R2', 'R3','R4']]\n",
    "    from sklearn.preprocessing import StandardScaler\n",
    "    sc = StandardScaler()\n",
    "    X = sc.fit_transform(features)\n",
    "\n",
    "    suggested_clothing = ann_model.predict(X)\n",
    "    best_index = -1\n",
    "    best_score = 10000\n",
    "    for i in range(len(suggested_clothing)):\n",
    "        difference = abs(suggested_clothing[i][0])\n",
    "        if difference < best_score:\n",
    "            best_score = difference\n",
    "            best_index = i\n",
    "            \n",
    "    prediction = features.iloc[[best_index]]\n",
    "    result = prediction[['thermal','hoodie', 'fleece', 'wool', 'light_down', 'thick_down']]\n",
    "    if features['windSpeed'][0] >= 25:\n",
    "        result['windbreaker'] = 1\n",
    "    else:\n",
    "        result['windbreaker'] = 0\n",
    "\n",
    "    if features['precipitation'][0] >= 50:\n",
    "        result['umbrella'] = 1\n",
    "    else:\n",
    "        result['umbrella'] = 0\n",
    "\n",
    "    if features['precipitation'][0] >= 50 and features['temperature'][0] <= 5:\n",
    "        result['winter_boots'] = 1\n",
    "    else:\n",
    "        result['winter_boots'] = 0\n",
    "    intermediate_ans = result.to_dict('list')\n",
    "    final_prediction = {}\n",
    "    for _ in intermediate_ans:\n",
    "        final_prediction[_] = bool(intermediate_ans[_][0])\n",
    "    return final_prediction\n",
    "\n"
   ]
  },
  {
   "cell_type": "code",
   "execution_count": 14,
   "id": "e793218d",
   "metadata": {},
   "outputs": [
    {
     "name": "stdout",
     "output_type": "stream",
     "text": [
      "WARNING:tensorflow:No training configuration found in the save file, so the model was *not* compiled. Compile it manually.\n"
     ]
    },
    {
     "name": "stderr",
     "output_type": "stream",
     "text": [
      "<ipython-input-13-a4ba87098d8a>:35: SettingWithCopyWarning: \n",
      "A value is trying to be set on a copy of a slice from a DataFrame.\n",
      "Try using .loc[row_indexer,col_indexer] = value instead\n",
      "\n",
      "See the caveats in the documentation: https://pandas.pydata.org/pandas-docs/stable/user_guide/indexing.html#returning-a-view-versus-a-copy\n",
      "  result['windbreaker'] = 1\n",
      "<ipython-input-13-a4ba87098d8a>:40: SettingWithCopyWarning: \n",
      "A value is trying to be set on a copy of a slice from a DataFrame.\n",
      "Try using .loc[row_indexer,col_indexer] = value instead\n",
      "\n",
      "See the caveats in the documentation: https://pandas.pydata.org/pandas-docs/stable/user_guide/indexing.html#returning-a-view-versus-a-copy\n",
      "  result['umbrella'] = 1\n",
      "<ipython-input-13-a4ba87098d8a>:47: SettingWithCopyWarning: \n",
      "A value is trying to be set on a copy of a slice from a DataFrame.\n",
      "Try using .loc[row_indexer,col_indexer] = value instead\n",
      "\n",
      "See the caveats in the documentation: https://pandas.pydata.org/pandas-docs/stable/user_guide/indexing.html#returning-a-view-versus-a-copy\n",
      "  result['winter_boots'] = 0\n"
     ]
    },
    {
     "data": {
      "text/plain": [
       "{'thermal': True,\n",
       " 'hoodie': True,\n",
       " 'fleece': True,\n",
       " 'wool': False,\n",
       " 'light_down': False,\n",
       " 'thick_down': False,\n",
       " 'windbreaker': True,\n",
       " 'umbrella': True,\n",
       " 'winter_boots': False}"
      ]
     },
     "execution_count": 14,
     "metadata": {},
     "output_type": "execute_result"
    }
   ],
   "source": [
    "#generatePrediction(mydict)"
   ]
  }
 ],
 "metadata": {
  "kernelspec": {
   "display_name": "Python 3",
   "language": "python",
   "name": "python3"
  },
  "language_info": {
   "codemirror_mode": {
    "name": "ipython",
    "version": 3
   },
   "file_extension": ".py",
   "mimetype": "text/x-python",
   "name": "python",
   "nbconvert_exporter": "python",
   "pygments_lexer": "ipython3",
   "version": "3.8.8"
  }
 },
 "nbformat": 4,
 "nbformat_minor": 5
}
